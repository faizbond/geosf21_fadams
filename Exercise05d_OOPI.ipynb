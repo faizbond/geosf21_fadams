{
 "cells": [
  {
   "cell_type": "markdown",
   "id": "4020bd1c-5d5d-4a96-b571-1f9db63085a3",
   "metadata": {},
   "source": [
    "\"Geo Data Science with Python\" \n",
    "### Notebook Exercise 5d\n",
    "\n",
    "---\n",
    "\n",
    "# Opject-Oriented Programming with Python\n",
    "\n",
    "This exercise revises basic concepts of using classes in Python. \n",
    "\n",
    "If you work in teams, please indicate your colaborators below!"
   ]
  },
  {
   "cell_type": "code",
   "execution_count": 3,
   "id": "3de6581a-ba2a-4f48-903a-b07b986d426e",
   "metadata": {},
   "outputs": [],
   "source": [
    "NAME = \"\"\n",
    "COLLABORATORS = \"\""
   ]
  },
  {
   "cell_type": "markdown",
   "id": "36b75e75-5fbe-4ded-9fec-cb89ac1335ff",
   "metadata": {
    "nbgrader": {
     "grade": false,
     "grade_id": "cell-Ainfo",
     "locked": true,
     "schema_version": 3,
     "solution": false,
     "task": false
    }
   },
   "source": [
    "---\n",
    "\n",
    "# Using Simple Classes\n",
    "\n",
    "In this problem file, we will profide you with another version of the `Shark` class according to Figure 1. In Part A, you will begin to work with a simple version of the class. In Part B, you will work with a similar class that contains a richer variety of attributes and methods. \n",
    "\n",
    "<img src=\"./Lessons/images/image_shark.png\" width=\"400\" />\n",
    "\n",
    "Figure 1: *A Shark class*"
   ]
  },
  {
   "cell_type": "markdown",
   "id": "731610d7-2806-4ad2-a8bb-d12436c0a9f4",
   "metadata": {
    "nbgrader": {
     "grade": false,
     "grade_id": "cell-Ainfo",
     "locked": true,
     "schema_version": 3,
     "solution": false,
     "task": false
    }
   },
   "source": [
    "---\n",
    "# Part A: Usa a simple Shark class\n",
    "\n",
    "In the cell below, you are provided with the code of a simple version of the `Shark` class. Study the class definition to learn about its attributes and the constructor method. Then follow the step-by-step instructions further below, to perform tasks on \n",
    "\n",
    "* Caling and adjusting class and instance variables (attributes) of the `Shark` class\n",
    "* Defining instances for the `Shark` class\n",
    "\n",
    "You will be guided through this part of the notebook by step-by-step task descriptions. When working on the tasks, make sure to use the exact variable and string names."
   ]
  },
  {
   "cell_type": "code",
   "execution_count": 2,
   "id": "a0e22c1f-7065-4904-8eef-2160a1444f43",
   "metadata": {},
   "outputs": [],
   "source": [
    "class Shark:\n",
    "\n",
    "    # Class variables\n",
    "    animal_type = \"fish\"\n",
    "\n",
    "    # Constructor method with instance variable species\n",
    "    def __init__(self, species):\n",
    "        self.species  = species\n",
    "        print(\"You have created a shark of the species \" + species + \".\")\n"
   ]
  },
  {
   "cell_type": "markdown",
   "id": "c85554b0-a2c7-4ffc-8369-60c3a7246de7",
   "metadata": {
    "nbgrader": {
     "grade": false,
     "grade_id": "cell-A1task",
     "locked": true,
     "schema_version": 3,
     "solution": false,
     "task": false
    }
   },
   "source": [
    "### Task A.1  (1 point)\n",
    "Before creating any instance of the class `Shark`, change the class variable `animal_type` in the class `Shark` from `'fish'` to `'shark'`: overwrite the content of `animal_type` by assignment."
   ]
  },
  {
   "cell_type": "code",
   "execution_count": 3,
   "id": "9804b59c-7408-4d49-9611-044c903700b9",
   "metadata": {
    "nbgrader": {
     "grade": false,
     "grade_id": "cell-A1answer1",
     "locked": false,
     "schema_version": 3,
     "solution": true,
     "task": false
    }
   },
   "outputs": [],
   "source": [
    "\"\"\"Overwrite the content of animal_type\"\"\"\n",
    "\n",
    "Shark.animal_type = 'shark'\n"
   ]
  },
  {
   "cell_type": "code",
   "execution_count": 4,
   "id": "526b8900-cd6b-4dcc-8d18-73e338eb2e00",
   "metadata": {
    "nbgrader": {
     "grade": true,
     "grade_id": "cell-A1test",
     "locked": true,
     "points": 1,
     "schema_version": 3,
     "solution": false,
     "task": false
    }
   },
   "outputs": [
    {
     "name": "stdout",
     "output_type": "stream",
     "text": [
      "shark\n"
     ]
    }
   ],
   "source": [
    "\"\"\"Print out the attribute\"\"\"\n",
    "\n",
    "print(Shark.animal_type)"
   ]
  },
  {
   "cell_type": "markdown",
   "id": "8236ebca-759c-4d89-88ca-f77342df266f",
   "metadata": {
    "nbgrader": {
     "grade": false,
     "grade_id": "cell-A2task",
     "locked": true,
     "schema_version": 3,
     "solution": false,
     "task": false
    }
   },
   "source": [
    "### Task A.2 (2 points)\n",
    "\n",
    "Create two instances of the class `Shark`:\n",
    "* Create a first instance with the name `hammer` and of species `hammerhead`. \n",
    "* Creata a second shark instance with the name `cat` and of species `catshark`.\n",
    "\n",
    "Pass required parameter for instance creation"
   ]
  },
  {
   "cell_type": "code",
   "execution_count": 8,
   "id": "4256183b-4932-4065-861e-7693cc8762ca",
   "metadata": {
    "nbgrader": {
     "grade": false,
     "grade_id": "cell-A1answer1",
     "locked": false,
     "schema_version": 3,
     "solution": true,
     "task": false
    }
   },
   "outputs": [
    {
     "name": "stdout",
     "output_type": "stream",
     "text": [
      "You have created a shark of the species hammerhead.\n",
      "You have created a shark of the species catshark.\n"
     ]
    }
   ],
   "source": [
    "\"\"\"Create two instances of shark\"\"\"\n",
    "\n",
    "hammer = Shark('hammerhead')\n",
    "\n",
    "cat = Shark('catshark')"
   ]
  },
  {
   "cell_type": "code",
   "execution_count": 10,
   "id": "3607082e-9d8b-4547-b890-fdd543f08f32",
   "metadata": {
    "nbgrader": {
     "grade": true,
     "grade_id": "cell-A1test",
     "locked": true,
     "points": 1,
     "schema_version": 3,
     "solution": false,
     "task": false
    }
   },
   "outputs": [
    {
     "name": "stdout",
     "output_type": "stream",
     "text": [
      "hammerhead\n",
      "catshark\n"
     ]
    }
   ],
   "source": [
    "\"\"\"Printing out the attribute species of both instances\"\"\" \n",
    "\n",
    "print(hammer.species)\n",
    "\n",
    "print(cat.species)"
   ]
  },
  {
   "cell_type": "markdown",
   "id": "e21b5a85-3f77-4f28-9deb-495d35da488d",
   "metadata": {
    "nbgrader": {
     "grade": false,
     "grade_id": "cell-A3task",
     "locked": true,
     "schema_version": 3,
     "solution": false,
     "task": false
    }
   },
   "source": [
    "### Task A.3 (1 point)\n",
    "\n",
    "For the class instance `hammer`, change the instance variable species from `'hammerhead'` to one of the most endangered hammerhead species: `'Winghead'`.\n"
   ]
  },
  {
   "cell_type": "code",
   "execution_count": 11,
   "id": "872f3c2b-73f9-4de5-b9f1-0b6106244239",
   "metadata": {
    "nbgrader": {
     "grade": false,
     "grade_id": "cell-A1answer1",
     "locked": false,
     "schema_version": 3,
     "solution": true,
     "task": false
    }
   },
   "outputs": [],
   "source": [
    "\"\"\"Change the species\"\"\"\n",
    "\n",
    "hammer.species = 'Winghead'"
   ]
  },
  {
   "cell_type": "code",
   "execution_count": 12,
   "id": "44fa43f4-cd80-4700-a7df-d9437dcf108d",
   "metadata": {
    "nbgrader": {
     "grade": true,
     "grade_id": "cell-A1test",
     "locked": true,
     "points": 1,
     "schema_version": 3,
     "solution": false,
     "task": false
    }
   },
   "outputs": [
    {
     "name": "stdout",
     "output_type": "stream",
     "text": [
      "Winghead\n"
     ]
    }
   ],
   "source": [
    "\"\"\"Printing out the attribute species \"\"\"\n",
    "\n",
    "print(hammer.species)"
   ]
  },
  {
   "cell_type": "markdown",
   "id": "ecd021d3-d459-4443-a4ce-cc6024c56ea8",
   "metadata": {
    "nbgrader": {
     "grade": false,
     "grade_id": "cell-B",
     "locked": true,
     "schema_version": 3,
     "solution": false,
     "task": false
    }
   },
   "source": [
    "---\n",
    "# Part B: Usa a richer Shark class\n",
    "\n",
    "The cell below defines a class `SharkII`. It contains a few more attributes and methods. Study the definition of the class, then follow the step-by-step instructions further below, to perform tasks on \n",
    "\n",
    "* Defining instances for the `SharkII` class\n",
    "* Adjusting instance variables\n",
    "* Call methods of the `SharkII` class\n"
   ]
  },
  {
   "cell_type": "code",
   "execution_count": 14,
   "id": "8949474d-a7e8-4190-be88-49a543b0f25a",
   "metadata": {
    "nbgrader": {
     "grade": false,
     "grade_id": "cell-BSharkClassCode",
     "locked": true,
     "schema_version": 3,
     "solution": false,
     "task": false
    }
   },
   "outputs": [],
   "source": [
    "class SharkII:\n",
    "\n",
    "    animal_type = \"shark\"\n",
    "\n",
    "    # Constructor method with instance variables species and location\n",
    "    def __init__(self, species, location):\n",
    "        self.species  = species\n",
    "        self.location = location\n",
    "        print(\"You have created a shark of the species \" + species + \".\")\n",
    "        \n",
    "    # Method, not defining instance variables, only print output\n",
    "    def be_awesome(self):\n",
    "        print(\"The shark is being awesome.\")\n",
    "                \n",
    "    # Method with instance variable length in [meter]\n",
    "    def set_length(self, length):\n",
    "        self.length  = length\n",
    "        print(\"This shark has a length of \" + str(length) + \" meter.\")\n",
    "\n",
    "    # Method, not defining instance variable, using instance variables of other methods\n",
    "    def swim(self):\n",
    "        print(\"This \" + self.species + \" swims in the \" + self.location + \".\")\n",
    "        "
   ]
  },
  {
   "cell_type": "markdown",
   "id": "1ae2a44c-6d51-485f-8c16-7a73411fd337",
   "metadata": {
    "nbgrader": {
     "grade": false,
     "grade_id": "cell-B1task",
     "locked": true,
     "schema_version": 3,
     "solution": false,
     "task": false
    }
   },
   "source": [
    "### Task B.1  (2 points)\n",
    "\n",
    "Create two instances of the class `SharkII`:\n",
    "* A shark instance with the name `hammer`, `species` `'Winghead'` and `location` `'Indian Ocean'`. \n",
    "* A shark instance with the name `cat`, `species` `catshark` and `location` `'Atlantic'`. \n"
   ]
  },
  {
   "cell_type": "code",
   "execution_count": 15,
   "id": "27585a78-527a-400a-8d79-39448c5c2d8d",
   "metadata": {},
   "outputs": [
    {
     "name": "stdout",
     "output_type": "stream",
     "text": [
      "You have created a shark of the species Winghead.\n",
      "You have created a shark of the species catshark.\n"
     ]
    }
   ],
   "source": [
    "\"\"\"Create the instances\"\"\"\n",
    "\n",
    "hammer = SharkII('Winghead','Indian Ocean')\n",
    "\n",
    "cat = SharkII('catshark', 'Atlantic')"
   ]
  },
  {
   "cell_type": "code",
   "execution_count": 17,
   "id": "28c301c1-1a0d-47f1-8bf9-45452ce371c4",
   "metadata": {},
   "outputs": [
    {
     "name": "stdout",
     "output_type": "stream",
     "text": [
      "Winghead\n",
      "catshark\n"
     ]
    }
   ],
   "source": [
    "\"\"\"Print out the species of each instance\"\"\"\n",
    "\n",
    "print (hammer.species)\n",
    "\n",
    "print (cat.species)"
   ]
  },
  {
   "cell_type": "markdown",
   "id": "f33688b4-8b46-428f-9427-6e46f00c6c56",
   "metadata": {
    "nbgrader": {
     "grade": false,
     "grade_id": "cell-B2task",
     "locked": true,
     "schema_version": 3,
     "solution": false,
     "task": false
    }
   },
   "source": [
    "### Task B.2 (1 point)\n",
    "Use an appropriate method to set the length for both `SharkII` instances to the following values:\n",
    "\n",
    "* `hammer`: 1.9 meter. \n",
    "* `cat`: 0.8 meter. \n"
   ]
  },
  {
   "cell_type": "code",
   "execution_count": 20,
   "id": "ff965ec1-71b4-4f6d-acef-5c69a9781eb4",
   "metadata": {},
   "outputs": [
    {
     "name": "stdout",
     "output_type": "stream",
     "text": [
      "This shark has a length of 1.9 meter.\n",
      "This shark has a length of 0.8 meter.\n"
     ]
    }
   ],
   "source": [
    "\"\"\"Set the length\"\"\"\n",
    "\n",
    "hammer.set_length(1.9)\n",
    "\n",
    "cat.set_length(0.8)"
   ]
  },
  {
   "cell_type": "code",
   "execution_count": 22,
   "id": "ea5d1ed9-cc77-44d7-bb3c-7573c06fe572",
   "metadata": {},
   "outputs": [
    {
     "name": "stdout",
     "output_type": "stream",
     "text": [
      "1.9\n",
      "0.8\n"
     ]
    }
   ],
   "source": [
    "\"\"\"Print out the species of each instance\"\"\" \n",
    "\n",
    "# I assume you want us to print out the length instead of the species here\n",
    "\n",
    "print(hammer.length)\n",
    "\n",
    "print(cat.length)"
   ]
  },
  {
   "cell_type": "markdown",
   "id": "7418ec82-14f3-4317-b15a-ffd8135f6938",
   "metadata": {
    "nbgrader": {
     "grade": false,
     "grade_id": "cell-B3task",
     "locked": true,
     "points": 2,
     "schema_version": 3,
     "solution": false,
     "task": true
    }
   },
   "source": [
    "### Task B.3 (2 points)\n",
    "\n",
    "Call appropriate methods to:\n",
    "\n",
    "* Let the `hammer` be awesome !\n",
    "* Let the instance `cat` swim !"
   ]
  },
  {
   "cell_type": "code",
   "execution_count": 24,
   "id": "ce7c9bf0-4a6f-4841-b615-b2755d0d8623",
   "metadata": {},
   "outputs": [
    {
     "name": "stdout",
     "output_type": "stream",
     "text": [
      "The shark is being awesome.\n",
      "This catshark swims in the Atlantic.\n"
     ]
    }
   ],
   "source": [
    "\"\"\"Call methods\"\"\"\n",
    "\n",
    "hammer.be_awesome()\n",
    "cat.swim()"
   ]
  },
  {
   "cell_type": "markdown",
   "id": "a3d358bb-0495-4535-af7e-245d66b25d4d",
   "metadata": {},
   "source": [
    "### Task B.4 (2 point)\n",
    "\n",
    "The class `SharkII` defines three variables:\n",
    "- self.location\n",
    "- location\n",
    "- animal_type\n",
    "\n",
    "Which of these variables is\n",
    "- a class variable,\n",
    "- an instance variable, and\n",
    "- a local variable?\n",
    "\n",
    "In the markdown cell below, allocate the correct variable type to the three variables."
   ]
  },
  {
   "cell_type": "markdown",
   "id": "f67b6b43-e06d-4776-8683-6e38b7a34a12",
   "metadata": {},
   "source": [
    "\n",
    "> self.location is local variable\n",
    "\n",
    ">location is instance variable \n",
    "\n",
    ">animal type is class variable \n",
    "\n"
   ]
  },
  {
   "cell_type": "markdown",
   "id": "f17502f7-bde3-493c-a9e3-28601f71b96a",
   "metadata": {},
   "source": [
    "---\n",
    "\n",
    "Congratulations, you are awesomly used classes in Python!\n",
    "\n",
    "If you are satisfied with your assignments, save it, make a backup and submit it to your repository on GitHub."
   ]
  },
  {
   "cell_type": "code",
   "execution_count": null,
   "id": "8e6231fa-d52c-401b-90e1-48b2bd474f41",
   "metadata": {},
   "outputs": [],
   "source": []
  }
 ],
 "metadata": {
  "kernelspec": {
   "display_name": "Python 3",
   "language": "python",
   "name": "python3"
  },
  "language_info": {
   "codemirror_mode": {
    "name": "ipython",
    "version": 3
   },
   "file_extension": ".py",
   "mimetype": "text/x-python",
   "name": "python",
   "nbconvert_exporter": "python",
   "pygments_lexer": "ipython3",
   "version": "3.8.8"
  }
 },
 "nbformat": 4,
 "nbformat_minor": 5
}
