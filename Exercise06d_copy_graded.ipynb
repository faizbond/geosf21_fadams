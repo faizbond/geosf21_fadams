{
 "cells": [
  {
   "cell_type": "markdown",
   "id": "dbd808f0-5d6e-47ab-8a94-47fcf1e371e7",
   "metadata": {},
   "source": [
    "\"Geo Data Science with Python\" \n",
    "### Notebook Exercise 6d\n",
    "\n",
    "---\n",
    "\n",
    "# Datetime, NetCDF and Plotting Maps\n",
    "\n",
    "If you work in teams, please indicate your colaborators below!"
   ]
  },
  {
   "cell_type": "code",
   "execution_count": 9,
   "id": "97327727-d6bf-425b-b1ec-6e80519f709c",
   "metadata": {},
   "outputs": [],
   "source": [
    "NAME = \"Faisal\"\n",
    "COLLABORATORS = \"\""
   ]
  },
  {
   "cell_type": "markdown",
   "id": "346c04e4-e4da-478e-a1d6-4bf29a80959b",
   "metadata": {},
   "source": [
    "<div class=\"alert alert-warning\">\n",
    "\n",
    "Exercise 06d\n",
    "    \n",
    "total points: 19/26\n",
    "    \n",
    "    \n",
    "Summary:\n",
    "- A: 11/11\n",
    "- B: 8/15\n",
    "- C: 0/10 (extra credit)\n",
    "    \n",
    "See further notes below. If there are no comments, everything is correct or I had no specific suggestion to offer.\n",
    "\n",
    "    \n",
    "</div>"
   ]
  },
  {
   "cell_type": "markdown",
   "id": "2a4d7c9e-2cf3-490f-9d38-9027f0c840df",
   "metadata": {},
   "source": [
    "---\n",
    "## Part A: Translate number of days into date objects and use them for a plot \n",
    "\n",
    "(11 points)\n",
    "\n",
    "\n",
    "For this part, we have defined a numpy array `noDays` and `temperatures` in the code cell below. This is a fictitious datasets of temperature records given for days of the year 1999."
   ]
  },
  {
   "cell_type": "code",
   "execution_count": 2,
   "id": "3008ef98-2f3b-4d70-95a8-f95b62824f7b",
   "metadata": {},
   "outputs": [],
   "source": [
    "# given number of days since January 1, 1999\n",
    "import numpy as np\n",
    "noDays = np.array([15., 18., 38., 49., 55., 60., 100., 150., 244., 300., 364.])\n",
    "temperatures = np.array([10., 12., 12., 18., 19., 20., 22., 14., 12, 9., 6.])"
   ]
  },
  {
   "cell_type": "markdown",
   "id": "eab44c95-4e46-418c-8436-3ab9101a613c",
   "metadata": {
    "nbgrader": {
     "grade": false,
     "grade_id": "cell-A1task",
     "locked": true,
     "points": 0,
     "schema_version": 3,
     "solution": false,
     "task": true
    }
   },
   "source": [
    "---\n",
    "### Task A.1\n",
    "\n",
    "(4 points)\n",
    "\n",
    "The array `noDays` contains time stamps for the temperture records, provided in the format of numbers of days since January 1, 1999. Convert the time entries in the array to actual dates using appropriate functions of the module `Datetime`. For that you need to:\n",
    "\n",
    "* Read about the function timedelta from the datetime module https://docs.python.org/3/library/datetime.html. \n",
    "* Import the needed module and/or functions\n",
    "* Use an iteration or list comprehension that adds the date January 1, 1999 to each item in the array `noDays`. Use the timedelta function.\n",
    "* Assign the resulting dates to a list of the name `noDays_date`\n",
    "\n",
    "Note: this task does only practice usage of the datetime module (not the netcdf module)."
   ]
  },
  {
   "cell_type": "code",
   "execution_count": 3,
   "id": "8b9b6687-e677-4ad2-9f26-ab9733c983b8",
   "metadata": {},
   "outputs": [],
   "source": [
    "\"\"\"Add you code below\"\"\"\n",
    "from datetime import datetime \n",
    "from datetime import timedelta \n",
    "\n",
    "# creating the reference date \n",
    "startDate = datetime.strptime ('1999_01_01', '%Y_%m_%d')\n",
    "\n",
    "# converting noDays elements into dates and adding them to the reference\n",
    "noDays_date = [startDate + timedelta(i) for i in noDays] "
   ]
  },
  {
   "cell_type": "code",
   "execution_count": 4,
   "id": "28920584-9e55-4129-a940-a2ad8ab4f985",
   "metadata": {},
   "outputs": [
    {
     "name": "stdout",
     "output_type": "stream",
     "text": [
      "1999-01-16 00:00:00\n",
      "1999-01-19 00:00:00\n",
      "1999-02-08 00:00:00\n",
      "1999-02-19 00:00:00\n",
      "1999-02-25 00:00:00\n",
      "1999-03-02 00:00:00\n",
      "1999-04-11 00:00:00\n",
      "1999-05-31 00:00:00\n",
      "1999-09-02 00:00:00\n",
      "1999-10-28 00:00:00\n",
      "1999-12-31 00:00:00\n"
     ]
    },
    {
     "data": {
      "text/plain": [
       "[None, None, None, None, None, None, None, None, None, None, None]"
      ]
     },
     "execution_count": 4,
     "metadata": {},
     "output_type": "execute_result"
    }
   ],
   "source": [
    "# Print your result to test your code\n",
    "[print(e) for e in noDays_date]"
   ]
  },
  {
   "cell_type": "markdown",
   "id": "4ef60909-370d-4d12-837b-c607ba3be09b",
   "metadata": {
    "nbgrader": {
     "grade": false,
     "grade_id": "cell-A2task",
     "locked": true,
     "points": 0,
     "schema_version": 3,
     "solution": false,
     "task": true
    }
   },
   "source": [
    "---\n",
    "### Task A.2\n",
    "\n",
    "(2 points)\n",
    "\n",
    "The fictitious data set from above defines a second array of name `temperature`. Plot this fictitious dataset using the time stamps you have just translated to date objects and saved in the variable `noDays_date`. For that do the following:\n",
    "\n",
    "* Import the pyplot package \n",
    "* Make a very simple plot of the temperature dataset, using the dates from Task 1, to make sure your x-axis labels provide real dates.\n",
    "\n",
    "There is no need to further label the plot."
   ]
  },
  {
   "cell_type": "code",
   "execution_count": 5,
   "id": "ed4bfaa1-9a3b-4e1b-a6d3-5e5466b3d7e0",
   "metadata": {},
   "outputs": [
    {
     "data": {
      "image/png": "[encoded data removed]",
      "text/plain": [
       "<Figure size 720x432 with 1 Axes>"
      ]
     },
     "metadata": {
      "needs_background": "light"
     },
     "output_type": "display_data"
    }
   ],
   "source": [
    "\"\"\"Add you code below\"\"\"\n",
    "\n",
    "from matplotlib import pyplot as plt \n",
    "\n",
    "# creating figure and plotting data \n",
    "fig, ax = plt.subplots(1, figsize=(10,6))\n",
    "\n",
    "# Plot data\n",
    "ax.plot(noDays_date, temperatures) \n",
    "\n",
    "# Axis label\n",
    "ax.set_xlabel('Date')\n",
    "\n",
    "plt.show()\n"
   ]
  },
  {
   "cell_type": "markdown",
   "id": "dde0b62d-1aa5-473a-b551-20cc460a5154",
   "metadata": {},
   "source": [
    "---\n",
    "### Task A.3\n",
    "\n",
    "(5 points)\n",
    "\n",
    "**This task is independent from the task above**, and practices usage of netCDF time values.\n",
    "\n",
    "Below, the time variable of the netcdf file `tos_O1_2001-2002.nc` is read into the variable ncTime. (The file should locate in the Lessons folder of the material repository geosf21_material.)\n",
    "\n",
    "Find a way to convert the netCDF time values `ncTime` into a datetime object `ncTime_dates`. The following workflow is a suggestion:\n",
    "\n",
    "* import an appropriate netCDF4 function\n",
    "* read the correct time unit from the dataset\n",
    "* use the netCDF4 function num2date and the method strftime() to convert the netCDF4 date array into a list of strings\n",
    "* convert the list of string objects into datetime dates by combining list comprehensions with the function split for converting the date string into datetime dates, multiple steps might be necessary.\n",
    "\n",
    "Refer to the reference of the datetime module and datetime function, if needed.\n"
   ]
  },
  {
   "cell_type": "code",
   "execution_count": 6,
   "id": "8f8d905d-d6a6-447f-95ee-9e7ea94aafda",
   "metadata": {},
   "outputs": [
    {
     "name": "stderr",
     "output_type": "stream",
     "text": [
      "<ipython-input-6-82b67982b3ad>:3: DeprecationWarning: `np.bool` is a deprecated alias for the builtin `bool`. To silence this warning, use `bool` by itself. Doing this will not modify any behavior and is safe. If you specifically wanted the numpy scalar type, use `np.bool_` here.\n",
      "Deprecated in NumPy 1.20; for more details and guidance: https://numpy.org/devdocs/release/1.20.0-notes.html#deprecations\n",
      "  ncTime = data.variables['time'][:].data\n"
     ]
    }
   ],
   "source": [
    "from netCDF4 import Dataset \n",
    "data = Dataset('./tos_O1_2001-2002.nc')\n",
    "ncTime = data.variables['time'][:].data"
   ]
  },
  {
   "cell_type": "code",
   "execution_count": 7,
   "id": "a1ea9354-cfc6-4aad-b44a-eaee5164c42e",
   "metadata": {},
   "outputs": [
    {
     "name": "stdout",
     "output_type": "stream",
     "text": [
      "['2001-01-16', '2001-02-15', '2001-03-17', '2001-04-16', '2001-05-16', '2001-06-15', '2001-07-15', '2001-08-14', '2001-09-13', '2001-10-13', '2001-11-12', '2001-12-12', '2002-01-11', '2002-02-10', '2002-03-12', '2002-04-11', '2002-05-11', '2002-06-10', '2002-07-10', '2002-08-09', '2002-09-08', '2002-10-08', '2002-11-07', '2002-12-07']\n"
     ]
    },
    {
     "name": "stderr",
     "output_type": "stream",
     "text": [
      "<ipython-input-7-892506b425a8>:7: DeprecationWarning: tostring() is deprecated. Use tobytes() instead.\n",
      "  timeUnits = data.variables['time'].units\n"
     ]
    }
   ],
   "source": [
    "\"\"\"Add you code below\"\"\"\n",
    "# importing the relevant modules\n",
    "from netCDF4 import num2date\n",
    "from datetime import datetime \n",
    "\n",
    "# reading the time unit\n",
    "timeUnits = data.variables['time'].units\n",
    "\n",
    "# converting into dates \n",
    "timeDates = num2date(ncTime, timeUnits)\n",
    "\n",
    "# converting the dates to strings \n",
    "ncDates = [i.strftime('%Y-%m-%d') for i in timeDates]\n",
    "\n",
    "print(ncDates)\n"
   ]
  },
  {
   "cell_type": "markdown",
   "id": "72ad1f06-1175-445e-b5e9-22fe90419c27",
   "metadata": {
    "nbgrader": {
     "grade": false,
     "grade_id": "cell-Dtask",
     "locked": true,
     "schema_version": 3,
     "solution": false,
     "task": false
    }
   },
   "source": [
    "---\n",
    "## Part B: Import a netCDF file, calculate a map statistic and plot the result \n",
    "\n",
    "(15 points)\n",
    "\n",
    "For this task, you should import the netCDF file `tos_O1_2001-2002.nc` and calculate the maximum sea surface temperature during the year 2001 for each gridpoint. Then print the resulting map. For guidance and to receive full points, follow exactly these steps:\n",
    "\n",
    "* Import the package `Dataset` from the module netCDF4 (1 point)\n",
    "* Read the netcdf dataset from the file `tos_O1_2001-2002.nc` and save the content to the variable `data` (1 point)\n",
    "* Print out the information of the data set to get an overview\n",
    "* Assign the data content to the variable `lat`, `lon`, `time`, `tos`. Consider to select the correct object from the masked arrays, if needed (extract the data object). (2 points)\n",
    "* Close the netCDF dataset/file (1 point)\n",
    "* Convert the 1D lat/lon arrays to a meshgrid arrays and save them to the variables `lat_grid` and `lon_grid` (2 points)\n",
    "* Converting missing values in '`tos` data to `np.nan` (convert to Celsius or leave at Kelvin, as you prefer) (1 point)\n",
    "* Iterate over the data array `tos` in the correct way, to retrieve the maximum sea surface temperature during the year 2001 for each data pixel and save the results in a new map `tos_max2001` (6 points)\n",
    "* Make a simple plot the new map `tos_max` with labeled coordinate axes and a colorbar with the colormap `'viridis'`. No further labeling needed (1 point)"
   ]
  },
  {
   "cell_type": "code",
   "execution_count": 8,
   "id": "dfbba1d6-14c1-4ce8-847a-30d9ef6d9e32",
   "metadata": {},
   "outputs": [
    {
     "name": "stderr",
     "output_type": "stream",
     "text": [
      "<ipython-input-8-1f40efbdfb67>:9: DeprecationWarning: tostring() is deprecated. Use tobytes() instead.\n",
      "  print (data)\n",
      "<ipython-input-8-1f40efbdfb67>:12: DeprecationWarning: `np.bool` is a deprecated alias for the builtin `bool`. To silence this warning, use `bool` by itself. Doing this will not modify any behavior and is safe. If you specifically wanted the numpy scalar type, use `np.bool_` here.\n",
      "Deprecated in NumPy 1.20; for more details and guidance: https://numpy.org/devdocs/release/1.20.0-notes.html#deprecations\n",
      "  time = data.variables['time'][:].data\n",
      "<ipython-input-8-1f40efbdfb67>:13: DeprecationWarning: `np.bool` is a deprecated alias for the builtin `bool`. To silence this warning, use `bool` by itself. Doing this will not modify any behavior and is safe. If you specifically wanted the numpy scalar type, use `np.bool_` here.\n",
      "Deprecated in NumPy 1.20; for more details and guidance: https://numpy.org/devdocs/release/1.20.0-notes.html#deprecations\n",
      "  lat = data.variables['lat'][:].data\n",
      "<ipython-input-8-1f40efbdfb67>:14: DeprecationWarning: `np.bool` is a deprecated alias for the builtin `bool`. To silence this warning, use `bool` by itself. Doing this will not modify any behavior and is safe. If you specifically wanted the numpy scalar type, use `np.bool_` here.\n",
      "Deprecated in NumPy 1.20; for more details and guidance: https://numpy.org/devdocs/release/1.20.0-notes.html#deprecations\n",
      "  lon = data.variables['lon'][:].data\n",
      "<ipython-input-8-1f40efbdfb67>:15: DeprecationWarning: `np.bool` is a deprecated alias for the builtin `bool`. To silence this warning, use `bool` by itself. Doing this will not modify any behavior and is safe. If you specifically wanted the numpy scalar type, use `np.bool_` here.\n",
      "Deprecated in NumPy 1.20; for more details and guidance: https://numpy.org/devdocs/release/1.20.0-notes.html#deprecations\n",
      "  tos = data.variables['tos'][:].data\n",
      "<ipython-input-8-1f40efbdfb67>:16: DeprecationWarning: `np.bool` is a deprecated alias for the builtin `bool`. To silence this warning, use `bool` by itself. Doing this will not modify any behavior and is safe. If you specifically wanted the numpy scalar type, use `np.bool_` here.\n",
      "Deprecated in NumPy 1.20; for more details and guidance: https://numpy.org/devdocs/release/1.20.0-notes.html#deprecations\n",
      "  tos_mask = data.variables['tos'][:].mask\n"
     ]
    },
    {
     "name": "stdout",
     "output_type": "stream",
     "text": [
      "<class 'netCDF4._netCDF4.Dataset'>\n",
      "root group (NETCDF3_CLASSIC data model, file format NETCDF3):\n",
      "    title: IPSL  model output prepared for IPCC Fourth Assessment SRES A2 experiment\n",
      "    institution: IPSL (Institut Pierre Simon Laplace, Paris, France)\n",
      "    source: IPSL-CM4_v1 (2003) : atmosphere : LMDZ (IPSL-CM4_IPCC, 96x71x19) ; ocean ORCA2 (ipsl_cm4_v1_8, 2x2L31); sea ice LIM (ipsl_cm4_v\n",
      "    contact: Sebastien Denvil, sebastien.denvil@ipsl.jussieu.fr\n",
      "    project_id: IPCC Fourth Assessment\n",
      "    table_id: Table O1 (13 November 2004)\n",
      "    experiment_id: SRES A2 experiment\n",
      "    realization: 1\n",
      "    cmor_version: 0.96\n",
      "    Conventions: CF-1.0\n",
      "    history: YYYY/MM/JJ: data generated; YYYY/MM/JJ+1 data transformed  At 16:37:23 on 01/11/2005, CMOR rewrote data to comply with CF standards and IPCC Fourth Assessment requirements\n",
      "    references: Dufresne et al, Journal of Climate, 2015, vol XX, p 136\n",
      "    comment: Test drive\n",
      "    dimensions(sizes): lon(180), lat(170), time(24), bnds(2)\n",
      "    variables(dimensions): float64 lon(lon), float64 lon_bnds(lon,bnds), float64 lat(lat), float64 lat_bnds(lat,bnds), float64 time(time), float64 time_bnds(time,bnds), float32 tos(time,lat,lon)\n",
      "    groups: \n"
     ]
    },
    {
     "ename": "ValueError",
     "evalue": "not enough values to unpack (expected 2, got 1)",
     "output_type": "error",
     "traceback": [
      "\u001b[0;31m---------------------------------------------------------------------------\u001b[0m",
      "\u001b[0;31mValueError\u001b[0m                                Traceback (most recent call last)",
      "\u001b[0;32m<ipython-input-8-1f40efbdfb67>\u001b[0m in \u001b[0;36m<module>\u001b[0;34m\u001b[0m\n\u001b[1;32m     40\u001b[0m     \u001b[0mtos_max2001\u001b[0m\u001b[0;34m[\u001b[0m\u001b[0mi\u001b[0m\u001b[0;34m]\u001b[0m \u001b[0;34m=\u001b[0m \u001b[0mnp\u001b[0m\u001b[0;34m.\u001b[0m\u001b[0mnanmax\u001b[0m\u001b[0;34m(\u001b[0m\u001b[0mtos\u001b[0m\u001b[0;34m[\u001b[0m\u001b[0mi\u001b[0m\u001b[0;34m]\u001b[0m\u001b[0;34m)\u001b[0m\u001b[0;34m\u001b[0m\u001b[0;34m\u001b[0m\u001b[0m\n\u001b[1;32m     41\u001b[0m \u001b[0;34m\u001b[0m\u001b[0m\n\u001b[0;32m---> 42\u001b[0;31m \u001b[0mplt\u001b[0m\u001b[0;34m.\u001b[0m\u001b[0mpcolormesh\u001b[0m\u001b[0;34m(\u001b[0m\u001b[0mlon_grid\u001b[0m\u001b[0;34m,\u001b[0m \u001b[0mlat_grid\u001b[0m\u001b[0;34m,\u001b[0m \u001b[0mtos_max2001\u001b[0m\u001b[0;34m,\u001b[0m \u001b[0mshading\u001b[0m \u001b[0;34m=\u001b[0m \u001b[0;34m'auto'\u001b[0m\u001b[0;34m,\u001b[0m \u001b[0mcmap\u001b[0m \u001b[0;34m=\u001b[0m \u001b[0;34m'viridis'\u001b[0m\u001b[0;34m)\u001b[0m\u001b[0;34m\u001b[0m\u001b[0;34m\u001b[0m\u001b[0m\n\u001b[0m\u001b[1;32m     43\u001b[0m \u001b[0;31m# not sure what I'm doing wrong here\u001b[0m\u001b[0;34m\u001b[0m\u001b[0;34m\u001b[0m\u001b[0;34m\u001b[0m\u001b[0m\n",
      "\u001b[0;32m/opt/anaconda3/lib/python3.8/site-packages/matplotlib/pyplot.py\u001b[0m in \u001b[0;36mpcolormesh\u001b[0;34m(alpha, norm, cmap, vmin, vmax, shading, antialiased, data, *args, **kwargs)\u001b[0m\n\u001b[1;32m   2799\u001b[0m         \u001b[0mvmax\u001b[0m\u001b[0;34m=\u001b[0m\u001b[0;32mNone\u001b[0m\u001b[0;34m,\u001b[0m \u001b[0mshading\u001b[0m\u001b[0;34m=\u001b[0m\u001b[0;32mNone\u001b[0m\u001b[0;34m,\u001b[0m \u001b[0mantialiased\u001b[0m\u001b[0;34m=\u001b[0m\u001b[0;32mFalse\u001b[0m\u001b[0;34m,\u001b[0m \u001b[0mdata\u001b[0m\u001b[0;34m=\u001b[0m\u001b[0;32mNone\u001b[0m\u001b[0;34m,\u001b[0m\u001b[0;34m\u001b[0m\u001b[0;34m\u001b[0m\u001b[0m\n\u001b[1;32m   2800\u001b[0m         **kwargs):\n\u001b[0;32m-> 2801\u001b[0;31m     __ret = gca().pcolormesh(\n\u001b[0m\u001b[1;32m   2802\u001b[0m         \u001b[0;34m*\u001b[0m\u001b[0margs\u001b[0m\u001b[0;34m,\u001b[0m \u001b[0malpha\u001b[0m\u001b[0;34m=\u001b[0m\u001b[0malpha\u001b[0m\u001b[0;34m,\u001b[0m \u001b[0mnorm\u001b[0m\u001b[0;34m=\u001b[0m\u001b[0mnorm\u001b[0m\u001b[0;34m,\u001b[0m \u001b[0mcmap\u001b[0m\u001b[0;34m=\u001b[0m\u001b[0mcmap\u001b[0m\u001b[0;34m,\u001b[0m \u001b[0mvmin\u001b[0m\u001b[0;34m=\u001b[0m\u001b[0mvmin\u001b[0m\u001b[0;34m,\u001b[0m\u001b[0;34m\u001b[0m\u001b[0;34m\u001b[0m\u001b[0m\n\u001b[1;32m   2803\u001b[0m         \u001b[0mvmax\u001b[0m\u001b[0;34m=\u001b[0m\u001b[0mvmax\u001b[0m\u001b[0;34m,\u001b[0m \u001b[0mshading\u001b[0m\u001b[0;34m=\u001b[0m\u001b[0mshading\u001b[0m\u001b[0;34m,\u001b[0m \u001b[0mantialiased\u001b[0m\u001b[0;34m=\u001b[0m\u001b[0mantialiased\u001b[0m\u001b[0;34m,\u001b[0m\u001b[0;34m\u001b[0m\u001b[0;34m\u001b[0m\u001b[0m\n",
      "\u001b[0;32m/opt/anaconda3/lib/python3.8/site-packages/matplotlib/__init__.py\u001b[0m in \u001b[0;36minner\u001b[0;34m(ax, data, *args, **kwargs)\u001b[0m\n\u001b[1;32m   1445\u001b[0m     \u001b[0;32mdef\u001b[0m \u001b[0minner\u001b[0m\u001b[0;34m(\u001b[0m\u001b[0max\u001b[0m\u001b[0;34m,\u001b[0m \u001b[0;34m*\u001b[0m\u001b[0margs\u001b[0m\u001b[0;34m,\u001b[0m \u001b[0mdata\u001b[0m\u001b[0;34m=\u001b[0m\u001b[0;32mNone\u001b[0m\u001b[0;34m,\u001b[0m \u001b[0;34m**\u001b[0m\u001b[0mkwargs\u001b[0m\u001b[0;34m)\u001b[0m\u001b[0;34m:\u001b[0m\u001b[0;34m\u001b[0m\u001b[0;34m\u001b[0m\u001b[0m\n\u001b[1;32m   1446\u001b[0m         \u001b[0;32mif\u001b[0m \u001b[0mdata\u001b[0m \u001b[0;32mis\u001b[0m \u001b[0;32mNone\u001b[0m\u001b[0;34m:\u001b[0m\u001b[0;34m\u001b[0m\u001b[0;34m\u001b[0m\u001b[0m\n\u001b[0;32m-> 1447\u001b[0;31m             \u001b[0;32mreturn\u001b[0m \u001b[0mfunc\u001b[0m\u001b[0;34m(\u001b[0m\u001b[0max\u001b[0m\u001b[0;34m,\u001b[0m \u001b[0;34m*\u001b[0m\u001b[0mmap\u001b[0m\u001b[0;34m(\u001b[0m\u001b[0msanitize_sequence\u001b[0m\u001b[0;34m,\u001b[0m \u001b[0margs\u001b[0m\u001b[0;34m)\u001b[0m\u001b[0;34m,\u001b[0m \u001b[0;34m**\u001b[0m\u001b[0mkwargs\u001b[0m\u001b[0;34m)\u001b[0m\u001b[0;34m\u001b[0m\u001b[0;34m\u001b[0m\u001b[0m\n\u001b[0m\u001b[1;32m   1448\u001b[0m \u001b[0;34m\u001b[0m\u001b[0m\n\u001b[1;32m   1449\u001b[0m         \u001b[0mbound\u001b[0m \u001b[0;34m=\u001b[0m \u001b[0mnew_sig\u001b[0m\u001b[0;34m.\u001b[0m\u001b[0mbind\u001b[0m\u001b[0;34m(\u001b[0m\u001b[0max\u001b[0m\u001b[0;34m,\u001b[0m \u001b[0;34m*\u001b[0m\u001b[0margs\u001b[0m\u001b[0;34m,\u001b[0m \u001b[0;34m**\u001b[0m\u001b[0mkwargs\u001b[0m\u001b[0;34m)\u001b[0m\u001b[0;34m\u001b[0m\u001b[0;34m\u001b[0m\u001b[0m\n",
      "\u001b[0;32m/opt/anaconda3/lib/python3.8/site-packages/matplotlib/axes/_axes.py\u001b[0m in \u001b[0;36mpcolormesh\u001b[0;34m(self, alpha, norm, cmap, vmin, vmax, shading, antialiased, *args, **kwargs)\u001b[0m\n\u001b[1;32m   6090\u001b[0m         \u001b[0mkwargs\u001b[0m\u001b[0;34m.\u001b[0m\u001b[0msetdefault\u001b[0m\u001b[0;34m(\u001b[0m\u001b[0;34m'edgecolors'\u001b[0m\u001b[0;34m,\u001b[0m \u001b[0;34m'None'\u001b[0m\u001b[0;34m)\u001b[0m\u001b[0;34m\u001b[0m\u001b[0;34m\u001b[0m\u001b[0m\n\u001b[1;32m   6091\u001b[0m \u001b[0;34m\u001b[0m\u001b[0m\n\u001b[0;32m-> 6092\u001b[0;31m         X, Y, C, shading = self._pcolorargs('pcolormesh', *args,\n\u001b[0m\u001b[1;32m   6093\u001b[0m                                             shading=shading, kwargs=kwargs)\n\u001b[1;32m   6094\u001b[0m         \u001b[0mNy\u001b[0m\u001b[0;34m,\u001b[0m \u001b[0mNx\u001b[0m \u001b[0;34m=\u001b[0m \u001b[0mX\u001b[0m\u001b[0;34m.\u001b[0m\u001b[0mshape\u001b[0m\u001b[0;34m\u001b[0m\u001b[0;34m\u001b[0m\u001b[0m\n",
      "\u001b[0;32m/opt/anaconda3/lib/python3.8/site-packages/matplotlib/axes/_axes.py\u001b[0m in \u001b[0;36m_pcolorargs\u001b[0;34m(self, funcname, shading, *args, **kwargs)\u001b[0m\n\u001b[1;32m   5583\u001b[0m                 \u001b[0;32mif\u001b[0m \u001b[0misinstance\u001b[0m\u001b[0;34m(\u001b[0m\u001b[0mY\u001b[0m\u001b[0;34m,\u001b[0m \u001b[0mnp\u001b[0m\u001b[0;34m.\u001b[0m\u001b[0mma\u001b[0m\u001b[0;34m.\u001b[0m\u001b[0mcore\u001b[0m\u001b[0;34m.\u001b[0m\u001b[0mMaskedArray\u001b[0m\u001b[0;34m)\u001b[0m\u001b[0;34m:\u001b[0m\u001b[0;34m\u001b[0m\u001b[0;34m\u001b[0m\u001b[0m\n\u001b[1;32m   5584\u001b[0m                     \u001b[0mY\u001b[0m \u001b[0;34m=\u001b[0m \u001b[0mY\u001b[0m\u001b[0;34m.\u001b[0m\u001b[0mdata\u001b[0m\u001b[0;34m\u001b[0m\u001b[0;34m\u001b[0m\u001b[0m\n\u001b[0;32m-> 5585\u001b[0;31m             \u001b[0mnrows\u001b[0m\u001b[0;34m,\u001b[0m \u001b[0mncols\u001b[0m \u001b[0;34m=\u001b[0m \u001b[0mC\u001b[0m\u001b[0;34m.\u001b[0m\u001b[0mshape\u001b[0m\u001b[0;34m\u001b[0m\u001b[0;34m\u001b[0m\u001b[0m\n\u001b[0m\u001b[1;32m   5586\u001b[0m         \u001b[0;32melse\u001b[0m\u001b[0;34m:\u001b[0m\u001b[0;34m\u001b[0m\u001b[0;34m\u001b[0m\u001b[0m\n\u001b[1;32m   5587\u001b[0m             raise TypeError(f'{funcname}() takes 1 or 3 positional arguments '\n",
      "\u001b[0;31mValueError\u001b[0m: not enough values to unpack (expected 2, got 1)"
     ]
    },
    {
     "data": {
      "image/png": "[encoded data removed]",
      "text/plain": [
       "<Figure size 432x288 with 1 Axes>"
      ]
     },
     "metadata": {
      "needs_background": "light"
     },
     "output_type": "display_data"
    }
   ],
   "source": [
    "\"\"\"Add you code below\"\"\"\n",
    "\n",
    "from netCDF4 import Dataset \n",
    "import numpy as np \n",
    "\n",
    "# reading data in \n",
    "data = Dataset('./tos_O1_2001-2002.nc')\n",
    "\n",
    "print (data)\n",
    "\n",
    "# reading time, lat, lon and tos into arrays\n",
    "time = data.variables['time'][:].data\n",
    "lat = data.variables['lat'][:].data\n",
    "lon = data.variables['lon'][:].data\n",
    "tos = data.variables['tos'][:].data\n",
    "tos_mask = data.variables['tos'][:].mask\n",
    "\n",
    "# closing the file \n",
    "data.close()\n",
    "\n",
    "# creating the 2D array \n",
    "lon_grid, lat_grid = np.meshgrid(lon, lat)\n",
    "\n",
    "# converting missing values to nan\n",
    "tos[tos==1e20] = np.nan\n",
    "\n",
    "# converting temperatures to Celsius\n",
    "tos = tos - 273.15\n",
    "\n",
    "# length of array restricted to 12 for first year (2001)\n",
    "num_tos = 12\n",
    "\n",
    "# empty array\n",
    "tos_max2001 = np.zeros(num_tos)\n",
    "\n",
    "# tos_max2001 = np.array([np.nanmax(tos[i]) for i in range (num_tos)] )\n",
    "\n",
    "# creating array of max values\n",
    "for i in range(num_tos):\n",
    "    tos_max2001[i] = np.nanmax(tos[i])\n",
    "\n",
    "plt.pcolormesh(lon_grid, lat_grid, tos_max2001, shading = 'auto', cmap = 'viridis')\n",
    "# not sure what I'm doing wrong here\n"
   ]
  },
  {
   "cell_type": "markdown",
   "id": "8d722f90-0ec2-44f9-80b9-deb47adbed4d",
   "metadata": {},
   "source": [
    "<div class=\"alert alert-warning\">\n",
    "\n",
    "This is incomplete: Task was to estimate max TOS in 2001 for **each pixel** and plot a map.\n",
    "    \n",
    "</div>"
   ]
  },
  {
   "cell_type": "markdown",
   "id": "77497a36-edd8-461d-ba6a-ec07d2aab18b",
   "metadata": {
    "nbgrader": {
     "grade": false,
     "grade_id": "cell-Btask",
     "locked": true,
     "points": 10,
     "schema_version": 3,
     "solution": false,
     "task": true
    }
   },
   "source": [
    "---\n",
    "## Part C: Print an image with adjusted axes labels (optional)\n",
    "\n",
    "(10 points, extra credit)\n",
    "\n",
    "For this task, we are providing you with some code below, which imports the shaded relief from the file `'./US_MSR_lowRes_terrain.dat'` to the variable `reliefUS`, defines related metadata as well as meshgrids for the `x` and `y` coordinates of the shaded relief. You are also given the coordinate bounds for an area of the Northeast (NE) of the United States, which you should slice out of the shaded relief data set. The bounds are given by the assigned variables `latMin`, `latMax`, `lonMin` and `lonMax`, below. You should also plot the new data frame in a matplotlib image with correctly labeled coordinate axes. In addition, plot the location of the city of New York and two further cities of your choice into the map. For that you need to:\n",
    "\n",
    "* Find correct indicees for the bounding box coordinates in the coordinate arrays `x_col` and `y_col` (2 points)\n",
    "* Reduce all neccessary arrays to bounding box using those indicees (2 points)\n",
    "* Plotting the relief data with labeled axes: coordinates (2 points)\n",
    "* Plotting the relief with a reversed gray scale colorbar (1 point)\n",
    "* Plot the location of the city New York, with the coordinates `NY_lat` and `NY_lon` using a colored dot (1 point)\n",
    "* Label the dot for the city of New York with its name (1 point)\n",
    "* Find coordinates of two more cities in the map frame and add colored dots for their locations (1 point)\n",
    "\n",
    "Fill your code in the answer code cell below. Make sure to comment your code well!!! Use exaclty the variable names as stated in the task."
   ]
  },
  {
   "cell_type": "code",
   "execution_count": null,
   "id": "be1d83bd-8374-4003-9f54-14117d618efc",
   "metadata": {
    "nbgrader": {
     "grade": false,
     "grade_id": "cell-Bdata",
     "locked": true,
     "schema_version": 3,
     "solution": false,
     "task": false
    }
   },
   "outputs": [],
   "source": [
    "# provided code to:\n",
    "#    import the relief data, \n",
    "#    define the coordinate arrays (meshgrids)\n",
    "#    define new bounding box for reduced data fram\n",
    "\n",
    "import numpy as np\n",
    "\n",
    "# reading the file using numpy function genfromtxt, skipping header\n",
    "filename = \"./US_MSR_lowRes_terrain.dat\"  # USA Shaded relief data\n",
    "reliefUS = np.genfromtxt(filename, delimiter=' ', skip_header=6) \n",
    "\n",
    "# defining information from file header\n",
    "xllcorner = -129.9727818920000004\n",
    "yllcorner =  15.5224817269999988\n",
    "cellsize  =   0.04001\n",
    "[yDim,xDim] = reliefUS.shape\n",
    "\n",
    "# Creating meshgrids x and y that hold lon and lat coordinates for each data point\n",
    "x_col = np.empty(reliefUS.shape)\n",
    "y_col = np.empty(reliefUS.shape)\n",
    "x_col = np.linspace(xllcorner,xllcorner+cellsize*(xDim+1), xDim)\n",
    "y_col = np.linspace(yllcorner,yllcorner+cellsize*(yDim+1), yDim)\n",
    "y_col = np.flip(y_col)\n",
    "x, y = np.meshgrid(x_col,y_col)\n",
    "\n",
    "# defining a new bounding box for NE USA to be extracted from the shaded relief image\n",
    "latMin = 36\n",
    "latMax = 50\n",
    "lonMin = -98\n",
    "lonMax = -65\n",
    "\n",
    "# coordinates New York\n",
    "NY_lat = 40.730610\n",
    "NY_lon = -73.935242"
   ]
  },
  {
   "cell_type": "code",
   "execution_count": null,
   "id": "2942e70d-4bac-4e38-9b7c-5ce0eb0a1e49",
   "metadata": {},
   "outputs": [],
   "source": [
    "\"\"\"Add you code below\"\"\"\n",
    "\n",
    "### YOUR CODE HERE\n"
   ]
  },
  {
   "cell_type": "markdown",
   "id": "ca337845-165f-4064-9a9c-61d2a8455151",
   "metadata": {},
   "source": [
    "---\n",
    "If you are satisfied with your code, back it up and submit it to your homework repository."
   ]
  },
  {
   "cell_type": "code",
   "execution_count": null,
   "id": "b51f205e-5085-4132-9b7b-7e583a04bf7b",
   "metadata": {},
   "outputs": [],
   "source": []
  }
 ],
 "metadata": {
  "kernelspec": {
   "display_name": "Python 3",
   "language": "python",
   "name": "python3"
  },
  "language_info": {
   "codemirror_mode": {
    "name": "ipython",
    "version": 3
   },
   "file_extension": ".py",
   "mimetype": "text/x-python",
   "name": "python",
   "nbconvert_exporter": "python",
   "pygments_lexer": "ipython3",
   "version": "3.8.8"
  }
 },
 "nbformat": 4,
 "nbformat_minor": 5
}
