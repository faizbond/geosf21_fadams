{
 "cells": [
  {
   "cell_type": "markdown",
   "id": "3cbb8b5b",
   "metadata": {},
   "source": [
    "\"Geo Data Science with Python\" \n",
    "### Grading notes Midterm Exam\n",
    "\n",
    "---"
   ]
  },
  {
   "cell_type": "markdown",
   "id": "f98ff411-b233-421c-80d6-a826166efb13",
   "metadata": {},
   "source": [
    "The following maximum points could be achieved:\n",
    "- 1P    Imported math\n",
    "- 2P    Added option for module/main script\n",
    "- 2P    Module Imports & fcts at the top\n",
    "- 4P    Docstring for functions\n",
    "- 2P    Docstrign in Program file\n",
    "- 4P    Commented Code\n",
    "- 4P    mySum, myMean complete\n",
    "- 4P    myMax complete\n",
    "- 4P    myStd complete\n",
    "- 16P  readUNpopData complete\n",
    "- 4P    Requested UserInput\n",
    "- 4P    Exception for file handling\n",
    "- 4P    Exception for user input\n",
    "- 1P    Correct unit (1000 pple)\n",
    "- 2P    1. Tot pop in 2020\n",
    "- 2P    2. tot pop 2050 and 2100\n",
    "- 2P    3. pop increase 2050 and 2100\n",
    "- 3P    4. 3 largest countries in 10 years\n",
    "- 6P    5. pop for sel cntr 2020,2050, 20100\n",
    "- 2P    6. coded pop increase and perc for list of countries in loop\n",
    "- 1P    6. correct results\n",
    "- 2P    7. fastest growing country\n",
    "- 2P    8. mean and std for growth rates until 2100\n",
    "- 2P    9. other statistic\n",
    "- 4P    report: introduction\n",
    "- 8P    report: summarizes all results\n",
    "- 8P    report: discussion/summary\n",
    "\n",
    "Total: 100"
   ]
  },
  {
   "cell_type": "markdown",
   "id": "2b1d0f79",
   "metadata": {},
   "source": [
    "<div class=\"alert alert-warning\">\n",
    "\n",
    "Faisal Adams\n",
    "    \n",
    "Total points: 94/100\n",
    "    \n",
    "Note: \n",
    "    \n",
    "    \n",
    "- The code and results are great. I specifically liked that you experimented with global variables and added several further functions to reduce repetive coding.    \n",
    "    \n",
    "- Your report introduction and results section are very clear and comprehensive.\n",
    "    \n",
    "- Only a few elements in the program/report are missing\n",
    "    - Docstring for the module file is missing (it should go at the very top) (-2P)\n",
    "    - Your report summary is reasonable. It remains very short however. A more extensive discussion of the results or for example putting further results in context of the rest of the world would be interesting. 5/8P\n",
    "    - Some functions are entered inside the main function. They would be more accessible if you list them together with other functions at the top of the module (instead of inside the main function) (-1P).\n",
    "   \n",
    "- Everything else is excellent! Keep writing functions for code task that you use repeatedly!\n",
    "\n",
    "</div>"
   ]
  },
  {
   "cell_type": "code",
   "execution_count": 5,
   "id": "59e703d3",
   "metadata": {},
   "outputs": [
    {
     "name": "stdout",
     "output_type": "stream",
     "text": [
      "\n",
      " Please wait while the file opens\n",
      "The file should be open now, maybe.\n"
     ]
    },
    {
     "name": "stdin",
     "output_type": "stream",
     "text": [
      " \n",
      " Which country do you want to know about? x\n"
     ]
    },
    {
     "name": "stdout",
     "output_type": "stream",
     "text": [
      "Please check your input. That country could not be found.\n"
     ]
    },
    {
     "name": "stdin",
     "output_type": "stream",
     "text": [
      " \n",
      " Which country do you want to know about? Malta\n"
     ]
    },
    {
     "name": "stdout",
     "output_type": "stream",
     "text": [
      "Your entry has been succesfully recorded\n",
      "\n",
      " 1 -- The estimated total world population in 2020 is 7,794,803,000!\n",
      "\n",
      " 2 -- The total world population in 2050 and 2100 is 9,735,031,000 and 10,875,389,000 respectively.\n",
      "\n",
      " 3 -- The percentage change in population between: \n",
      "2020 and 2050 is 24.89%.\n",
      "2020 and 2100 is 39.52%.\n",
      "\n",
      " 4 -- The list of three countries with the largest population in 2030, from first to third are:\n",
      "India, China and United States of America.\n",
      "\n",
      " 5 -- You entered Malta.\n",
      "This country has a population of 442,000 in the year 2020, 427,000 in 2050 and 358,000 in 2100.\n",
      "\n",
      " 6 -- Below is a list of countries, their current population, and their projected percentage increase by 2100:\n",
      "\n",
      "United States of America -> 331,003,000 -> 31.07%\n",
      "China -> 1,439,324,000 -> -26.01%\n",
      "India -> 1,380,004,000 -> 4.86%\n",
      "Nigeria -> 206,140,000 -> 255.56%\n",
      "Egypt -> 102,334,000 -> 119.61%\n",
      "Brazil -> 212,559,000 -> -15.00%\n",
      "Australia -> 25,500,000 -> 68.15%\n",
      "France -> 65,274,000 -> 0.34%\n",
      "Turkey -> 84,339,000 -> 2.17%\n",
      " \n",
      " 7 -- The country with the fastest expected percentage growth until 2100, relative to their population in 2020 is Niger with a 581.40% increase!\n",
      "\n",
      " 8 -- The mean and standard deviation for percentage growth rates for all countries from today until 2100 are 53.50% and 107.74%, respectively.\n",
      "\n",
      " 9 -- What is the estimated percentage growth for Ghana from 2020 to 2100?\n",
      " The expected percentage growth for Ghana in 2100 is 154.28%. \n",
      "\n"
     ]
    }
   ],
   "source": [
    "%run PopPredict_fadams.py"
   ]
  },
  {
   "cell_type": "code",
   "execution_count": null,
   "id": "0c27d64f-cf79-43e4-a928-1281741ea8a4",
   "metadata": {},
   "outputs": [],
   "source": []
  }
 ],
 "metadata": {
  "kernelspec": {
   "display_name": "Python 3",
   "language": "python",
   "name": "python3"
  },
  "language_info": {
   "codemirror_mode": {
    "name": "ipython",
    "version": 3
   },
   "file_extension": ".py",
   "mimetype": "text/x-python",
   "name": "python",
   "nbconvert_exporter": "python",
   "pygments_lexer": "ipython3",
   "version": "3.8.8"
  }
 },
 "nbformat": 4,
 "nbformat_minor": 5
}
