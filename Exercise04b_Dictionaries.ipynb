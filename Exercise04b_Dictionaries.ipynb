{
 "cells": [
  {
   "cell_type": "markdown",
   "id": "f5e1fb1c-b145-4d87-9eae-786682b9e6e2",
   "metadata": {},
   "source": [
    "\"Geo Data Science with Python\" \n",
    "### Notebook Exercise 4\n",
    " \n",
    "# Python Dictionaries\n",
    "\n",
    "---\n",
    "\n",
    "\n",
    "## Part A: Writing a Dictionary (4 points)\n",
    "\n",
    "Create a dictionary object, `dict_DaysInMonth`, that maps a month's name (the dictionary key) to the respective number of days in that month (the value) for January, February, ..., December) assuming it’s not a leap-year. \n",
    "\n",
    "Enter the code in the cell below."
   ]
  },
  {
   "cell_type": "code",
   "execution_count": 30,
   "id": "ceb54591-fb3a-4ea9-9575-2af4d1a8ca06",
   "metadata": {},
   "outputs": [],
   "source": [
    "\"\"\"Create a dictionary containing Number-of-Months, mapping \n",
    "    month names to number of days in that month:\"\"\"\n",
    "\n",
    "dict_DaysInMonth = {\n",
    "    'January'  : 31,\n",
    "    'February' : 28,\n",
    "    'March'    : 31,\n",
    "    'April'    : 30,\n",
    "    'May'      : 31,\n",
    "    'June'     : 30,\n",
    "    'July'     : 31,\n",
    "    'August'   : 31,\n",
    "    'September': 31,\n",
    "    'October'  : 31,\n",
    "    'November' : 30,\n",
    "    'December' : 31,\n",
    "    \n",
    "}"
   ]
  },
  {
   "cell_type": "markdown",
   "id": "1c898541-0688-448f-b791-943f818e981a",
   "metadata": {},
   "source": [
    "How can you list only the values from `dict_DaysInMonth`? Assign the values of the dictionary to a variable `DaysInMonth`.\n",
    "\n",
    "Enter the code in the cell below."
   ]
  },
  {
   "cell_type": "code",
   "execution_count": 31,
   "id": "b9a105ed-f672-4ae3-9489-ed190fbe4242",
   "metadata": {},
   "outputs": [],
   "source": [
    "\"\"\"Assign the values of the dictionary to a variable DaysInMonth:\"\"\"\n",
    "\n",
    "DaysInMonth = dict_DaysInMonth.values()\n"
   ]
  },
  {
   "cell_type": "code",
   "execution_count": 32,
   "id": "1c773490-3dad-46ad-8a1f-96e843cb1d2f",
   "metadata": {},
   "outputs": [
    {
     "name": "stdout",
     "output_type": "stream",
     "text": [
      "dict_values([31, 28, 31, 30, 31, 30, 31, 31, 31, 31, 30, 31])\n"
     ]
    }
   ],
   "source": [
    "# Check the output of your code\n",
    "\n",
    "print(DaysInMonth)"
   ]
  },
  {
   "cell_type": "code",
   "execution_count": 33,
   "id": "147e95d4-1088-42e3-b8bf-6e105aff9c96",
   "metadata": {},
   "outputs": [],
   "source": [
    "# Check the result of your code\n",
    "\n",
    "len(dict_DaysInMonth) == 12\n",
    "# note the dictionary comprehensions in the following tests\n",
    "len([d for d in list(DaysInMonth) if d == 31]) == 7\n",
    "len([d for d in list(DaysInMonth) if d == 30]) == 4\n",
    "\n",
    "assert type(dict_DaysInMonth) == dict\n",
    "assert type(DaysInMonth)      == type({'z':1}.values())"
   ]
  },
  {
   "cell_type": "markdown",
   "id": "d294dd61-81df-4f3e-9b9f-4a89fba8f73d",
   "metadata": {},
   "source": [
    "---\n",
    "## Part B: Writing, Accessing and Manipulating Complex Dictionaries\n",
    "\n",
    "### Task B1 (5 points)\n",
    "\n",
    "For this task, you should write the data base of the Finnland Meteorological Institue into a dictionary, that contains table header and content in one data structure.\n",
    "\n",
    "| StatName | ID | Lat | Long |\n",
    "|:-:|:-:|:-:|:-:|\n",
    "| Helsinki Kaisaniemi     | 100971 | 60.18 | 24.94 |\n",
    "| Helsinki Kaivopuisto    | 132310 | 60.15 | 24.96 |\n",
    "| Helsinki Kumpula        | 101004 | 60.20 | 24.96 |\n",
    "| Helsinki Malmi airfield | 101009 | 60.25 | 25.05 |\n",
    "| Helsinki lighthouse     | 101003 | 59.95 | 24.93 |\n",
    "\n",
    "The dictionary should be named `FIMdata` and it should be **a dictionary of 5 dictionaries**, with each of these 5 dictionaries containing a row of the data table above. Use the station ID's as key of the outer dictionary (instead of the names). Then use the remaining header lines as keys of the inner dictionaries and the remaing columns as values of the inner dictionaries. Make sure to use the same key names as in the table header given above. Use appropriate object types for the content numbers and strings."
   ]
  },
  {
   "cell_type": "code",
   "execution_count": 34,
   "id": "64c65899-a2e7-4124-b4a7-e26b40e11405",
   "metadata": {},
   "outputs": [],
   "source": [
    "\"\"\"Write the dictionary FIMdata containing the table above.\"\"\"\n",
    "\n",
    "FIMdata = {\n",
    "    100971 : {'StatName': 'Helsinki Kaisaniemi', 'Lat': 60.18, 'Long': 24.94},\n",
    "    132310 : {'StatName': 'Helsinki Kaivopuisto', 'Lat': 60.15, 'Long': 24.96},\n",
    "    101004 : {'StatName': 'Helsinki Kumpula', 'Lat': 60.20, 'Long': 24.96},\n",
    "    101009 : {'StatName': 'Helsinki Malmi airfield', 'Lat': 60.25, 'Long': 25.05},\n",
    "    101003 : {'StatName': 'Helsinki lighthouse', 'Lat': 59.95, 'Long': 24.93}\n",
    "\n",
    "}"
   ]
  },
  {
   "cell_type": "code",
   "execution_count": 35,
   "id": "da45815d-f219-46c1-9a7c-b1d6c9e8af2d",
   "metadata": {},
   "outputs": [],
   "source": [
    "# Check the content of your dataset.\n",
    "\n",
    "assert type(FIMdata) == dict\n",
    "assert FIMdata[100971]['StatName'] == 'Helsinki Kaisaniemi'\n",
    "assert FIMdata[101009]['Lat'] == 60.25\n",
    "assert [e for e in FIMdata] == [100971, 132310, 101004, 101009, 101003]\n",
    "assert len(FIMdata) == 5\n",
    "assert len(FIMdata[100971]) == 3"
   ]
  },
  {
   "cell_type": "markdown",
   "id": "5e619e8b-fd06-451e-9473-7bf469f31b23",
   "metadata": {},
   "source": [
    "---\n",
    "### Task B2 (2 points)\n",
    "\n",
    "Now, use a **method** available for dictionaries to delete only the station with the ID `132310` from the dictionary (for the station `'Helsinki Kaivopuisto').`"
   ]
  },
  {
   "cell_type": "code",
   "execution_count": 36,
   "id": "27d7a218-276d-4e7d-b599-65cbc830f9b0",
   "metadata": {},
   "outputs": [],
   "source": [
    "\"\"\"Use a dictionary method to delete the station with the ID 132310 \"\"\"\n",
    "\n",
    "del FIMdata[132310]\n"
   ]
  },
  {
   "cell_type": "code",
   "execution_count": 37,
   "id": "d0463402-40bd-41df-a1ed-cd11908a79a1",
   "metadata": {},
   "outputs": [
    {
     "data": {
      "text/plain": [
       "{100971: {'StatName': 'Helsinki Kaisaniemi', 'Lat': 60.18, 'Long': 24.94},\n",
       " 101004: {'StatName': 'Helsinki Kumpula', 'Lat': 60.2, 'Long': 24.96},\n",
       " 101009: {'StatName': 'Helsinki Malmi airfield', 'Lat': 60.25, 'Long': 25.05},\n",
       " 101003: {'StatName': 'Helsinki lighthouse', 'Lat': 59.95, 'Long': 24.93}}"
      ]
     },
     "execution_count": 37,
     "metadata": {},
     "output_type": "execute_result"
    }
   ],
   "source": [
    "# Check the result of your code.\n",
    "\n",
    "FIMdata\n"
   ]
  },
  {
   "cell_type": "code",
   "execution_count": 38,
   "id": "0c641b8d-ccdc-4466-911b-67d62eadd18b",
   "metadata": {},
   "outputs": [],
   "source": [
    "# Check the result of your code.\n",
    "\n",
    "assert len(FIMdata) == 4\n",
    "assert len(FIMdata[100971]) == 3\n",
    "assert [e for e in FIMdata] == [100971, 101004, 101009, 101003]\n"
   ]
  },
  {
   "cell_type": "markdown",
   "id": "3c43a642-c169-4526-b7b1-bb44dbd26440",
   "metadata": {},
   "source": [
    "---\n",
    "### Task B3 (2 points)\n",
    "\n",
    "Now, update the name of the station `Helsinki lighthouse` to a shorter name: `lighthouse`. Use the method `update().`"
   ]
  },
  {
   "cell_type": "code",
   "execution_count": 39,
   "id": "1a1e1b03-2af2-4ea5-a572-4541ead53216",
   "metadata": {},
   "outputs": [],
   "source": [
    "\"\"\"Update the name of the station Helsinki lighthouse lighthouse\"\"\"\n",
    "\n",
    "FIMdata[101003].update({'StatName': 'lighthouse'})"
   ]
  },
  {
   "cell_type": "markdown",
   "id": "21445f9b-d542-43f7-82eb-2d2eeaf338ef",
   "metadata": {},
   "source": [
    "---\n",
    "\n",
    "### Task B4 (2 point)\n",
    "\n",
    "As you can see, dictionaries are very useful in manipulating datasets. If an entry is deleted, you do not need to update the access key for preceding entries, as you would have to do for lists.\n",
    "\n",
    "In the next step, assign a variable `FIMkeys` with the keys of the dictionary. **Use a dictionary method (not a list comprehension)**."
   ]
  },
  {
   "cell_type": "code",
   "execution_count": 40,
   "id": "09c1ef06-b815-45fb-8808-996287f87398",
   "metadata": {},
   "outputs": [],
   "source": [
    "\"\"\"Assign the keys of the dictionary FIMdata to a variable FIMkeys.\"\"\"\n",
    "\n",
    "FIMkeys = FIMdata.keys()"
   ]
  },
  {
   "cell_type": "code",
   "execution_count": 41,
   "id": "4fe760d3-a9e3-46c4-84b4-01629760bd98",
   "metadata": {},
   "outputs": [],
   "source": [
    "\"\"\"Check the result of your code.\"\"\"\n",
    "\n",
    "assert list(FIMkeys) == [100971, 101004, 101009, 101003]\n"
   ]
  },
  {
   "cell_type": "markdown",
   "id": "f1188dce-b977-4bff-b722-28b3f1744504",
   "metadata": {},
   "source": [
    "---\n",
    "## Part C:  Dictionaries of Lists, or better the Other Way Around?\n",
    "\n",
    "### Task C.1 (4 points)\n",
    "\n",
    "You have given two different data structures containing inventory lists. \n",
    "First, investigate the data structures and execute the data cell. Here a short description of the abbreviations:\n",
    "* SKU:   Stock Keeping Unit (i.e., a specific item) \n",
    "* Cost:  \\$ per unit\n",
    "* Location:   Aisle in a warehouse \n",
    "* Qty:   Quantity on hand \n",
    "\n",
    "Then, study the access operations for both data structures, given in the code in the cell further below. Learn, to discriminate how to access the two different data structures. Try and experiment with the example code in the empty code cells below."
   ]
  },
  {
   "cell_type": "code",
   "execution_count": 42,
   "id": "043dddbc-c9c0-4c11-b65b-6e7a61a90996",
   "metadata": {},
   "outputs": [],
   "source": [
    "# Two Different Inventory List Data Structures\n",
    "\n",
    "inv1 = [\n",
    "       {'sku': 'A1004', 'cost':  3.45, 'location': 'A104', 'qty': 12}\n",
    "      ,{'sku': 'A1012', 'cost': 19.68, 'location': 'A105', 'qty': 92}\n",
    "      ,{'sku': 'B1638', 'cost': 33.14, 'location': 'A106', 'qty':  2}\n",
    "      ,{'sku': 'B1849', 'cost':  0.78, 'location': 'A107', 'qty': 18}\n",
    "      ,{'sku': 'C1098', 'cost':  1.29, 'location': 'C204', 'qty':  1}\n",
    "]\n",
    "\n",
    "inv2 = {\n",
    "       'A1004': [ 3.45, 'A104', 12]\n",
    "      ,'A1012': [19.68, 'A105', 92]\n",
    "      ,'B1638': [33.14, 'A106',  2]\n",
    "      ,'B1849': [ 0.78, 'A107', 18]\n",
    "      ,'C1098' :[ 1.29, 'C204',  1]\n",
    "}"
   ]
  },
  {
   "cell_type": "code",
   "execution_count": 43,
   "id": "6d5fd236-9408-4050-af24-1806beda01c4",
   "metadata": {},
   "outputs": [
    {
     "name": "stdout",
     "output_type": "stream",
     "text": [
      "{'sku': 'A1004', 'cost': 3.45, 'location': 'A104', 'qty': 12}\n",
      "{'sku': 'A1012', 'cost': 19.68, 'location': 'A105', 'qty': 92}\n",
      "{'sku': 'B1638', 'cost': 33.14, 'location': 'A106', 'qty': 2}\n",
      "{'sku': 'B1849', 'cost': 0.78, 'location': 'A107', 'qty': 18}\n",
      "{'sku': 'C1098', 'cost': 1.29, 'location': 'C204', 'qty': 1}\n",
      "A1004 [3.45, 'A104', 12]\n",
      "A1012 [19.68, 'A105', 92]\n",
      "B1638 [33.14, 'A106', 2]\n",
      "B1849 [0.78, 'A107', 18]\n",
      "C1098 [1.29, 'C204', 1]\n",
      "\n",
      "What is your favorite? A dictionary of lists, or a list of dictionaries?\n",
      "\n"
     ]
    }
   ],
   "source": [
    "# Examples for Data Structures\n",
    "\n",
    "\n",
    "# Show all Items in the Dataset\n",
    "# ... for inv1\n",
    "for r in inv1: \n",
    "    print(r)\n",
    "# ... for inv2\n",
    "for k in inv2:\n",
    "    print(k, inv2[k])\n",
    "\n",
    "\n",
    "# List all SKUs in the Dataset\n",
    "# ... for inv1\n",
    "[r['sku'] for r in inv1]\n",
    "# ... for inv2\n",
    "inv2.keys()\n",
    "\n",
    "\n",
    "#Total Inventory Value\n",
    "# ... for inv1\n",
    "sum([r['cost']*r['qty'] for r in inv1])\n",
    "# ... for inv2\n",
    "sum([inv2[k][0]*inv2[k][2] for k in inv2])\n",
    "\n",
    "\n",
    "#On‐hand inventory for SKU B1638\n",
    "# ... for inv1\n",
    "sku = 'B1638'\n",
    "inv1[[s['sku'] for s in inv1].index(sku)]['qty']\n",
    "# ... for inv2\n",
    "sku = 'B1638'\n",
    "inv2[sku][2]\n",
    "\n",
    "print('\\nWhat is your favorite? A dictionary of lists, or a list of dictionaries?\\n')"
   ]
  },
  {
   "cell_type": "markdown",
   "id": "a2c5dc95-5eb7-46d0-bd0d-a53023ea8d4e",
   "metadata": {},
   "source": [
    "Try the examples by copying & pasting them into the code cells below. Study their output. You may also add more code cells, if you like. This exercise will not be graded, but you will need the expertise in the following tasks."
   ]
  },
  {
   "cell_type": "code",
   "execution_count": 44,
   "id": "cb75b894-bd57-4fb3-a513-6310b5fa096d",
   "metadata": {},
   "outputs": [
    {
     "name": "stdout",
     "output_type": "stream",
     "text": [
      "{'sku': 'A1004', 'cost': 3.45, 'location': 'A104', 'qty': 12}\n",
      "{'sku': 'A1012', 'cost': 19.68, 'location': 'A105', 'qty': 92}\n",
      "{'sku': 'B1638', 'cost': 33.14, 'location': 'A106', 'qty': 2}\n",
      "{'sku': 'B1849', 'cost': 0.78, 'location': 'A107', 'qty': 18}\n",
      "{'sku': 'C1098', 'cost': 1.29, 'location': 'C204', 'qty': 1}\n",
      "A1004 [3.45, 'A104', 12]\n",
      "A1012 [19.68, 'A105', 92]\n",
      "B1638 [33.14, 'A106', 2]\n",
      "B1849 [0.78, 'A107', 18]\n",
      "C1098 [1.29, 'C204', 1]\n"
     ]
    }
   ],
   "source": [
    "### Try the examples in this code cell. \n",
    "# (This will not be graded for accuracy, but you receive up to 4 points \n",
    "# for experimenting with the code.)\n",
    "for r in inv1: \n",
    "    print(r)\n",
    "# ... for inv2\n",
    "for k in inv2:\n",
    "    print(k, inv2[k])\n"
   ]
  },
  {
   "cell_type": "code",
   "execution_count": 45,
   "id": "7f615bb8-65e5-4dfb-b70d-450ac3973c5a",
   "metadata": {
    "tags": []
   },
   "outputs": [
    {
     "name": "stdout",
     "output_type": "stream",
     "text": [
      "['A1004', 'A1012', 'B1638', 'B1849', 'C1098']\n"
     ]
    },
    {
     "data": {
      "text/plain": [
       "dict_keys(['A1004', 'A1012', 'B1638', 'B1849', 'C1098'])"
      ]
     },
     "execution_count": 45,
     "metadata": {},
     "output_type": "execute_result"
    }
   ],
   "source": [
    "### Try the examples in this code cell. \n",
    "# ... for inv1\n",
    "print([r['sku'] for r in inv1])\n",
    "# ... for inv2\n",
    "inv2.keys()\n",
    "\n"
   ]
  },
  {
   "cell_type": "code",
   "execution_count": 46,
   "id": "5cae95b1-590a-4156-b9af-60f8cd05f2a0",
   "metadata": {},
   "outputs": [
    {
     "data": {
      "text/plain": [
       "1933.57"
      ]
     },
     "execution_count": 46,
     "metadata": {},
     "output_type": "execute_result"
    }
   ],
   "source": [
    "### Try the examples in this code cell.\n",
    "sum([r['cost']*r['qty'] for r in inv1])\n",
    "# ... for inv2\n",
    "sum([inv2[k][0]*inv2[k][2] for k in inv2])\n"
   ]
  },
  {
   "cell_type": "code",
   "execution_count": 47,
   "id": "a5216741-3c15-4eb2-a054-f313549f202b",
   "metadata": {},
   "outputs": [
    {
     "name": "stdout",
     "output_type": "stream",
     "text": [
      "2\n",
      "2\n",
      "\n",
      "What is your favorite? A dictionary of lists, or a list of dictionaries?\n",
      "\n"
     ]
    }
   ],
   "source": [
    "sku = 'B1638'\n",
    "print(inv1[[s['sku'] for s in inv1].index(sku)]['qty'])\n",
    "# ... for inv2\n",
    "sku = 'B1638'\n",
    "print(inv2[sku][2])\n",
    "\n",
    "print('\\nWhat is your favorite? A dictionary of lists, or a list of dictionaries?\\n')"
   ]
  },
  {
   "cell_type": "markdown",
   "id": "fc8292a4-fd53-4c3e-83e0-3b505caa6a4a",
   "metadata": {},
   "source": [
    "> I prefer a list of dictionaries. I think the formatting using words is less susceptible to errors compared to the index/number approach."
   ]
  },
  {
   "cell_type": "markdown",
   "id": "05869ed9-e733-4f4a-9793-409b4b29511d",
   "metadata": {},
   "source": [
    "---\n",
    "### Task C.2 ( 2 points)\n",
    "\n",
    "After studying the access operations for dictionaries, let's practise a few of them.\n",
    "\n",
    "We keep working with both inventary dictionaries `inv1` and `inv2`.\n",
    "Assign two variables `costA1004_inv1` and `costA1004_inv2` with the cost of the stock unit A1004, one for each of the two dictionaries. **Use mapping keys and list indexes on both dictionaries for that!**"
   ]
  },
  {
   "cell_type": "code",
   "execution_count": 48,
   "id": "7622d3e4-cbb4-4b76-a7e0-a6a8c6e75797",
   "metadata": {},
   "outputs": [],
   "source": [
    "\"\"\"Assign variables costA1004_inv1 and costA1004_inv2 with cost\n",
    "   information from the dictionaries inv1 and inv2.\"\"\"\n",
    "\n",
    "costA1004_inv1 = inv1[0]['cost']\n",
    "costA1004_inv2 = inv2['A1004'][0]"
   ]
  },
  {
   "cell_type": "code",
   "execution_count": 49,
   "id": "cf1e6a10-232a-4e21-b404-c7af68a4428a",
   "metadata": {},
   "outputs": [],
   "source": [
    "#Check the result of your code\n",
    "\n",
    "assert costA1004_inv1 == 3.45\n",
    "assert costA1004_inv2 == 3.45\n"
   ]
  },
  {
   "cell_type": "markdown",
   "id": "282bcefa-1daf-470d-8d43-6f262b63a9de",
   "metadata": {},
   "source": [
    "---\n",
    "### Task C.3 ( 2 points)\n",
    "Now, for the stock unit C1098, change the available quantity from 1 to 20. Do this for both inventory dictionaries `inv1` and `inv2`."
   ]
  },
  {
   "cell_type": "code",
   "execution_count": 50,
   "id": "522e49e2-44b8-4fef-8a1e-2acda5c0c691",
   "metadata": {},
   "outputs": [],
   "source": [
    "\"\"\"Change quantity of stock unit C1098 to 20 in both dictionaries.\"\"\"\n",
    "\n",
    "inv1[-1].update({'qty':20})\n",
    "inv2['C1098'][-1] = 20"
   ]
  },
  {
   "cell_type": "code",
   "execution_count": 51,
   "id": "a538ff9b-1aed-4369-9326-286f118dacb2",
   "metadata": {},
   "outputs": [
    {
     "name": "stdout",
     "output_type": "stream",
     "text": [
      "{'A1004': [3.45, 'A104', 12], 'A1012': [19.68, 'A105', 92], 'B1638': [33.14, 'A106', 2], 'B1849': [0.78, 'A107', 18], 'C1098': [1.29, 'C204', 20]}\n"
     ]
    },
    {
     "data": {
      "text/plain": [
       "[{'sku': 'A1004', 'cost': 3.45, 'location': 'A104', 'qty': 12},\n",
       " {'sku': 'A1012', 'cost': 19.68, 'location': 'A105', 'qty': 92},\n",
       " {'sku': 'B1638', 'cost': 33.14, 'location': 'A106', 'qty': 2},\n",
       " {'sku': 'B1849', 'cost': 0.78, 'location': 'A107', 'qty': 18},\n",
       " {'sku': 'C1098', 'cost': 1.29, 'location': 'C204', 'qty': 20}]"
      ]
     },
     "execution_count": 51,
     "metadata": {},
     "output_type": "execute_result"
    }
   ],
   "source": [
    "#Check the result of your code.\n",
    "\n",
    "print (inv2)   # also try: inv1\n",
    "\n",
    "inv1"
   ]
  },
  {
   "cell_type": "markdown",
   "id": "1a25b8e7-be64-4d87-a01b-bd178b7cf983",
   "metadata": {},
   "source": [
    "---\n",
    "\n",
    "### Task C.4  ( 2 points)\n",
    "Now, delete the following items from the data structure:\n",
    "* the *location* of the last entry from the data structure `inv1`\n",
    "* the *entire last entry* from the data structure `inv2`! \n",
    "\n",
    "It is not enough to delete the content. You have to remove the entire entry for location or unit, respectively. \n",
    "\n",
    "(Note: We the data structures are again copied in the cell below, for easier access.)"
   ]
  },
  {
   "cell_type": "code",
   "execution_count": 52,
   "id": "7a1f38ce-20bb-46cd-b346-ab3aea12a042",
   "metadata": {},
   "outputs": [],
   "source": [
    "# Two Different Inventory List Data Structures\n",
    "\n",
    "inv1 = [\n",
    "       {'sku': 'A1004', 'cost':  3.45, 'location': 'A104', 'qty': 12}\n",
    "      ,{'sku': 'A1012', 'cost': 19.68, 'location': 'A105', 'qty': 92}\n",
    "      ,{'sku': 'B1638', 'cost': 33.14, 'location': 'A106', 'qty':  2}\n",
    "      ,{'sku': 'B1849', 'cost':  0.78, 'location': 'A107', 'qty': 18}\n",
    "      ,{'sku': 'C1098', 'cost':  1.29, 'location': 'C204', 'qty':  1}\n",
    "]\n",
    "\n",
    "inv2 = {\n",
    "       'A1004': [ 3.45, 'A104', 12]\n",
    "      ,'A1012': [19.68, 'A105', 92]\n",
    "      ,'B1638': [33.14, 'A106',  2]\n",
    "      ,'B1849': [ 0.78, 'A107', 18]\n",
    "      ,'C1098' :[ 1.29, 'C204',  1]\n",
    "}"
   ]
  },
  {
   "cell_type": "code",
   "execution_count": 53,
   "id": "87d807c8-c06a-4f25-9edc-79cf67ea5a9f",
   "metadata": {},
   "outputs": [],
   "source": [
    "\"\"\"Delete requested items in the dictionaries.\"\"\"\n",
    "\n",
    "del inv1[-1]['location']\n",
    "del inv2['C1098']"
   ]
  },
  {
   "cell_type": "code",
   "execution_count": 54,
   "id": "83bd8dfd-f5df-4189-92db-1b9a349af615",
   "metadata": {},
   "outputs": [
    {
     "data": {
      "text/plain": [
       "[{'sku': 'A1004', 'cost': 3.45, 'location': 'A104', 'qty': 12},\n",
       " {'sku': 'A1012', 'cost': 19.68, 'location': 'A105', 'qty': 92},\n",
       " {'sku': 'B1638', 'cost': 33.14, 'location': 'A106', 'qty': 2},\n",
       " {'sku': 'B1849', 'cost': 0.78, 'location': 'A107', 'qty': 18},\n",
       " {'sku': 'C1098', 'cost': 1.29, 'qty': 1}]"
      ]
     },
     "execution_count": 54,
     "metadata": {},
     "output_type": "execute_result"
    }
   ],
   "source": [
    "# Check the result of your code for the first data structure.\n",
    "inv1"
   ]
  },
  {
   "cell_type": "code",
   "execution_count": 55,
   "id": "2df7ca49-b808-4e3d-99c8-3bfd96c039c6",
   "metadata": {},
   "outputs": [
    {
     "data": {
      "text/plain": [
       "{'A1004': [3.45, 'A104', 12],\n",
       " 'A1012': [19.68, 'A105', 92],\n",
       " 'B1638': [33.14, 'A106', 2],\n",
       " 'B1849': [0.78, 'A107', 18]}"
      ]
     },
     "execution_count": 55,
     "metadata": {},
     "output_type": "execute_result"
    }
   ],
   "source": [
    "#Check the result of your code for the second data structure.\n",
    "inv2"
   ]
  },
  {
   "cell_type": "code",
   "execution_count": 56,
   "id": "9af4a52e-c3d1-4b4b-9559-240679c1ae9a",
   "metadata": {},
   "outputs": [],
   "source": [
    "#Check the result of your code.\n",
    "\n",
    "assert len(inv1) == 5\n",
    "assert len(inv2) == 4\n"
   ]
  },
  {
   "cell_type": "code",
   "execution_count": null,
   "id": "757c126f-c6a5-4e7d-b250-689fe7a610eb",
   "metadata": {},
   "outputs": [],
   "source": [
    "! git pull\n",
    "! git add Exercise04b_Dictionaries.ipynb\n",
    "! git commit "
   ]
  },
  {
   "cell_type": "markdown",
   "id": "16670565-7564-4935-aae1-768b28e2880f",
   "metadata": {},
   "source": [
    "---\n",
    "If you are satisfied with your notebook, save it and push it to your homework repository."
   ]
  }
 ],
 "metadata": {
  "kernelspec": {
   "display_name": "Python 3 (ipykernel)",
   "language": "python",
   "name": "python3"
  },
  "language_info": {
   "codemirror_mode": {
    "name": "ipython",
    "version": 3
   },
   "file_extension": ".py",
   "mimetype": "text/x-python",
   "name": "python",
   "nbconvert_exporter": "python",
   "pygments_lexer": "ipython3",
   "version": "3.9.5"
  }
 },
 "nbformat": 4,
 "nbformat_minor": 5
}
