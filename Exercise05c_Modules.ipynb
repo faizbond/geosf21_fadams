{
 "cells": [
  {
   "cell_type": "markdown",
   "metadata": {},
   "source": [
    "\"Geo Data Science with Python\" \n",
    "### Notebook Exercise 5c\n",
    "\n",
    "---\n",
    "\n",
    "# Python Modules\n",
    "\n",
    "This exercise is meant to help you to understand how to use modules in Python. \n",
    "\n",
    "If you work in teams, please indicate your colaborators below!"
   ]
  },
  {
   "cell_type": "code",
   "execution_count": null,
   "metadata": {},
   "outputs": [],
   "source": [
    "NAME = \"\"\n",
    "COLLABORATORS = \"\""
   ]
  },
  {
   "cell_type": "markdown",
   "metadata": {
    "nbgrader": {
     "grade": false,
     "grade_id": "cell-Ainfo",
     "locked": true,
     "schema_version": 3,
     "solution": false,
     "task": false
    }
   },
   "source": [
    "---\n",
    "## Part A: Importing Modules (4 points)\n",
    "\n",
    "For this task, we will simply practise the various ways to import modules into our current namespace. Follow the tasks below and  fill in your code, when requested.\n"
   ]
  },
  {
   "cell_type": "markdown",
   "metadata": {
    "nbgrader": {
     "grade": false,
     "grade_id": "cell-Atask1",
     "locked": true,
     "schema_version": 3,
     "solution": false,
     "task": false
    }
   },
   "source": [
    "### A.1: Import the `string` module! \n",
    "\n",
    "The module `string` is built-in and part of the Python standard library. It provides constants, variables and methods for processing strings, for example the method `capwords()`.\n",
    "\n",
    "Import the module `string` by its name.\n"
   ]
  },
  {
   "cell_type": "code",
   "execution_count": 1,
   "metadata": {},
   "outputs": [],
   "source": [
    "\"\"\"Enter your code to import the module string by its name\"\"\"\n",
    "\n",
    "import string "
   ]
  },
  {
   "cell_type": "code",
   "execution_count": 2,
   "metadata": {},
   "outputs": [
    {
     "name": "stdout",
     "output_type": "stream",
     "text": [
      "If you correctly imported the module, the string constant 'digits' will be print to screen: 0123456789\n"
     ]
    }
   ],
   "source": [
    "# Check your result (no need to edit, run this cell):\n",
    "print(\"If you correctly imported the module, the string constant 'digits' will be print to screen:\", string.digits)\n"
   ]
  },
  {
   "cell_type": "markdown",
   "metadata": {
    "nbgrader": {
     "grade": false,
     "grade_id": "cell-Atask2",
     "locked": true,
     "schema_version": 3,
     "solution": false,
     "task": false
    }
   },
   "source": [
    "### A.2 Import the `math` module usinge the acronym `ma`! \n",
    "\n",
    "The module `math` provides several floating point math functions, e.g. the function `pow()`.\n",
    "\n",
    "In the cell below, import the `math` module usinge the acronym `ma`! You should be able to reference any function in the math module with the prefix `ma.`, instead of `math.`."
   ]
  },
  {
   "cell_type": "code",
   "execution_count": 3,
   "metadata": {
    "nbgrader": {
     "grade": false,
     "grade_id": "cell-Aanswer2",
     "locked": false,
     "schema_version": 3,
     "solution": true,
     "task": false
    }
   },
   "outputs": [],
   "source": [
    "\"\"\"Enter your code to import the math module with acronym\"\"\"\n",
    "\n",
    "import math as ma "
   ]
  },
  {
   "cell_type": "code",
   "execution_count": 4,
   "metadata": {},
   "outputs": [
    {
     "name": "stdout",
     "output_type": "stream",
     "text": [
      "If you correctly imported the module, Euler's number will be print to screen: 2.718281828459045\n"
     ]
    }
   ],
   "source": [
    "# Check your result (no need to edit, run this cell):\n",
    "print(\"If you correctly imported the module, Euler's number will be print to screen:\", ma.e)\n"
   ]
  },
  {
   "cell_type": "markdown",
   "metadata": {
    "nbgrader": {
     "grade": false,
     "grade_id": "cell-Atask3",
     "locked": true,
     "points": 1,
     "schema_version": 3,
     "solution": false,
     "task": true
    }
   },
   "source": [
    "### A.3 Integrate a module's attribut to your namespace! \n",
    "\n",
    "Import Euler's number `e` by the name `euler` from the math module in the way that you do not need the prefix `math` or `ma` to use it."
   ]
  },
  {
   "cell_type": "code",
   "execution_count": 12,
   "metadata": {
    "nbgrader": {
     "grade": false,
     "grade_id": "cell-Aanswer3",
     "locked": false,
     "schema_version": 3,
     "solution": true,
     "task": false
    }
   },
   "outputs": [],
   "source": [
    "\"\"\"Enter your code \"\"\"\n",
    "\n",
    "from math import e as euler \n"
   ]
  },
  {
   "cell_type": "code",
   "execution_count": 13,
   "metadata": {},
   "outputs": [
    {
     "name": "stdout",
     "output_type": "stream",
     "text": [
      "If you correctly imported Euler's number, it will be print to screen: 2.718281828459045\n"
     ]
    }
   ],
   "source": [
    "# Check your result (no need to edit, run this cell):\n",
    "print(\"If you correctly imported Euler's number, it will be print to screen:\", euler)\n"
   ]
  },
  {
   "cell_type": "markdown",
   "metadata": {
    "nbgrader": {
     "grade": false,
     "grade_id": "cell-Btask1",
     "locked": true,
     "schema_version": 3,
     "solution": false,
     "task": false
    }
   },
   "source": [
    "---\n",
    "## Part B: Using Modules (6 points)\n",
    "\n",
    "Now, let's explore and practice using both of the imported modules a bit! Let's begin with defining some data. Below we defined a list of eight selected lakes in the state of Arizona and their sizes in acres."
   ]
  },
  {
   "cell_type": "code",
   "execution_count": 27,
   "metadata": {
    "nbgrader": {
     "grade": false,
     "grade_id": "cell-Bdata",
     "locked": true,
     "schema_version": 3,
     "solution": false,
     "task": false
    }
   },
   "outputs": [],
   "source": [
    "AZ_lake_names = [\n",
    "    'theodore roosevelt lake',\n",
    "    'lake pleasant',\n",
    "    'canyon lake',\n",
    "    'apache lake',\n",
    "    'saguaro lake',\n",
    "    'woods canyon lake',\n",
    "    'bartlett lake',\n",
    "    'tempe town lake' ]\n",
    "\n",
    "AZ_lake_sizes = [ # in acres\n",
    "    21493, \n",
    "    7500,\n",
    "    950,\n",
    "    2568,\n",
    "    1264,\n",
    "    55,\n",
    "    2015,\n",
    "    224  ]"
   ]
  },
  {
   "cell_type": "markdown",
   "metadata": {
    "nbgrader": {
     "grade": false,
     "grade_id": "cell-Btask2",
     "locked": true,
     "schema_version": 3,
     "solution": false,
     "task": false
    }
   },
   "source": [
    "Now, go to the documentation pages of the string and the math modules. These links are:\n",
    "\n",
    "* Math module: https://docs.python.org/3/library/math.html\n",
    "* String module: https://docs.python.org/3/library/string.html#module-string\n",
    "\n",
    "Go through the list of available attributes and methods on these documentation pages to get an idea of the module's content. \n",
    "\n",
    "Find the method `capwords()` from the string module and the method `sqrt()` from the math module. We want to use them now on the lake data."
   ]
  },
  {
   "cell_type": "markdown",
   "metadata": {
    "nbgrader": {
     "grade": false,
     "grade_id": "cell-Btask2",
     "locked": true,
     "schema_version": 3,
     "solution": false,
     "task": false
    }
   },
   "source": [
    "### B.1 Use method capwords()\n",
    "\n",
    "Use the method `capwords()` to transfer the lakenames in the list `AZ_lake_names`, so that each word in the lake name strings capitalized. Assing the result to a new list `AZ_lake_names_cap`.\n",
    "\n",
    "Hint: You have to implement an iteration over the list to perform this. For example, you can use a for-loop or a list comprehension."
   ]
  },
  {
   "cell_type": "code",
   "execution_count": 31,
   "metadata": {
    "nbgrader": {
     "grade": false,
     "grade_id": "cell-Banswer1",
     "locked": false,
     "schema_version": 3,
     "solution": true,
     "task": false
    }
   },
   "outputs": [],
   "source": [
    "\"\"\"Enter your code \"\"\"\n",
    "\n",
    "from string import capwords\n",
    "\n",
    "AZ_lake_names_cap = [ capwords(i) for i in AZ_lake_names]"
   ]
  },
  {
   "cell_type": "code",
   "execution_count": 32,
   "metadata": {},
   "outputs": [
    {
     "name": "stdout",
     "output_type": "stream",
     "text": [
      "['Theodore Roosevelt Lake', 'Lake Pleasant', 'Canyon Lake', 'Apache Lake', 'Saguaro Lake', 'Woods Canyon Lake', 'Bartlett Lake', 'Tempe Town Lake']\n"
     ]
    }
   ],
   "source": [
    "# Print your result:\n",
    "print(AZ_lake_names_cap)\n"
   ]
  },
  {
   "cell_type": "markdown",
   "metadata": {
    "nbgrader": {
     "grade": false,
     "grade_id": "cell-Btask3",
     "locked": true,
     "points": 1,
     "schema_version": 3,
     "solution": false,
     "task": true
    }
   },
   "source": [
    "### B.2 Use method sqrt() and attribute pi\n",
    "\n",
    "The area of a circle is given by the equation: $A = \\pi \\frac{d^2}{4}$. The list `AZ_lake_sizes` provides us with the information of the lake areas. Now, estimate the approximate diameter $d$ of the lake (by simply assuming it has an ideal circular shape). You can calculate the diameter with the equation: \n",
    "\n",
    "$d = 2 * \\sqrt{ \\frac{A}{\\pi} }$\n",
    "\n",
    "Use the function `sqrt()` and the constant `pi` from the math module to code this equation below and assign a new list `AZ_lake_diam` with the results. Make sure that the unit of your result is in `miles`.\n",
    "\n",
    "Hint: Same as above, you have to implement an iteration over the list to perform this. For example, you can use a for-loop or a list comprehension."
   ]
  },
  {
   "cell_type": "code",
   "execution_count": 42,
   "metadata": {
    "nbgrader": {
     "grade": false,
     "grade_id": "cell-Banswer1",
     "locked": false,
     "schema_version": 3,
     "solution": true,
     "task": false
    }
   },
   "outputs": [],
   "source": [
    "\"\"\"Enter your code \"\"\"\n",
    "from math import sqrt\n",
    "from math import pi\n",
    "\n",
    "areaMiles = [ i/640 for i in AZ_lake_sizes]    # converting from acres to square miles\n",
    "\n",
    "AZ_lake_diam = [2*sqrt(i/pi) for i in areaMiles]"
   ]
  },
  {
   "cell_type": "code",
   "execution_count": 43,
   "metadata": {},
   "outputs": [
    {
     "name": "stdout",
     "output_type": "stream",
     "text": [
      "[6.539033942290431, 3.862742020231896, 1.374759960580849, 2.260281768552284, 1.585764200898717, 0.3307854642750767, 2.002177596799823, 0.6675581178124546]\n"
     ]
    }
   ],
   "source": [
    "# Print your result:\n",
    "print(AZ_lake_diam)\n"
   ]
  },
  {
   "cell_type": "markdown",
   "metadata": {},
   "source": [
    "If you are satisfied with your notebook, save it and push it to your homework repository."
   ]
  },
  {
   "cell_type": "markdown",
   "metadata": {
    "nbgrader": {
     "grade": false,
     "grade_id": "cell-Btask1",
     "locked": true,
     "schema_version": 3,
     "solution": false,
     "task": false
    }
   },
   "source": [
    "---\n",
    "## Part C: main() (5 points)\n",
    "\n",
    "In the markdown cell below enter the answer to the following question:\n",
    "\n",
    "#### C.1: Do you need to enter a main() function into a Python module? (1 point) "
   ]
  },
  {
   "cell_type": "markdown",
   "metadata": {},
   "source": [
    "\n",
    "A main() function is not needed since a function can be called from a python script file. \n"
   ]
  },
  {
   "cell_type": "markdown",
   "metadata": {
    "nbgrader": {
     "grade": false,
     "grade_id": "cell-Btask1",
     "locked": true,
     "schema_version": 3,
     "solution": false,
     "task": false
    }
   },
   "source": [
    "#### C.2: Explain the purposes of the main function! (2 points)"
   ]
  },
  {
   "cell_type": "markdown",
   "metadata": {},
   "source": [
    "\n",
    "A main() function in other languages is needed to execute a script, but in Python it helps to logically orgainze code. \n"
   ]
  },
  {
   "cell_type": "markdown",
   "metadata": {},
   "source": [
    "#### C.3: Name the built-in attribute that indicates whether you are on the main program level or not! (1 point)"
   ]
  },
  {
   "cell_type": "markdown",
   "metadata": {},
   "source": [
    "\n",
    "By checking \n",
    "\n",
    "if __name__ == '__main__':\n"
   ]
  },
  {
   "cell_type": "markdown",
   "metadata": {},
   "source": [
    "#### C.4: How would you implement the main() in a file, to allow using the file as program as well as a module? (1 point)"
   ]
  },
  {
   "cell_type": "markdown",
   "metadata": {},
   "source": [
    "\n",
    "This can be done by adding main to the top line of a function or module. \n"
   ]
  },
  {
   "cell_type": "code",
   "execution_count": null,
   "metadata": {},
   "outputs": [],
   "source": []
  }
 ],
 "metadata": {
  "kernelspec": {
   "display_name": "Python 3",
   "language": "python",
   "name": "python3"
  },
  "language_info": {
   "codemirror_mode": {
    "name": "ipython",
    "version": 3
   },
   "file_extension": ".py",
   "mimetype": "text/x-python",
   "name": "python",
   "nbconvert_exporter": "python",
   "pygments_lexer": "ipython3",
   "version": "3.8.8"
  }
 },
 "nbformat": 4,
 "nbformat_minor": 4
}
