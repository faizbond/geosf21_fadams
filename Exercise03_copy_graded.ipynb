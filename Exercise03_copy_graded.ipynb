{
 "cells": [
  {
   "cell_type": "markdown",
   "metadata": {},
   "source": [
    "\"Geo Data Science with Python\" \n",
    "### Notebook Exercise 2\n",
    " \n",
    "# Python Lists"
   ]
  },
  {
   "cell_type": "markdown",
   "metadata": {},
   "source": [
    "<div class=\"alert alert-warning\">\n",
    "\n",
    "SW: total points: 21/18   \n",
    "    \n",
    "    \n",
    "Summary:\n",
    "- Task A.1: 3/3\n",
    "- Task A.2: 2/2\n",
    "- Task B.2: 2/2\n",
    "- Task C.1: 3/3\n",
    "- Task C.2: 8/8\n",
    "- Task C.3: 3/3 (extra credit)\n",
    "\n",
    "All great, no comments.\n",
    "    \n",
    "</div>"
   ]
  },
  {
   "cell_type": "markdown",
   "metadata": {},
   "source": [
    "---\n",
    "\n",
    "\n",
    "## Part A: Writing and Indexing Lists\n",
    "\n",
    "\n",
    "### Task A.1 (3 points)\n",
    "\n",
    "A student datasets is given in the table below. \n",
    "\n",
    "| ID    | Name        | Gender | Level | Place of Birth |\n",
    "| - | - | - | - | - |\n",
    "| 70001 | Jane Doe    | F      | Jr    | Atlanta |\n",
    "| 70002 | John Blue   | M      | Sr    | Phoenix |\n",
    "| 70003 | Kim Tester  | F      | Jr    | Chicago |\n",
    "| 70004 | Larry Black | M      | Sphm    | New York |\n",
    "| 70005 | Susan White | F      | Sphm    | Berlin |\n",
    "\n",
    "\n",
    "Translate this dataset into two lists. One simple list of name `header` should contain the header only. The second list of name `studentData`, should contain the data in the table as a list of lists. Use the same orientation and order as in the table (rows should be lists, in a list). Use appropriate object types: numbers and strings."
   ]
  },
  {
   "cell_type": "code",
   "execution_count": 1,
   "metadata": {},
   "outputs": [],
   "source": [
    "\"\"\"Create two lists: header and datatable, that reflect the table above.\"\"\"\n",
    "\n",
    "header = ['ID', 'Name', 'Gender' ,'Level', 'Place of Birth']\n",
    "studentData = [\n",
    "    [70001, 'Jane Doe', 'F', 'Jr', 'Atlanta'], \n",
    "    [70002, 'John Blue', 'M', 'Sr', 'Phoenix'], \n",
    "    [70003, 'Kim Tester', 'F', 'Jr', 'Chicago'], \n",
    "    [70004, 'Larry Black', 'M', 'Sphm', 'New York'], \n",
    "    [70005, 'Susan White', 'F', 'Sphm', 'Berlin']\n",
    "]\n"
   ]
  },
  {
   "cell_type": "code",
   "execution_count": 2,
   "metadata": {},
   "outputs": [
    {
     "name": "stdout",
     "output_type": "stream",
     "text": [
      "['ID', 'Name', 'Gender', 'Level', 'Place of Birth']\n"
     ]
    }
   ],
   "source": [
    "# Check that your lists have the right content, orientation and hierarchy.\n",
    "\n",
    "print(header)\n"
   ]
  },
  {
   "cell_type": "code",
   "execution_count": 3,
   "metadata": {},
   "outputs": [
    {
     "data": {
      "text/plain": [
       "[[70001, 'Jane Doe', 'F', 'Jr', 'Atlanta'],\n",
       " [70002, 'John Blue', 'M', 'Sr', 'Phoenix'],\n",
       " [70003, 'Kim Tester', 'F', 'Jr', 'Chicago'],\n",
       " [70004, 'Larry Black', 'M', 'Sphm', 'New York'],\n",
       " [70005, 'Susan White', 'F', 'Sphm', 'Berlin']]"
      ]
     },
     "execution_count": 3,
     "metadata": {},
     "output_type": "execute_result"
    }
   ],
   "source": [
    "# Check that your lists have the right content, orientation and hierarchy.\n",
    "\n",
    "[e for e in studentData]\n"
   ]
  },
  {
   "cell_type": "code",
   "execution_count": 4,
   "metadata": {},
   "outputs": [],
   "source": [
    "# Check that your lists have the right content, orientation and hierarchy.\n",
    "\n",
    "assert type(header)        == list\n",
    "assert type(studentData)   == list\n",
    "assert header[0]           == 'ID'\n",
    "assert len(header)         == len(studentData[0])  ==  5\n",
    "assert len(studentData)    == 5\n",
    "assert studentData[0][1]   == 'Jane Doe'\n",
    "assert studentData[-1][-2] == 'Sphm'"
   ]
  },
  {
   "cell_type": "markdown",
   "metadata": {},
   "source": [
    "---\n",
    "### Task A.2 (2 points)\n",
    "\n",
    "Now assign new variables with content from the list, using indexing:\n",
    "* Assign the ID number Kim Tester to a varaible of the name: `IDofKim` \n",
    "* Assign the birth place of Susan White to a variable of the name `BirthPlaceSusan`\n",
    "* Assign the entire entry of John Blue to a variable of the name `DataJohn`\n",
    "* Assign all names to a variable of the name `StudentNames` <br>*Hint: Use indexing in combination with list comprehension for the last task item.*\n",
    "\n",
    "Enter your code in the cell below"
   ]
  },
  {
   "cell_type": "code",
   "execution_count": 5,
   "metadata": {},
   "outputs": [],
   "source": [
    "IDofKim = studentData[2][0]\n",
    "BirthPlaceSusan = studentData[-1][-1]\n",
    "DataJohn = studentData[1]\n",
    "StudentNames = [i[1] for i in studentData]\n"
   ]
  },
  {
   "cell_type": "code",
   "execution_count": 6,
   "metadata": {},
   "outputs": [
    {
     "name": "stdout",
     "output_type": "stream",
     "text": [
      "Kim's ID:\t\t70003\n",
      "Susan's birth place:\tBerlin\n",
      "John's data:\t\t[70002, 'John Blue', 'M', 'Sr', 'Phoenix']\n",
      "Student names:\t\t['Jane Doe', 'John Blue', 'Kim Tester', 'Larry Black', 'Susan White']\n"
     ]
    }
   ],
   "source": [
    "# Check that you get the correct values for your assigned variables:\n",
    "\n",
    "print(\"Kim's ID:\\t\\t{}\".format(IDofKim))\n",
    "print(\"Susan's birth place:\\t{}\".format(BirthPlaceSusan))\n",
    "print(\"John's data:\\t\\t{}\".format(DataJohn))\n",
    "print(\"Student names:\\t\\t{}\".format(StudentNames))"
   ]
  },
  {
   "cell_type": "markdown",
   "metadata": {},
   "source": [
    "---\n",
    "## Part B: Interacting with Lists\n",
    "\n",
    "### Task B.1 (not graded)\n",
    "\n",
    "For this task, you have given a list of people data in the following cell. Execute the data cell. Then study the code in the cell further below. It contains a lot of code examples, how to handle lists. Learn, how to interact with the data structure. Try and experiment with the example code in the empty code cells below.\n",
    "\n",
    "Especially focus on how various list comprehension queries can be merged to retrieve a specific entry, whithout actually looking at the data. For example: What is the name of the oldest person? The code examples provide you a step by step derivation of a comples list comprehension to receive the answer to that."
   ]
  },
  {
   "cell_type": "code",
   "execution_count": 7,
   "metadata": {},
   "outputs": [],
   "source": [
    "# Data Set: People\n",
    "\n",
    "# Creating a list that defines a person: Name, age, points\n",
    "person = [\"Tom Howard\", 54, 6.0]\n",
    "\n",
    "# Creating a list of lists to define a team:\n",
    "people = [\n",
    "    [\"Tom Howard\",          54,  6.0],\n",
    "    [\"Jane Grimm\",          19,  5.9],\n",
    "    [\"Sam Brown\",           25,  6.2],\n",
    "    [\"Sarah Joan Spade\",    26, 5.25],\n",
    "    [\"Blaine Jones\",        62,  5.8],\n",
    "    [\"Devin Callahan\",      32, 5.92],\n",
    "]"
   ]
  },
  {
   "cell_type": "code",
   "execution_count": 8,
   "metadata": {},
   "outputs": [
    {
     "data": {
      "text/plain": [
       "[54, 19, 25, 26, 62, 32]"
      ]
     },
     "execution_count": 8,
     "metadata": {},
     "output_type": "execute_result"
    }
   ],
   "source": [
    "# Retrieving all people's ages\n",
    "[p[1] for p in people] "
   ]
  },
  {
   "cell_type": "code",
   "execution_count": 9,
   "metadata": {},
   "outputs": [
    {
     "name": "stdout",
     "output_type": "stream",
     "text": [
      "['Tom Howard', 54, 6.0]\n",
      "['Jane Grimm', 19, 5.9]\n",
      "['Sam Brown', 25, 6.2]\n",
      "['Sarah Joan Spade', 26, 5.25]\n",
      "['Blaine Jones', 62, 5.8]\n",
      "['Devin Callahan', 32, 5.92]\n"
     ]
    }
   ],
   "source": [
    "\"\"\"Study the following code examples: How to interact with lists.\"\"\"\n",
    "\n",
    "#Indexing: accessing certain list entries\n",
    "people[0]   # first entry\n",
    "people[-2]  # second last entry\n",
    "\n",
    "# Slicing\n",
    "people[0:2]  # first two people\n",
    "\n",
    "# How many people on the team\n",
    "len(people)\n",
    "\n",
    "# print out all list elements\n",
    "for p in people: print(p)\n",
    "    \n",
    "# Access all names\n",
    "[p[0] for p in people]\n",
    "\n",
    "# Gives all last names \n",
    "[p[0].split()[-1] for p in people]\n",
    "# (find help for function split listed under:\n",
    "#  Online help > string (type in search bar) > function split \n",
    "\n",
    "# Gives all ages\n",
    "[p[1] for p in people]\n",
    "\n",
    "# Gives average age\n",
    "sum([p[1] for p in people])/float(len(people))\n",
    "\n",
    "# Gives total height\n",
    "sum(p[2] for p in people)\n",
    "\n",
    "\n",
    "# What is the name of the oldest person?\n",
    "# First, find the max age\n",
    "ages =[p[1] for p in people] \n",
    "max(ages)\n",
    "# Now, which item is max? - 62\n",
    "ages.index(62)\n",
    "# Who is that - person 4\n",
    "people[4][0]\n",
    "# Combine all steps before to find the oldest person\n",
    "people[[p[1] for p in people].index(max([p[1] for p in people]))][0]\n",
    "\n",
    "\n",
    "# delete list elements\n",
    "del people[5]\n",
    "\n",
    "# add list elements\n",
    "people.append([\"Your Name\",      23, 5.92])\n",
    "\n",
    "# Find out what the method pop does!\n",
    "people.pop()\n",
    "people.pop(2)\n",
    "\n",
    "# Find out what methods sort and reverse do exactly\n",
    "# go to 'Online help' > search for list > find methods\n",
    "people.sort()\n",
    "people.reverse()\n"
   ]
  },
  {
   "cell_type": "markdown",
   "metadata": {},
   "source": [
    "Try the examples by copying & pasting them into the code cells below. Study their output. You may also add more code cells, if you like. This exercise will not be graded, but you will need the expertise in the following tasks."
   ]
  },
  {
   "cell_type": "code",
   "execution_count": 10,
   "metadata": {},
   "outputs": [
    {
     "data": {
      "text/plain": [
       "['Howard', 'Spade', 'Grimm', 'Jones']"
      ]
     },
     "execution_count": 10,
     "metadata": {},
     "output_type": "execute_result"
    }
   ],
   "source": [
    "### Try the examples in this code cell. (This will not be graded.)\n",
    "[p[0].split()[-1] for p in people]"
   ]
  },
  {
   "cell_type": "code",
   "execution_count": 11,
   "metadata": {},
   "outputs": [
    {
     "data": {
      "text/plain": [
       "62"
      ]
     },
     "execution_count": 11,
     "metadata": {},
     "output_type": "execute_result"
    }
   ],
   "source": [
    "### Try the examples in this code cell. (This will not be graded.)\n",
    "ages =[p[1] for p in people] \n",
    "max(ages)\n"
   ]
  },
  {
   "cell_type": "code",
   "execution_count": 12,
   "metadata": {},
   "outputs": [
    {
     "data": {
      "text/plain": [
       "[['Blaine Jones', 62, 5.8],\n",
       " ['Jane Grimm', 19, 5.9],\n",
       " ['Sarah Joan Spade', 26, 5.25],\n",
       " ['Tom Howard', 54, 6.0]]"
      ]
     },
     "execution_count": 12,
     "metadata": {},
     "output_type": "execute_result"
    }
   ],
   "source": [
    "### Try the examples in this code cell. (This will not be graded.)\n",
    "people.sort()\n",
    "people"
   ]
  },
  {
   "cell_type": "markdown",
   "metadata": {},
   "source": [
    "### Task B.2 (2 points)\n",
    "\n",
    "After studying the examples for list comprehensions as well as string methods, answer the following: which of the operations or functions above are mutating the list? Copy & paste all examples you can find into the markdown cell below."
   ]
  },
  {
   "cell_type": "markdown",
   "metadata": {},
   "source": [
    "# del mutates the list by removing elements\n",
    "del people[5]\n",
    "\n",
    "# append mutates by adding elements\n",
    "people.append([\"Your Name\",      23, 5.92])\n",
    "\n",
    "# pop also removes an element from the list but returns it as a separate object\n",
    "people.pop()\n",
    "people.pop(2)\n",
    "\n",
    "# sort and reverse change the ordering of items in the list\n",
    "people.sort()\n",
    "people.reverse()"
   ]
  },
  {
   "cell_type": "markdown",
   "metadata": {},
   "source": [
    "---\n",
    "## Part C: Write your Own List Comprehensions\n",
    "\n",
    "### Task C.1 (3 points)\n",
    "\n",
    "This tasks includes writing several list comprehensions and other operations:\n",
    "\n",
    "1. Write a list comprehension that selects numbers from 1 and 100 that are divisible by 7 and assigns the result to a list `sevenList`. Use the built-in function `range()`. Search the function in the internet, if you do not know how to use it (simply search for *range Python* in the internet).\n",
    "\n",
    "\n",
    "2. Assign a list `lackList = [‘cackle’, ‘mack’, ‘kraggle’]` and write a list comprehension that returns the index of the letter k from the list. Assign the result to a variable `foundK`. Apply the function `find()`.\n",
    "\n",
    "\n",
    "3. Append a fourth string to the list `lackList` using the method `append()`. Then use list comprehensions to return the first letter of each word to a new list `firstLetList`.\n",
    "\n",
    "\n",
    "Enter the code for these task items in the cell below. Separate the blocks of the tasks items with a commented line,  starting with `# `. Use exactly these variable names, put your code below, where it states `YOUR CODE HERE` and keep the indent as provided."
   ]
  },
  {
   "cell_type": "code",
   "execution_count": 13,
   "metadata": {},
   "outputs": [],
   "source": [
    "\"\"\"Enter the code for the task items below, separate them\n",
    "   by one line and comment each answer block with #1, #2, #3.\"\"\"\n",
    "\n",
    "#1\n",
    "hundredRange = range (1,101)\n",
    "sevenList = [i for i in hundredRange if i % 7 == 0]\n",
    "\n",
    "#2\n",
    "lackList = ['cackle', 'mack', 'kraggle']\n",
    "foundK = [f.find('k') for f in lackList]\n",
    "\n",
    "#3 \n",
    "lackList.append('pack')\n",
    "firstLetList = [i[0] for i in list(lackList)]\n"
   ]
  },
  {
   "cell_type": "code",
   "execution_count": 14,
   "metadata": {},
   "outputs": [
    {
     "name": "stdout",
     "output_type": "stream",
     "text": [
      "\n",
      "\n",
      "Your results for Task C.2:\n",
      "\n",
      "\n",
      "The following numbers between 1 and 100 are divisable by seven:  [7, 14, 21, 28, 35, 42, 49, 56, 63, 70, 77, 84, 91, 98]\n",
      "\n",
      "\n",
      "The letter k was found at these positions in 3 'lackList' items: [3, 3, 0]\n",
      "\n",
      "\n",
      "The string 'pack' was added at the end of the list 'lackList'.\n",
      "The first letters of 'lackList' entries are:  ['c', 'm', 'k', 'p']\n",
      "\n",
      "\n"
     ]
    }
   ],
   "source": [
    "# Check the result of your code.\n",
    "print(\"\\n\")\n",
    "print(\"Your results for Task C.2:\")\n",
    "print(\"\\n\")\n",
    "print(\"The following numbers between 1 and 100 are divisable by seven: \", sevenList)\n",
    "print(\"\\n\")\n",
    "print(\"The letter k was found at these positions in %i 'lackList' items:\" % (len(lackList)-1), foundK )\n",
    "print(\"\\n\")\n",
    "print(\"The string '%s' was added at the end of the list 'lackList'.\" % lackList[-1])\n",
    "print(\"The first letters of 'lackList' entries are: \", firstLetList)\n",
    "print(\"\\n\")"
   ]
  },
  {
   "cell_type": "code",
   "execution_count": 15,
   "metadata": {},
   "outputs": [],
   "source": [
    "# Check the result of your code.\n",
    "\n",
    "assert type(sevenList)     == list\n",
    "assert len(sevenList)      == 14\n",
    "assert type(lackList)      == list\n",
    "assert lackList[0] == 'cackle'\n",
    "assert lackList[1] == 'mack'  \n",
    "assert lackList[2] == 'kraggle'\n",
    "assert len(lackList)       == 4\n",
    "assert type(lackList[3])  == str\n",
    "assert bool(firstLetList[3]) == True\n"
   ]
  },
  {
   "cell_type": "markdown",
   "metadata": {},
   "source": [
    "---\n",
    "### Task C.2 (8 points)\n",
    "\n",
    "After practicing list comprehensions so throrouly, let's get back to the example of the `people` list. The list is again assigned to it's original version in the cell below. \n",
    "\n",
    "Below the cell defining the dataset, and based on the code examples above in Part C, write a 1-line long operation that returns the name of the person with the lowest points and assigns it to the variable `NameLowestPoints`. You have to reach that result by executing a code **chain of list comprehensions and functions** on the list people, not through simple assignment (similar to the example above for the oldest person). \n",
    "\n",
    "The code should work on any other list with the same data structure (same table header and table orientation). In practice this means, you may index a column, but not a row in the list comprehension, and the correct row has to be find by the code you write."
   ]
  },
  {
   "cell_type": "code",
   "execution_count": 16,
   "metadata": {},
   "outputs": [],
   "source": [
    "people = []\n",
    "people = [\n",
    "    [\"Tom Howard\",          54,  6.0],\n",
    "    [\"Jane Grimm\",          19,  5.9],\n",
    "    [\"Sam Brown\",           25,  6.2],\n",
    "    [\"Sarah Joan Spade\",    26, 5.25],\n",
    "    [\"Blaine Jones\",        62,  5.8],\n",
    "    [\"Devin Callahan\",      32, 5.92],\n",
    "]"
   ]
  },
  {
   "cell_type": "code",
   "execution_count": 17,
   "metadata": {},
   "outputs": [],
   "source": [
    "\"\"\"Enter your answer below, do not change the indent!\"\"\"\n",
    "\n",
    "NameLowestPoints = people[[p[2] for p in people].index(min (p[2] for p in people)) ][0]\n",
    "\n",
    "\n"
   ]
  },
  {
   "cell_type": "code",
   "execution_count": 18,
   "metadata": {},
   "outputs": [
    {
     "name": "stdout",
     "output_type": "stream",
     "text": [
      "Sarah Joan Spade\n"
     ]
    }
   ],
   "source": [
    "# Check that your code is correct: it should return the name of Sarah Joan Spade.\n",
    "\n",
    "print(NameLowestPoints)\n"
   ]
  },
  {
   "cell_type": "code",
   "execution_count": 27,
   "metadata": {},
   "outputs": [],
   "source": [
    "# Check that your code correctly manipulates the input string.\n",
    "\n",
    "assert NameLowestPoints == 'Sarah Joan Spade'\n",
    "assert type(NameLowestPoints) == str\n",
    "\n",
    "# You can also check that your code can do the same for any other data table, \n",
    "# with names in the first row and numbers in the third \n",
    "# (in this dataset you would check for the lowest age they reached).\n",
    "\n",
    "famousGeographers = [\n",
    "    [\"Eratosthenes\",            -276,  80],\n",
    "    [\"Al Idrisi\",               1100,  65],\n",
    "    [\"Alexander von Humboldt\",  1769,  68],\n",
    "    [\"Immanuel Kant\",           1724,  80],\n",
    "    [\"Carl Ritter\",             1779,  80],\n",
    "    [\"Arnaldo Faustini\",        1872,  72],\n",
    "]\n"
   ]
  },
  {
   "cell_type": "markdown",
   "metadata": {},
   "source": [
    "---\n",
    "### Task C.3 (3 extra credit points)\n",
    "\n",
    "\n",
    "\n",
    "Write a list comprehension that multiplies a list `a_list` of  integer numbers by 2 and assigns the result to a list `convertedList`. This should work for any lists containing numbers. Use exactly these variable names, put your code below, where it states `YOUR CODE HERE` and keep the indent as provided.\n"
   ]
  },
  {
   "cell_type": "code",
   "execution_count": 20,
   "metadata": {},
   "outputs": [],
   "source": [
    "def myLHmultiplyBy2(a_list): # leave this line unchanged\n",
    "    \n",
    "    \"\"\"Write a list comprehension that multiplies a list \"a_list\" of \n",
    "       integer numbers by 2 and assigns the result to a list \"convertedList\".\n",
    "       Enter your answer below, do not change the indent!\"\"\"\n",
    "    ### YOUR CODE HERE\n",
    "    convertedList = [2*l for l in a_list]  \n",
    "    return(convertedList)   # leave this line unchanged"
   ]
  },
  {
   "cell_type": "code",
   "execution_count": 21,
   "metadata": {},
   "outputs": [],
   "source": [
    "# Below a list myList with some numbers, you can change it, as you like, to test your code below.\n",
    "\n",
    "myList = [1,2,3,4,5,55,800,1233000,1294]\n"
   ]
  },
  {
   "cell_type": "code",
   "execution_count": 22,
   "metadata": {},
   "outputs": [
    {
     "name": "stdout",
     "output_type": "stream",
     "text": [
      "[2, 4, 6, 8, 10, 110, 1600, 2466000, 2588]\n"
     ]
    }
   ],
   "source": [
    "#Check the result of your code for the list you have assigned.\n",
    "\n",
    "print(myLHmultiplyBy2(myList))\n"
   ]
  },
  {
   "cell_type": "code",
   "execution_count": 23,
   "metadata": {},
   "outputs": [],
   "source": [
    "#Check the result of your code for the list you have assigned.\n",
    "\n",
    "assert type(myList) ==  list\n",
    "assert myLHmultiplyBy2([1,2,3,4,5,55,800,1233000,1294]) == [2, 4, 6, 8, 10, 110, 1600, 2466000, 2588] "
   ]
  },
  {
   "cell_type": "code",
   "execution_count": 24,
   "metadata": {},
   "outputs": [
    {
     "name": "stdout",
     "output_type": "stream",
     "text": [
      "ssh: connect to host github.com port 22: Network is down\n",
      "fatal: Could not read from remote repository.\n",
      "\n",
      "Please make sure you have the correct access rights\n",
      "and the repository exists.\n",
      "On branch main\n",
      "Your branch is up to date with 'origin/main'.\n",
      "\n",
      "Changes not staged for commit:\n",
      "\t\u001b[31mmodified:   Exercise02_graded.ipynb\u001b[m\n",
      "\n",
      "Untracked files:\n",
      "\t\u001b[31m.ipynb_checkpoints/\u001b[m\n",
      "\t\u001b[31mExercise03_copy_graded.ipynb\u001b[m\n",
      "\n",
      "no changes added to commit\n"
     ]
    }
   ],
   "source": [
    "# ! git pull \n",
    "# ! git add Exercise03_Lists.ipynb\n",
    "# ! git commit"
   ]
  },
  {
   "cell_type": "code",
   "execution_count": null,
   "metadata": {},
   "outputs": [],
   "source": [
    "! git pull\n",
    "! git add Exercise03_copy_graded.ipynb\n",
    "! git commit -m \"grading\"\n",
    "! git push\n",
    "! git pull"
   ]
  },
  {
   "cell_type": "markdown",
   "metadata": {},
   "source": [
    "If you are satisfied with your notebook, save it and push it to your homework repository."
   ]
  }
 ],
 "metadata": {
  "kernelspec": {
   "display_name": "Python 3",
   "language": "python",
   "name": "python3"
  },
  "language_info": {
   "codemirror_mode": {
    "name": "ipython",
    "version": 3
   },
   "file_extension": ".py",
   "mimetype": "text/x-python",
   "name": "python",
   "nbconvert_exporter": "python",
   "pygments_lexer": "ipython3",
   "version": "3.8.8"
  }
 },
 "nbformat": 4,
 "nbformat_minor": 4
}
