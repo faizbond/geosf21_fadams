{
 "cells": [
  {
   "cell_type": "markdown",
   "id": "c26bf2a3",
   "metadata": {},
   "source": [
    "\"Geo Data Science with Python\" \n",
    "### Notebook Exercise 4d\n",
    "\n",
    "---\n",
    "\n",
    "# File I/O\n",
    "\n"
   ]
  },
  {
   "cell_type": "markdown",
   "id": "ad0090d6-b8cb-459d-aebd-4b170e7bb797",
   "metadata": {
    "nbgrader": {
     "grade": false,
     "grade_id": "jupyter",
     "locked": true,
     "schema_version": 3,
     "solution": false
    }
   },
   "source": [
    "<div class=\"alert alert-warning\">\n",
    "\n",
    "SW: total points: 19/19 (extra credit)\n",
    "    \n",
    "    \n",
    "Summary:\n",
    "- Task 1: 5/5\n",
    "- Task 2: 3/3\n",
    "- Task 3: 3/3\n",
    "- Task 4: 4/4\n",
    "- Task 5: 4/4 \n",
    "\n",
    "    \n",
    "All great!    \n",
    "</div>"
   ]
  },
  {
   "cell_type": "markdown",
   "id": "edca92e2",
   "metadata": {},
   "source": [
    "### Task 1: Reading and Handling a Capital Data from a File (5 points)\n",
    "\n",
    "The repository contains a data file with the name `capitals.txt`. You can open and read the file using the JupyterLab text editor. make a copy of this file to your homework repository. However, do not change the content (this will sabotage the success of your exercise).\n",
    "\n",
    "In this task, you complete the code cell below, by:\n",
    "* Open the file `captials.txt` for reading.\n",
    "* Read the file content. Choose a function that reads all capitals saved in the file into a list and give the list variable the name `myCapitals`.\n",
    "* Close the file.\n",
    "* Display the list variable on screen with `print()`.\n"
   ]
  },
  {
   "cell_type": "code",
   "execution_count": 18,
   "id": "96c0413b",
   "metadata": {},
   "outputs": [
    {
     "name": "stdout",
     "output_type": "stream",
     "text": [
      "['Tbilisi\\n', 'Yerevan\\n', 'Beijing\\n', 'Doha\\n', 'Teheran\\n', 'Cairo\\n', 'London\\n', 'Moscow\\n', 'Berlin\\n', 'Minsk\\n', 'Stockholm\\n', 'Washington\\n', 'Mexico City\\n', 'Algiers\\n', 'Niamey\\n', 'Asmara\\n', 'Brasilia\\n', 'Caracas\\n', 'Montevideo\\n', 'Quito\\n', 'Santiago']\n"
     ]
    }
   ],
   "source": [
    "\"Enter your code below.\"\n",
    "\n",
    "#setting file path and opening file\n",
    "capitals_path = './capitals.txt'\n",
    "capitals_file = open (capitals_path, 'r')\n",
    "\n",
    "#reading lines and assigning them to the variable myCaptials\n",
    "myCapitals = capitals_file.readlines()\n",
    "\n",
    "#closing file\n",
    "capitals_file.close()\n",
    "\n",
    "print (myCapitals)\n",
    "\n"
   ]
  },
  {
   "cell_type": "code",
   "execution_count": 19,
   "id": "ae882ca4",
   "metadata": {},
   "outputs": [],
   "source": [
    "# Check your code below.\n",
    "\n",
    "#edited variable from 'capList' to match 'myCapitals' - I hope that's alright \n",
    "assert myCapitals[0] == 'Tbilisi\\n'\n",
    "assert myCapitals[8] == 'Berlin\\n'\n",
    "assert myCapitals[11] == 'Washington\\n'\n",
    "assert myCapitals[-1] == 'Santiago'\n"
   ]
  },
  {
   "cell_type": "markdown",
   "id": "0ebb96ae",
   "metadata": {},
   "source": [
    "### Task 2: Review List Operations (3 points)\n",
    "... to prepare them for file export.\n",
    "\n",
    "As you can see, you still have a newline control character `\\n` at the end of the string entries in the list `capList`. Hence, convert this list into a new one called `myCapitals_clean`. For example, you could use list comprehension and the method `.rstrip()`, or list comprehension and slicing for that. \n",
    "\n",
    "Then, make an **explicit** copy of the variable `myCapitals_clean` and save it to the variable `myCapitals_clean_sorted`. (Refer to the notebook lesson about lists, to review what it means to make an explicit copy of lists and why this might be necessary!)\n",
    "\n",
    "At last, modify the list `myCapitals_clean_sorted` so that it contains alphabetically sorted (from A to Z) entries. Which method would be useful for that? Keep in mind, what we have learned about methods that mutate a variable!!!"
   ]
  },
  {
   "cell_type": "code",
   "execution_count": 20,
   "id": "683cb275",
   "metadata": {},
   "outputs": [],
   "source": [
    "\"Enter your code blow.\"\n",
    "#removing newline control character\n",
    "myCapitals_clean = [caps.rstrip('\\n') for caps in myCapitals]\n",
    "\n",
    "#making an explicit copy for mutability reasons\n",
    "myCapitals_clean_sorted = myCapitals_clean[:]\n",
    "\n",
    "#sorting in alphabetical order \n",
    "myCapitals_clean_sorted.sort()\n",
    "\n",
    "\n"
   ]
  },
  {
   "cell_type": "code",
   "execution_count": 21,
   "id": "51c6c259",
   "metadata": {},
   "outputs": [
    {
     "data": {
      "text/plain": [
       "['Tbilisi',\n",
       " 'Yerevan',\n",
       " 'Beijing',\n",
       " 'Doha',\n",
       " 'Teheran',\n",
       " 'Cairo',\n",
       " 'London',\n",
       " 'Moscow',\n",
       " 'Berlin',\n",
       " 'Minsk',\n",
       " 'Stockholm',\n",
       " 'Washington',\n",
       " 'Mexico City',\n",
       " 'Algiers',\n",
       " 'Niamey',\n",
       " 'Asmara',\n",
       " 'Brasilia',\n",
       " 'Caracas',\n",
       " 'Montevideo',\n",
       " 'Quito',\n",
       " 'Santiago']"
      ]
     },
     "execution_count": 21,
     "metadata": {},
     "output_type": "execute_result"
    }
   ],
   "source": [
    "# Check the result of your code for myCapitals_clean.\n",
    "\n",
    "myCapitals_clean\n"
   ]
  },
  {
   "cell_type": "code",
   "execution_count": 5,
   "id": "b20fa4da",
   "metadata": {},
   "outputs": [
    {
     "data": {
      "text/plain": [
       "['Algiers',\n",
       " 'Asmara',\n",
       " 'Beijing',\n",
       " 'Berlin',\n",
       " 'Brasilia',\n",
       " 'Cairo',\n",
       " 'Caracas',\n",
       " 'Doha',\n",
       " 'London',\n",
       " 'Mexico City',\n",
       " 'Minsk',\n",
       " 'Montevideo',\n",
       " 'Moscow',\n",
       " 'Niamey',\n",
       " 'Quito',\n",
       " 'Santiago',\n",
       " 'Stockholm',\n",
       " 'Tbilisi',\n",
       " 'Teheran',\n",
       " 'Washington',\n",
       " 'Yerevan']"
      ]
     },
     "execution_count": 5,
     "metadata": {},
     "output_type": "execute_result"
    }
   ],
   "source": [
    "# Check the result of your code for myCapitals_clean_sorted.\n",
    "\n",
    "myCapitals_clean_sorted\n"
   ]
  },
  {
   "cell_type": "code",
   "execution_count": 6,
   "id": "59f7ecfe",
   "metadata": {},
   "outputs": [],
   "source": [
    "# Check the result of your code.\n",
    "\n",
    "assert myCapitals_clean[0] == 'Tbilisi'\n",
    "assert myCapitals_clean[8] == 'Berlin'\n",
    "assert myCapitals_clean_sorted[0] == 'Algiers'\n",
    "assert myCapitals_clean_sorted[8] == 'London'\n"
   ]
  },
  {
   "cell_type": "markdown",
   "id": "0ef2444b",
   "metadata": {},
   "source": [
    "### Task 3: Writing Capital Data to a File (3 points)\n",
    "\n",
    "Now let's write the sorted list `myCapitals_clean_sorted` into a file `capitalsSorted.txt`. In case, you had issues with the string handling in part A above and want to first work on this one, we have assigned the correct list for the variable `myCapitals_clean_sorted` below. In the code cell one further below, complement the code cell below. \n",
    "\n",
    "* Open a not yet existing file for writing. Make sure to use another file name than the one from the previous task and that the file is saved in the same folder as the JupyterNotebook (you do not need to enter a filepath, only a filename.) \n",
    "* Write the list `myCapitals_clean_sorted` into a file. First think about, which function for writing data into a file might be most useful in this case?\n",
    "* Close the file"
   ]
  },
  {
   "cell_type": "code",
   "execution_count": 7,
   "id": "d3e3be0d",
   "metadata": {},
   "outputs": [],
   "source": [
    "myCapitals_clean_sorted = [\n",
    "     'Algiers',\n",
    "     'Asmara',\n",
    "     'Beijing',\n",
    "     'Berlin',\n",
    "     'Brasilia',\n",
    "     'Cairo',\n",
    "     'Caracas',\n",
    "     'Doha',\n",
    "     'London',\n",
    "     'Mexico City',\n",
    "     'Minsk',\n",
    "     'Montevideo',\n",
    "     'Moscow',\n",
    "     'Niamey',\n",
    "     'Quito',\n",
    "     'Santiago',\n",
    "     'Stockholm',\n",
    "     'Tbilisi',\n",
    "     'Teheran',\n",
    "     'Washington',\n",
    "     'Yerevan']"
   ]
  },
  {
   "cell_type": "code",
   "execution_count": 8,
   "id": "663781e2",
   "metadata": {},
   "outputs": [],
   "source": [
    "\"\"\"Enter your code for writing the variable \n",
    "   myCapitals_clean_sorted into the file capitalsSorted.txt .\"\"\"\n",
    "\n",
    "### YOUR CODE HERE\n",
    "capitalsSorted = open ('./capitalsSorted.txt', 'w')\n",
    "\n",
    "#writing list to the file \n",
    "capitalsSorted.writelines(myCapitals_clean_sorted)\n",
    "\n",
    "#closing file\n",
    "capitalsSorted.close()"
   ]
  },
  {
   "cell_type": "markdown",
   "id": "fa128186",
   "metadata": {},
   "source": [
    "To check your results, open the file `capitalsSorted.txt` and check if the content is what you intent it to be."
   ]
  },
  {
   "cell_type": "markdown",
   "id": "01ce42bd",
   "metadata": {},
   "source": [
    "### Task 4 (4 points)\n",
    "\n",
    "Re-open the file `capitalsSorted.txt` that you have just written, assing the content into a variable `myCapitals_clean_sorted_returned` and print it to screen. Write the code for that in the following cell."
   ]
  },
  {
   "cell_type": "code",
   "execution_count": 9,
   "id": "9530f0a9",
   "metadata": {},
   "outputs": [
    {
     "data": {
      "text/plain": [
       "['AlgiersAsmaraBeijingBerlinBrasiliaCairoCaracasDohaLondonMexico CityMinskMontevideoMoscowNiameyQuitoSantiagoStockholmTbilisiTeheranWashingtonYerevan']"
      ]
     },
     "execution_count": 9,
     "metadata": {},
     "output_type": "execute_result"
    }
   ],
   "source": [
    "\"\"\"Add code to read the file capitalsSorted.txt and print the content to screen\"\"\"\n",
    "\n",
    "cap_sorted = open ('./capitalsSorted.txt','r')\n",
    "\n",
    "#got an assertion error if I used 'read' or 'readline' functions instead of 'readlines' because the others don't return the string in list format\n",
    "myCapitals_clean_sorted_returned = cap_sorted.readlines()\n",
    "\n",
    "myCapitals_clean_sorted_returned"
   ]
  },
  {
   "cell_type": "code",
   "execution_count": 10,
   "id": "794c7a66",
   "metadata": {},
   "outputs": [],
   "source": [
    "# Check your code\n",
    "\n",
    "assert myCapitals_clean_sorted_returned == ['AlgiersAsmaraBeijingBerlinBrasiliaCairoCaracasDohaLondonMexico CityMinskMontevideoMoscowNiameyQuitoSantiagoStockholmTbilisiTeheranWashingtonYerevan']\n"
   ]
  },
  {
   "cell_type": "markdown",
   "id": "4f3c130c",
   "metadata": {},
   "source": [
    "Ohh, what is that?! When printing the the variable `myCapitals_clean_sorted_returned`, you should receive something like this:\n",
    "\n",
    "`['AlgiersAsmaraBeijingBerlinBrasiliaCairoCaracasDohaLondonMexico CityMinskMontevideoMoscowNiameyQuitoSantiagoStockholmTbilisiTeheranWashingtonYerevan']`\n",
    "\n",
    "\n",
    "Why has everything merged into one string? Any idea?\n",
    "\n",
    "This is about the newline control characters `\\n`. We have deleted them before sorting the list. This was necessary, because the captial string in the last line of the file has no newline control character. After sorting, that entry moved to the middle of the list, while another capital string moved to the end of the list. If we would have kept the newline control characters, just sort and write the data to file, two capitals would have been merged on one line. You can create a new code cell below and try that out.\n",
    "\n",
    "Therefore, let's put the newline control characters back at the end of each capital string in the list, except the last one and save this in a variable `myCapitals_clean_sorted2`. Since we want to focus more on file handling in this exercise, the cell below provides you with the code for this. The code applies list comprehension to add the control character at the end of each string. Then the control character is removed from the last one using the function replace. You may study the code and try to repeat it by yourself."
   ]
  },
  {
   "cell_type": "code",
   "execution_count": 11,
   "id": "0a3fad41",
   "metadata": {},
   "outputs": [
    {
     "data": {
      "text/plain": [
       "['Algiers\\n',\n",
       " 'Asmara\\n',\n",
       " 'Beijing\\n',\n",
       " 'Berlin\\n',\n",
       " 'Brasilia\\n',\n",
       " 'Cairo\\n',\n",
       " 'Caracas\\n',\n",
       " 'Doha\\n',\n",
       " 'London\\n',\n",
       " 'Mexico City\\n',\n",
       " 'Minsk\\n',\n",
       " 'Montevideo\\n',\n",
       " 'Moscow\\n',\n",
       " 'Niamey\\n',\n",
       " 'Quito\\n',\n",
       " 'Santiago\\n',\n",
       " 'Stockholm\\n',\n",
       " 'Tbilisi\\n',\n",
       " 'Teheran\\n',\n",
       " 'Washington\\n',\n",
       " 'Yerevan']"
      ]
     },
     "execution_count": 11,
     "metadata": {},
     "output_type": "execute_result"
    }
   ],
   "source": [
    "myCapitals_clean_sorted2 = [ e+'\\n' for e in myCapitals_clean_sorted]\n",
    "myCapitals_clean_sorted2[-1] = myCapitals_clean_sorted2[-1].replace('\\n','')\n",
    "myCapitals_clean_sorted2"
   ]
  },
  {
   "cell_type": "markdown",
   "id": "249280d4",
   "metadata": {},
   "source": [
    "Now, write this new variable `myCapitals_clean_sorted2` into the file `capitalsSorted.txt`, using the code from above. Make sure to change out the variable name `myCapitals_clean_sorted` to `myCapitals_clean_sorted2`."
   ]
  },
  {
   "cell_type": "code",
   "execution_count": 12,
   "id": "9edb4dbb",
   "metadata": {},
   "outputs": [],
   "source": [
    "\"\"\"Copy your code for writing the file below.\"\"\"\n",
    "\n",
    "capitalsSorted = open ('./capitalsSorted.txt', 'w')\n",
    "\n",
    "#writing list to the file \n",
    "capitalsSorted.writelines(myCapitals_clean_sorted2)\n",
    "\n",
    "#closing file\n",
    "capitalsSorted.close()"
   ]
  },
  {
   "cell_type": "markdown",
   "id": "eac8eb2c",
   "metadata": {},
   "source": [
    "### Task 5 (optional, 4 extra credit points)\n",
    "\n",
    "In the code cells below, experiment with the different file reading and writing functions: `read()`, `readline()` and `readlines()` as well as `write()` and `writelines()`. \n",
    "\n",
    "For example:\n",
    "* Write the strings ‘hello’ and ‘world’ into a file (e.g. `hello.txt`) on two different lines by using a trailing ‘\\n’\n",
    "* Close the file\n",
    "* Open the same file for reading.\n",
    "* Read data from the file into string in different ways: Experiment with the various functions `read()`, `readline()` and `readlines()`, to read the file in one bulk, as a list of lines or line by line into string variables.\n",
    "* Very advanced: Try the function seek()."
   ]
  },
  {
   "cell_type": "code",
   "execution_count": 13,
   "id": "223f74a2",
   "metadata": {},
   "outputs": [],
   "source": [
    "# add your code here to practice file reading & writing\n",
    "\n",
    "hello = 'hello\\n'\n",
    "world = 'world'\n",
    "hw = open ('./hello.txt', 'w')\n",
    "\n",
    "#writing list to the file \n",
    "hw.write(hello)\n",
    "hw.write(world)\n",
    "\n",
    "#closing file\n",
    "hw.close()\n",
    "    "
   ]
  },
  {
   "cell_type": "code",
   "execution_count": 14,
   "id": "65226b83",
   "metadata": {},
   "outputs": [
    {
     "name": "stdout",
     "output_type": "stream",
     "text": [
      "hello\n",
      "world\n",
      "hello\n",
      "\n",
      "['hello\\n', 'world']\n"
     ]
    }
   ],
   "source": [
    "# add your code here to practice file reading & writing\n",
    "\n",
    "#opening file\n",
    "hw_file = open ('./hello.txt', 'r')\n",
    "# reading using read\n",
    "hw_read = hw_file.read()\n",
    "print (hw_read)\n",
    "\n",
    "#opening file\n",
    "hw_file = open ('./hello.txt', 'r')\n",
    "# reading using readline\n",
    "hw_readline = hw_file.readline()\n",
    "print (hw_readline)\n",
    "\n",
    "#opening file\n",
    "hw_file = open ('./hello.txt', 'r')\n",
    "# reading using readlines\n",
    "hw_readlines = hw_file.readlines()\n",
    "print (hw_readlines)    \n"
   ]
  },
  {
   "cell_type": "code",
   "execution_count": 15,
   "id": "26fe4684",
   "metadata": {},
   "outputs": [
    {
     "name": "stdout",
     "output_type": "stream",
     "text": [
      "hello\n",
      "world\n",
      "hello\n",
      "\n",
      "['hello\\n', 'world']\n"
     ]
    }
   ],
   "source": [
    "#opening file\n",
    "hw_file = open ('./hello.txt', 'r')\n",
    "# reading using read\n",
    "hw_read = hw_file.read()\n",
    "print (hw_read)\n",
    "\n",
    "#resetting pointer to the beginnning\n",
    "hw_file.seek(0)\n",
    "# reading using readline\n",
    "hw_readline = hw_file.readline()\n",
    "print (hw_readline)\n",
    "\n",
    "#resetting pointer to the beginnning\n",
    "hw_file.seek(0)\n",
    "# reading using readlines\n",
    "hw_readlines = hw_file.readlines()\n",
    "print (hw_readlines)    \n"
   ]
  },
  {
   "cell_type": "code",
   "execution_count": 16,
   "id": "6b1023cd",
   "metadata": {},
   "outputs": [],
   "source": [
    "# add your code here to practice file reading & writing\n"
   ]
  },
  {
   "cell_type": "markdown",
   "id": "be583b1d",
   "metadata": {},
   "source": [
    "---\n",
    "If you are satisfied with your notebook, save it and push it to your homework repository."
   ]
  },
  {
   "cell_type": "code",
   "execution_count": 17,
   "id": "3e938a01-c86f-4c9f-bef9-a4ffa7a8c853",
   "metadata": {},
   "outputs": [],
   "source": [
    "# ! git pull\n",
    "# ! git add Exercise04d_Files.ipynb\n",
    "# ! git add capitals.txt\n",
    "# ! git add capitalsSorted.txt\n",
    "# ! git add hello.txt\n",
    "# ! git commit -m 'Assignment '"
   ]
  }
 ],
 "metadata": {
  "kernelspec": {
   "display_name": "Python 3",
   "language": "python",
   "name": "python3"
  },
  "language_info": {
   "codemirror_mode": {
    "name": "ipython",
    "version": 3
   },
   "file_extension": ".py",
   "mimetype": "text/x-python",
   "name": "python",
   "nbconvert_exporter": "python",
   "pygments_lexer": "ipython3",
   "version": "3.8.8"
  }
 },
 "nbformat": 4,
 "nbformat_minor": 5
}
