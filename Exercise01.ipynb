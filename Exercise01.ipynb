{
 "cells": [
  {
   "cell_type": "markdown",
   "id": "fa1180f0-8aae-444a-9141-f08ed27851cc",
   "metadata": {},
   "source": [
    "\"Geo Data Science with Python\" \n",
    "### Exercise 1\n",
    "\n",
    "# A taste of Python"
   ]
  },
  {
   "cell_type": "markdown",
   "id": "3520ab8f-f6aa-44ac-874d-741aa97e51e7",
   "metadata": {},
   "source": [
    "Before starting this exercise, revise the notebook `Lessons/Lesson01.ipynb`, including the introduction on Notebooks at the top (*Getting started & about the interactive content of this document*).\n",
    "\n",
    "### Jupyter Notebook\n",
    "\n",
    "Create a new Markdown cell below this cell and add any text to it."
   ]
  },
  {
   "cell_type": "markdown",
   "id": "2298ede9-6fdb-4505-8aa1-2334f70e6953",
   "metadata": {},
   "source": [
    "Create a new Code cell below this cell and add Python code to print \"Hello, World!\" on the screen."
   ]
  },
  {
   "cell_type": "markdown",
   "id": "7e6a1a0a-a61f-420d-82f3-a5c97187c782",
   "metadata": {},
   "source": [
    "### Variable assignment\n",
    "\n",
    "In the code cell below, assign a variable 'var_a' with the integer value 4 and a second variable  'var_b' with a floating point value 2.0."
   ]
  },
  {
   "cell_type": "code",
   "execution_count": 1,
   "id": "225bd739-3443-41da-ab32-742ec6f246f0",
   "metadata": {},
   "outputs": [],
   "source": [
    "# Place your code on the line(s) below.\n",
    "var_a = 4\n",
    "var_b = 2.0"
   ]
  },
  {
   "cell_type": "markdown",
   "id": "49b40246-373b-4e2b-a951-53dc7392c374",
   "metadata": {},
   "source": [
    "In the code cell below, check the type of both variables."
   ]
  },
  {
   "cell_type": "code",
   "execution_count": 3,
   "id": "dacc0db2-a2ba-4af0-9cad-7a0578a630ea",
   "metadata": {},
   "outputs": [
    {
     "data": {
      "text/plain": [
       "float"
      ]
     },
     "execution_count": 3,
     "metadata": {},
     "output_type": "execute_result"
    }
   ],
   "source": [
    "# Place your code on the line(s) below.\n",
    "type (var_a)\n",
    "type (var_b)"
   ]
  },
  {
   "cell_type": "markdown",
   "id": "a7667497-985a-4d2c-b21f-d32646cac466",
   "metadata": {},
   "source": [
    "### Check your understanding of variable types\n",
    "\n",
    "In the empty Python cell below, use the assigned variables to divide the `int` variable by the `float` variable or vice versa and store the result in a third variable 'var_c'. Check its type using the `type()` function."
   ]
  },
  {
   "cell_type": "code",
   "execution_count": 4,
   "id": "1d27dcd0-b1cf-4e73-9732-550ebf755e6e",
   "metadata": {},
   "outputs": [
    {
     "data": {
      "text/plain": [
       "float"
      ]
     },
     "execution_count": 4,
     "metadata": {},
     "output_type": "execute_result"
    }
   ],
   "source": [
    "# Place your code on the line(s) below.\n",
    "var_c = var_a / var_b\n",
    "type (var_c)"
   ]
  },
  {
   "cell_type": "markdown",
   "id": "c9d18426-489d-40ea-9711-912f8fb99c7b",
   "metadata": {},
   "source": [
    "Did you get what you expected? What doe that tell you about compatibility of `int` and `float` variables?\n",
    "And what happens when you divide two `int` values? Create a markdown cell below this cell and add your answers."
   ]
  },
  {
   "cell_type": "markdown",
   "id": "82db1a91-3e5d-40b4-af83-be440ded2cdd",
   "metadata": {},
   "source": [
    "# The Zen of Python\n",
    "Type “import this” the code cell below, then run it and study the output!"
   ]
  },
  {
   "cell_type": "code",
   "execution_count": 5,
   "id": "472113ec-fe56-42b4-8e30-41c580e79eed",
   "metadata": {},
   "outputs": [
    {
     "name": "stdout",
     "output_type": "stream",
     "text": [
      "The Zen of Python, by Tim Peters\n",
      "\n",
      "Beautiful is better than ugly.\n",
      "Explicit is better than implicit.\n",
      "Simple is better than complex.\n",
      "Complex is better than complicated.\n",
      "Flat is better than nested.\n",
      "Sparse is better than dense.\n",
      "Readability counts.\n",
      "Special cases aren't special enough to break the rules.\n",
      "Although practicality beats purity.\n",
      "Errors should never pass silently.\n",
      "Unless explicitly silenced.\n",
      "In the face of ambiguity, refuse the temptation to guess.\n",
      "There should be one-- and preferably only one --obvious way to do it.\n",
      "Although that way may not be obvious at first unless you're Dutch.\n",
      "Now is better than never.\n",
      "Although never is often better than *right* now.\n",
      "If the implementation is hard to explain, it's a bad idea.\n",
      "If the implementation is easy to explain, it may be a good idea.\n",
      "Namespaces are one honking great idea -- let's do more of those!\n"
     ]
    }
   ],
   "source": [
    "import this"
   ]
  },
  {
   "cell_type": "markdown",
   "id": "1144bc6a-d886-45e6-a4a5-2a00fce709c4",
   "metadata": {},
   "source": [
    "The import function usually adds packages to your interpreter. The package \"this\" simply spits out some text. This is an easter egg, which spells out Tim Peters' guidelines to the development of Python code. Source: https://www.python.org/dev/peps/pep-0020/. (BDFL stands for Benevolent Dictator for Life and refers to Guido van Rossum, the developer of Python.)"
   ]
  },
  {
   "cell_type": "markdown",
   "id": "178141a9-2ac8-40c1-a2db-42a352253a13",
   "metadata": {},
   "source": [
    "After finishing this exercise save it and push (or upload) it to your homework repository."
   ]
  }
 ],
 "metadata": {
  "kernelspec": {
   "display_name": "Python [conda env:root] *",
   "language": "python",
   "name": "conda-root-py"
  },
  "language_info": {
   "codemirror_mode": {
    "name": "ipython",
    "version": 3
   },
   "file_extension": ".py",
   "mimetype": "text/x-python",
   "name": "python",
   "nbconvert_exporter": "python",
   "pygments_lexer": "ipython3",
   "version": "3.9.5"
  }
 },
 "nbformat": 4,
 "nbformat_minor": 5
}
