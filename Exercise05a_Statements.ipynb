{
 "cells": [
  {
   "cell_type": "markdown",
   "id": "c8f29c2d",
   "metadata": {},
   "source": [
    "\"Geo Data Science with Python\" \n",
    "### Notebook Exercise 5a\n",
    "\n",
    "---\n",
    "\n",
    "# Statements: selections/conditions, iterations and loops\n",
    "\n",
    "**Notice**: follow closely the instructions, e.g. using the same variable names as mentioned in the instructions. It will make it easier for you to go through the exercises and for us to give you feedback on your assignment. "
   ]
  },
  {
   "cell_type": "markdown",
   "id": "f416a003",
   "metadata": {},
   "source": [
    "---\n",
    "# Let's start with a couple of tips for the following exercise!\n",
    "\n",
    "**Hint 1: Extending a list**\n",
    "\n",
    "To add an item to a list, it is not possible to assign the list with a new item at the end through indexing. For that the function append has to be used. For example:\n"
   ]
  },
  {
   "cell_type": "code",
   "execution_count": 1,
   "id": "b892461f",
   "metadata": {},
   "outputs": [
    {
     "name": "stdout",
     "output_type": "stream",
     "text": [
      "[1, 2, 3]\n",
      "[1, 2, 3, 4]\n"
     ]
    }
   ],
   "source": [
    "anyList = [1, 2, 3]\n",
    "print(anyList)\n",
    "anyList.append(4)\n",
    "print(anyList)"
   ]
  },
  {
   "cell_type": "markdown",
   "id": "bcff1f68",
   "metadata": {},
   "source": [
    "**Hint 2: Nested statements**\n",
    "\n",
    "In some cases it might be useful to have nested if statements or combine if statements with for/while loops. The first means that you have another layer of conditions after the first condition resolves to True. The second means, you can have a condition within a loop or a loop within a condition statement. Lastly, it is possible to nest loops, if you have a dataset or problem that inolves two indexes.\n",
    "\n",
    "Take a look of following example for nested if statements:\n",
    "\n",
    "\n",
    "``` python\n",
    "season = \"Winter\"\n",
    "temperature = 10\n",
    "\n",
    "if season == \"Winter\":\n",
    "    if temperature > 7:\n",
    "         print(\"No need for winter jacket!\")\n",
    "    else:\n",
    "         print(\"It might be cold! Wear a proper jacket!\")\n",
    "\n",
    "elif season == \"Summer\":\n",
    "    if temperature > 20:\n",
    "         print(\"It's warm! Time to wear shorts!\")\n",
    "    else:\n",
    "         print(\"Well this is Finland, better wear long trousers!\")\n",
    "else:\n",
    "     print(\"Check the weather forecast!\")\n",
    "```"
   ]
  },
  {
   "cell_type": "markdown",
   "id": "1794dcb5",
   "metadata": {},
   "source": [
    "---\n",
    "## Part A: Expressions (5 points)\n",
    "\n",
    "**Questions**\n",
    "\n",
    "1. What different roles play expressions and statements in the algorithm of a Python program? Please explain.\n",
    "2. Is an assignment considered a statement or an expression in Python, and why? \n",
    "\n",
    "*If you don't know the answers, read introduction of sections about expressions and statements in the notebook Lesson05a.*\n",
    "\n",
    "**Task**\n",
    "\n",
    "Create a Markdown cell and a code cell below this task cell. In the markdown cell, write your answer to the questions above. In the code cell, provide an example for each, expressions and statements. Label the lines with comments.\n",
    "\n"
   ]
  },
  {
   "cell_type": "markdown",
   "id": "e1098768-527d-4a23-895c-f8938f5352ea",
   "metadata": {},
   "source": [
    "**Answer 1**\n",
    "> Expressions are code that generate interact between objects, mostly to create new objects. Statements employ expressions to perform some logical or meaningful action such as itereations.\n",
    "\n",
    "**Answer 2**\n",
    "> Assignment performs the dual function of creating an object and making a reference between the created object and its assigned variable. These attributes make it an expression. \n"
   ]
  },
  {
   "cell_type": "markdown",
   "id": "5c4b40ae",
   "metadata": {},
   "source": [
    "---\n",
    "# Part B: Classifying Temperatures (8 points)\n",
    "\n",
    "In this assignment, we drafted some geoscience problems that you can already solve with the few Python knowledge you have studied so far.\n",
    "\n",
    "### Overview\n",
    "\n",
    "This problem introduces you to a useful concept of data classification. Your aim is to classify daily temperatures stored in `temperatures` list (assinged below) into four different classes:\n",
    "\n",
    "  1. **Cold** ==> temperatures below -2 degrees (Celsius)\n",
    "  2. **Slippery** ==> temperatures warmer or equal to -2 degrees and up to +2 degrees (Celsius)\n",
    "  3. **Comfortable** ==> temperatures warmer or equal to +2 degrees and up to +15 degrees (Celsius)\n",
    "  4. **Warm** ==> temperatures warmer or equal to +15 degrees (Celsius)\n",
    "\n",
    "To solve this problem, you should modify and fill in the missing parts in the following cells. In total, there are three tasks that you should solve according the directions.\n",
    "\n",
    "### Grading Criteria\n",
    "\n",
    " - Use for loop to iterate over the temperature values\n",
    " - Use conditional statements to find out if a value is within certain value range\n",
    " - Print out resulting information for the user\n",
    " - Include comments that explain what most lines in the code do\n"
   ]
  },
  {
   "cell_type": "code",
   "execution_count": 2,
   "id": "763b27fa",
   "metadata": {},
   "outputs": [],
   "source": [
    "''' DATA: Run this cell to get values into the server memory)'''\n",
    "# A list of night-time, day-time and evening temperatures for April 2013 measured in Helsinki Malmi Airport. \n",
    "# The list contains 90 values since there are 3 values for each day (April has 30 days).\n",
    "# The first value of a single day represents night, the second one day-time, and the third one evening temperature.\n",
    "\n",
    "temperatures = [-5.4, 1.0, -1.3, -4.8, 3.9, 0.1, -4.4, 4.0, -2.2, -3.9, 4.4,\n",
    "                -2.5, -4.6, 5.1, 2.1, -2.4, 1.9, -3.3, -4.8, 1.0, -0.8, -2.8,\n",
    "                -0.1, -4.7, -5.6, 2.6, -2.7, -4.6, 3.4, -0.4, -0.9, 3.1, 2.4,\n",
    "                1.6, 4.2, 3.5, 2.6, 3.1, 2.2, 1.8, 3.3, 1.6, 1.5, 4.7, 4.0,\n",
    "                3.6, 4.9, 4.8, 5.3, 5.6, 4.1, 3.7, 7.6, 6.9, 5.1, 6.4, 3.8,\n",
    "                4.0, 8.6, 4.1, 1.4, 8.9, 3.0, 1.6, 8.5, 4.7, 6.6, 8.1, 4.5,\n",
    "                4.8, 11.3, 4.7, 5.2, 11.5, 6.2, 2.9, 4.3, 2.8, 2.8, 6.3, 2.6,\n",
    "                -0.0, 7.3, 3.4, 4.7, 9.3, 6.4, 5.4, 7.6, 5.2]"
   ]
  },
  {
   "cell_type": "markdown",
   "id": "4fb349e4",
   "metadata": {},
   "source": [
    "### Task B.1: Create four empty lists for different temperature classes \n",
    "(1 points)\n",
    "\n",
    "Please use **exactly** these names for your lists:\n",
    "\n",
    "  - `cold`\n",
    "  - `slippery`\n",
    "  - `comfortable`\n",
    "  - `warm`\n",
    "  \n",
    "If you are unsure how to create an empty list, internet search the terms `create` + `empty` + `list` + `python`."
   ]
  },
  {
   "cell_type": "code",
   "execution_count": 3,
   "id": "9f108715",
   "metadata": {},
   "outputs": [],
   "source": [
    "''' Create four empty lists'''\n",
    "\n",
    "# code to create empty lists assigned to each of the 4 variables \n",
    "cold = []\n",
    "slippery = []\n",
    "comfortable = []\n",
    "warm = [] \n"
   ]
  },
  {
   "cell_type": "code",
   "execution_count": 4,
   "id": "b95b3886",
   "metadata": {},
   "outputs": [
    {
     "name": "stdout",
     "output_type": "stream",
     "text": [
      "[] [] [] []\n"
     ]
    }
   ],
   "source": [
    "'''Test print all lists (they should be empty at this point)'''\n",
    "\n",
    "# testing all lists to confirm they are empty\n",
    "print (cold, slippery,comfortable, warm)\n"
   ]
  },
  {
   "cell_type": "markdown",
   "id": "2aa0b6e9",
   "metadata": {},
   "source": [
    "### Task B.2: Iterate over temperatures and add temperatures to different lists (representing temperature classes) as defined below:\n",
    "(5 points)\n",
    "\n",
    "- **Cold** ==> temperatures below -2 degrees (Celsius)\n",
    "- **Slippery** ==> temperatures warmer or equal to -2 degrees and up to +2 degrees (Celsius)\n",
    "- **Comfortable** ==> temperatures warmer of equal to +2 degrees and up to +15 degrees (Celsius)\n",
    "- **Warm** ==> temperatures above or equal to +15 degrees (Celsius)\n",
    "\n",
    "Don't forget to comment your code!\n"
   ]
  },
  {
   "cell_type": "code",
   "execution_count": 5,
   "id": "79148fe4",
   "metadata": {},
   "outputs": [],
   "source": [
    "'''Add code to classify temperatures'''\n",
    "\n",
    "# code to classify temperatue\n",
    "\n",
    "for t in temperatures:\n",
    "    if t < -2:     #checking for values that meet cold condition             \n",
    "        cold.append(t)  #adding them to cold list \n",
    "    elif t >= -2 and t < 2:   #checking for values that meet slippery condition   \n",
    "        slippery.append(t) #adding them to slippery list \n",
    "    elif t >= 2 and t < 15:    #checking for values that meet comfortable condition\n",
    "        comfortable.append(t)    #adding them to comfortable list \n",
    "    else:\n",
    "        warm.append(t) #the rest go to warm "
   ]
  },
  {
   "cell_type": "code",
   "execution_count": 6,
   "id": "e7529016",
   "metadata": {},
   "outputs": [
    {
     "name": "stdout",
     "output_type": "stream",
     "text": [
      "Cold: \n",
      " [-5.4, -4.8, -4.4, -2.2, -3.9, -2.5, -4.6, -2.4, -3.3, -4.8, -2.8, -4.7, -5.6, -2.7, -4.6]\n",
      "\n",
      "Slippery: \n",
      " [1.0, -1.3, 0.1, 1.9, 1.0, -0.8, -0.1, -0.4, -0.9, 1.6, 1.8, 1.6, 1.5, 1.4, 1.6, -0.0]\n",
      "\n",
      "Comfortable: \n",
      " [3.9, 4.0, 4.4, 5.1, 2.1, 2.6, 3.4, 3.1, 2.4, 4.2, 3.5, 2.6, 3.1, 2.2, 3.3, 4.7, 4.0, 3.6, 4.9, 4.8, 5.3, 5.6, 4.1, 3.7, 7.6, 6.9, 5.1, 6.4, 3.8, 4.0, 8.6, 4.1, 8.9, 3.0, 8.5, 4.7, 6.6, 8.1, 4.5, 4.8, 11.3, 4.7, 5.2, 11.5, 6.2, 2.9, 4.3, 2.8, 2.8, 6.3, 2.6, 7.3, 3.4, 4.7, 9.3, 6.4, 5.4, 7.6, 5.2]\n",
      "\n",
      "Warm:  []\n"
     ]
    }
   ],
   "source": [
    "'''Print all resulting lists to screen'''\n",
    "\n",
    "# Printing all lists underneath their respective variables\n",
    "print ('Cold: \\n', cold)\n",
    "print ('\\nSlippery: \\n', slippery)\n",
    "print ('\\nComfortable: \\n', comfortable )\n",
    "print ('\\nWarm: ', warm)"
   ]
  },
  {
   "cell_type": "markdown",
   "id": "99f41aba",
   "metadata": {},
   "source": [
    "### Task B.3: Use the temperature classes lists to answer the following questions\n",
    "\n",
    "(2 points)\n",
    "\n",
    "You may use any statement, function or method that works.\n"
   ]
  },
  {
   "cell_type": "markdown",
   "id": "5b6eb3a9",
   "metadata": {},
   "source": [
    "##### 1. How many times was it slippery during the study period?"
   ]
  },
  {
   "cell_type": "code",
   "execution_count": 7,
   "id": "a6c87dfc",
   "metadata": {},
   "outputs": [],
   "source": [
    "'''Code answer for question 1'''\n",
    "\n",
    "# counting the number of elements in cold list\n",
    "num_slippery = len(slippery)\n"
   ]
  },
  {
   "cell_type": "code",
   "execution_count": 8,
   "id": "0c2c7a2d",
   "metadata": {},
   "outputs": [
    {
     "name": "stdout",
     "output_type": "stream",
     "text": [
      "It was slippery 16 times in April!\n"
     ]
    }
   ],
   "source": [
    "'''Print a full sentence answer for question 1 to screen'''\n",
    "\n",
    "print ('It was slippery {} times in April!'.format(num_slippery))"
   ]
  },
  {
   "cell_type": "markdown",
   "id": "12665d6e",
   "metadata": {},
   "source": [
    "##### 2. Was it ever warm during the study period?"
   ]
  },
  {
   "cell_type": "code",
   "execution_count": 9,
   "id": "e98cffe9",
   "metadata": {},
   "outputs": [],
   "source": [
    "'''Code answer for question 2'''\n",
    "\n",
    "# making an if statement for warm periods\n",
    "num_warm = ''\n",
    "\n",
    "if len(warm) == 0:\n",
    "    num_warm = 'It was never warm this month.'\n",
    "else:\n",
    "    num_warm = 'We had some warm days.'\n",
    "    \n"
   ]
  },
  {
   "cell_type": "code",
   "execution_count": 10,
   "id": "7aa9ead1",
   "metadata": {},
   "outputs": [
    {
     "name": "stdout",
     "output_type": "stream",
     "text": [
      "It was never warm this month.\n"
     ]
    }
   ],
   "source": [
    "'''Print a full answer sentence to screen for question 2 '''\n",
    "\n",
    "print(num_warm)"
   ]
  },
  {
   "cell_type": "markdown",
   "id": "0dc57aec",
   "metadata": {},
   "source": [
    "##### 3. What is the mean cold temperature during the study period?"
   ]
  },
  {
   "cell_type": "code",
   "execution_count": 11,
   "id": "6f8201d6",
   "metadata": {},
   "outputs": [],
   "source": [
    "'''Code answer for question 3'''\n",
    "\n",
    "#calculating the mean for cold periods. I assumed simpler is better, instead of iterating through the cold values.\n",
    "meanCold = sum (cold)/len(cold)\n"
   ]
  },
  {
   "cell_type": "code",
   "execution_count": 12,
   "id": "8e6aab55",
   "metadata": {},
   "outputs": [
    {
     "name": "stdout",
     "output_type": "stream",
     "text": [
      "The mean cold temperature for April was -3.9 degree (Celsius).\n"
     ]
    }
   ],
   "source": [
    "'''Print a full answer sentence to screen for question 3 '''\n",
    "\n",
    "print('The mean cold temperature for April was {:.1f} degree (Celsius).'.format(meanCold))"
   ]
  },
  {
   "cell_type": "markdown",
   "id": "a154c23c",
   "metadata": {},
   "source": [
    "##### 4. What is the highest comfortable temperature during the study period?"
   ]
  },
  {
   "cell_type": "code",
   "execution_count": 13,
   "id": "33a7c3da",
   "metadata": {},
   "outputs": [],
   "source": [
    "'''Code answer for question 4'''\n",
    "\n",
    "# finding the maximum value here \n",
    "maxComfortable = max(comfortable)"
   ]
  },
  {
   "cell_type": "code",
   "execution_count": 14,
   "id": "83bed988",
   "metadata": {},
   "outputs": [
    {
     "name": "stdout",
     "output_type": "stream",
     "text": [
      "The highest comfortable temperature for April was 11.5 degress centigrade.\n"
     ]
    }
   ],
   "source": [
    "'''Print a full answer sentence to screen for question 4 '''\n",
    "\n",
    "print ('The highest comfortable temperature for April was {} degress centigrade.'.format(maxComfortable))"
   ]
  },
  {
   "cell_type": "markdown",
   "id": "6ea1a3ee",
   "metadata": {},
   "source": [
    "---\n",
    "# Part C: Allocating locations (12 points)\n",
    "\n",
    "\n",
    "### Overview \n",
    "Following map shows the locations of the weather stations (as blue points) in Finland that are more than 70 years old [1].\n",
    "In this problem we are interested to find out whether the station network was equally distributed across Finland\n",
    "seventy years ago. We have divided Finland into four geographical zones (i.e. North West, North East, South West, South East)\n",
    "according the approximate center point of Finnish mainland located at `26.3, 64.5` (lon-lat in decimal degrees).\n",
    "\n",
    "[1] The locations and the age of weather stations were obtained from: http://en.ilmatieteenlaitos.fi/observation-stations\n",
    "\n",
    "\n",
    "<img src=\"./images/Image_FMI_stations_70_years_older.png\" title=\"FMI_stations_70_years_older. (Lutz 2013, Table 5-2)\" width=\"200\" />\n",
    "\n",
    "Below, we have given you the coordinates of 34 weather stations. The station names are stored in the list `stations`. The location of a single station is given with a pair of latitude and longitude coordinates, stored in two separate lists (`lat` and `lon`). \n",
    "\n",
    "That means, for example, to get the name and location of the first station, you need to request the first item of each variable, hence, stored at index[0]."
   ]
  },
  {
   "cell_type": "markdown",
   "id": "60b4959c",
   "metadata": {},
   "source": [
    "### Problem Statement\n",
    "\n",
    "In this problem your job is to print the names of weather stations located in the different geographical zones. To solve this problem, you should modify and fill in the missing parts in the code cells below. \n",
    "\n",
    "The tasks will include several steps 1-4 below.\n",
    "\n",
    "### Grading Criteria\n",
    "\n",
    "* Use for loop to iterate over the stations\n",
    "* Use combined conditional statements to find out in which region the station is located\n",
    "* Print out resulting information for the user\n",
    "* Include comments to the code that explain what most lines in the code do\n"
   ]
  },
  {
   "cell_type": "markdown",
   "id": "9e77e5f9",
   "metadata": {},
   "source": [
    "### Data\n",
    "\n",
    "Below the station data for the problem (run the cell to get values into the memory of your computer):"
   ]
  },
  {
   "cell_type": "code",
   "execution_count": 15,
   "id": "4be70f1b",
   "metadata": {},
   "outputs": [],
   "source": [
    "''' DATA: Run this cell to get values into the server memory)'''\n",
    "\n",
    "# Station names\n",
    "stations = ['Hanko Russarö', 'Heinola Asemantaus', 'Helsinki Kaisaniemi', \n",
    "            'Helsinki Malmi airfield', 'Hyvinkää Hyvinkäänkylä', 'Joutsa Savenaho', \n",
    "            'Juuka Niemelä', 'Jyväskylä airport', 'Kaarina Yltöinen', 'Kauhava airfield', \n",
    "            'Kemi Kemi-Tornio airport', 'Kotka Rankki', 'Kouvola Anjala', \n",
    "            'Kouvola Utti airport', 'Kuopio Maaninka', 'Kuusamo airport', \n",
    "            'Lieksa Lampela', 'Mustasaari Valassaaret', 'Parainen Utö', 'Pori airport', \n",
    "            'Rovaniemi Apukka', 'Salo Kärkkä', 'Savonlinna Punkaharju Laukansaari', \n",
    "            'Seinäjoki Pelmaa', 'Siikajoki Ruukki', 'Siilinjärvi Kuopio airport', \n",
    "            'Tohmajärvi Kemie', 'Utsjoki Nuorgam', 'Vaala Pelso', 'Vaasa airport', \n",
    "            'Vesanto Sonkari', 'Vieremä Kaarakkala', 'Vihti Maasoja', 'Ylitornio Meltosjärvi']\n",
    "\n",
    "# Latitude coordinates of Weather stations  \n",
    "lats = [59.77, 61.2, 60.18, 60.25, 60.6, 61.88, 63.23, 62.4,\n",
    "       60.39, 63.12, 65.78, 60.38, 60.7, 60.9, 63.14, 65.99,\n",
    "       63.32, 63.44, 59.78, 61.47, 66.58, 60.37, 61.8, 62.94,\n",
    "       64.68, 63.01, 62.24, 70.08, 64.5, 63.06, 62.92, 63.84,\n",
    "       60.42, 66.53]\n",
    "\n",
    "# Longitude coordinates of Weather stations \n",
    "lons = [22.95, 26.05, 24.94, 25.05, 24.8, 26.09, 29.23, 25.67, \n",
    "       22.55, 23.04, 24.58, 26.96, 26.81, 26.95, 27.31, 29.23, \n",
    "       30.05, 21.07, 21.37, 21.79, 26.01, 23.11, 29.32, 22.49, \n",
    "       25.09, 27.8, 30.35, 27.9, 26.42, 21.75, 26.42, 27.22, \n",
    "       24.4, 24.65]\n",
    "\n",
    "# Cutoff values that correspond to the centroid of Finnish mainland\n",
    "# North - South\n",
    "north_south_cutoff = 64.5\n",
    "\n",
    "# East-West\n",
    "east_west_cutoff = 26.3"
   ]
  },
  {
   "cell_type": "markdown",
   "id": "6aa14551",
   "metadata": {},
   "source": [
    "### Task C.1: Create four empty lists for geographical zones in Finland\n",
    "(1 points)\n",
    "\n",
    "Create four lists for geographical zones in Finland (i.e. `nort_west`, `north_east`, `south_west`, `south_east`)\n"
   ]
  },
  {
   "cell_type": "code",
   "execution_count": 16,
   "id": "169053fa",
   "metadata": {},
   "outputs": [],
   "source": [
    "'''Create four empty lists for the regions'''\n",
    "# creating an empty list for each region\n",
    "north_west = []\n",
    "north_east = []\n",
    "south_west = []\n",
    "south_east = []"
   ]
  },
  {
   "cell_type": "code",
   "execution_count": 17,
   "id": "9e6a4b89",
   "metadata": {},
   "outputs": [
    {
     "name": "stdout",
     "output_type": "stream",
     "text": [
      "[] [] [] []\n"
     ]
    }
   ],
   "source": [
    "'''Test print all lists (they should be empty at this point)'''\n",
    "\n",
    "# checking that the lists are indeed empty\n",
    "print(north_east,north_west, south_east, south_west)\n"
   ]
  },
  {
   "cell_type": "markdown",
   "id": "b1e62360",
   "metadata": {},
   "source": [
    "### Task C.2: Determine the number of stations\n",
    "(1 points)\n",
    "\n",
    "Create a variable *`N`* that should contain the number of stations we have.\n"
   ]
  },
  {
   "cell_type": "code",
   "execution_count": 18,
   "id": "a82c0c43",
   "metadata": {},
   "outputs": [],
   "source": [
    "'''Determine the number of stations'''\n",
    "\n",
    "# counting elements in 'stations' list\n",
    "N = len(stations)"
   ]
  },
  {
   "cell_type": "code",
   "execution_count": 19,
   "id": "3493fe96",
   "metadata": {},
   "outputs": [
    {
     "name": "stdout",
     "output_type": "stream",
     "text": [
      " There are 34 stations in total.\n"
     ]
    }
   ],
   "source": [
    "'''How many stations do we have'''\n",
    "\n",
    "# print statement for the station \n",
    "print (' There are {} stations in total.'.format(N))"
   ]
  },
  {
   "cell_type": "markdown",
   "id": "5e8b07b0",
   "metadata": {},
   "source": [
    "### Task C.3: Determine geographical zone for all stations and print out the results\n",
    "(6 points)\n",
    "\n",
    "\n",
    "**Main coding step**: Now, write a loop that iterates N number of times, and allocates all stations to different geographical zones based on the coordinates. \n",
    "\n",
    "- Use a conditional statement to find out if the latitude coordinate of a station is either North or South of the center point of Finland (`26.3, 64.5`) **AND** if the longitude location is West or East from that center point.\n",
    "- Don't forget to comment your code!\n",
    "- Insert the name of the station into the correct geographical zone list\n",
    "- Print out the names of stations at each geographical zone\n"
   ]
  },
  {
   "cell_type": "code",
   "execution_count": 20,
   "id": "9a0cfbf5",
   "metadata": {},
   "outputs": [],
   "source": [
    "''' Enter your code to determine geographical zone'''\n",
    "\n",
    "for i in range(0,N):     #iterating over the index of stations \n",
    "    if lats[i] > north_south_cutoff and lons[i] > east_west_cutoff:    #checking for stations in the north and east\n",
    "        place = stations[i]       \n",
    "        north_east.append(place)\n",
    "    elif lats[i] > north_south_cutoff and lons[i] < east_west_cutoff:    #checking for stations in the north and west\n",
    "        place = stations[i]\n",
    "        north_west.append(place)\n",
    "    elif lats[i] < north_south_cutoff and lons[i] < east_west_cutoff:     #checking for stations in the south and west\n",
    "        place = stations[i]\n",
    "        south_west.append(place)\n",
    "    else:                                #remaining stations are added to south east\n",
    "        place = stations[i]\n",
    "        south_east.append(place)\n",
    "        "
   ]
  },
  {
   "cell_type": "markdown",
   "id": "a68aab95-7aa1-4775-a381-84bde6667c99",
   "metadata": {},
   "source": [
    "**there is a station that has a lat value of 64.5, same as the north-south cutoff. If I ended \n",
    "with an else statement that put the remainder of stations in sout_west, that station got added there. \n",
    "Basically, south_west becomes 17 and fails assertion test.\n",
    "Technically, that station is in the east, between southeast and northeast** "
   ]
  },
  {
   "cell_type": "code",
   "execution_count": 21,
   "id": "95cd3199",
   "metadata": {},
   "outputs": [
    {
     "name": "stdout",
     "output_type": "stream",
     "text": [
      "The distribution of stations to the various geographical zones of Finland are as follows:\n",
      "\n",
      " North East \n",
      "['Kuusamo airport', 'Utsjoki Nuorgam']\n",
      "\n",
      " North West\n",
      "['Kemi Kemi-Tornio airport', 'Rovaniemi Apukka', 'Siikajoki Ruukki', 'Ylitornio Meltosjärvi']\n",
      "\n",
      " South East\n",
      " ['Juuka Niemelä', 'Kotka Rankki', 'Kouvola Anjala', 'Kouvola Utti airport', 'Kuopio Maaninka', 'Lieksa Lampela', 'Savonlinna Punkaharju Laukansaari', 'Siilinjärvi Kuopio airport', 'Tohmajärvi Kemie', 'Vaala Pelso', 'Vesanto Sonkari', 'Vieremä Kaarakkala']\n",
      "\n",
      " South West \n",
      "['Hanko Russarö', 'Heinola Asemantaus', 'Helsinki Kaisaniemi', 'Helsinki Malmi airfield', 'Hyvinkää Hyvinkäänkylä', 'Joutsa Savenaho', 'Jyväskylä airport', 'Kaarina Yltöinen', 'Kauhava airfield', 'Mustasaari Valassaaret', 'Parainen Utö', 'Pori airport', 'Salo Kärkkä', 'Seinäjoki Pelmaa', 'Vaasa airport', 'Vihti Maasoja']\n",
      " .\n"
     ]
    }
   ],
   "source": [
    "'''Print all resulting lists to screen, write full sentences, like in a report'''\n",
    "\n",
    "print ('The distribution of stations to the various geographical zones of Finland are as follows:')\n",
    "print('\\n North East \\n{}\\n\\n North West\\n{}\\n\\n South East\\n {}\\n\\n South West \\n{}\\n .'. format(north_east,north_west,south_east,south_west))"
   ]
  },
  {
   "cell_type": "markdown",
   "id": "d6d9287d",
   "metadata": {},
   "source": [
    "In the following cells, you can test, if you got the correct number of stations. "
   ]
  },
  {
   "cell_type": "code",
   "execution_count": 22,
   "id": "9d256c23",
   "metadata": {},
   "outputs": [],
   "source": [
    "assert len(north_west) == 4\n",
    "assert len(north_east) == 2\n",
    "assert len(south_west) == 16\n",
    "assert len(south_east) == 12\n"
   ]
  },
  {
   "cell_type": "markdown",
   "id": "845f3845",
   "metadata": {},
   "source": [
    "### Task C.4: Portion of Stations in each Region\n",
    "\n",
    "(4 points) \n",
    "\n",
    "Calculate and report what portion (share) of weather stations are located in each geographical zone (in percentages, the total number of stations equals to 100 %). This information could be used to evaluate if a certain zone was over/under-represented in the data seventy years ago.\n",
    "\n",
    "Store the answers into variables:\n",
    "- `north_west_share`\n",
    "- `north_east_share`\n",
    "- `south_west_share`\n",
    "- `south_east_share`\n",
    "\n",
    "Finally, check your results by printing out the sum of all shares and assign it to the variable `shareAllStations`.\n",
    "\n",
    "Don't forget to comment your code!"
   ]
  },
  {
   "cell_type": "code",
   "execution_count": 23,
   "id": "06f6f269",
   "metadata": {},
   "outputs": [],
   "source": [
    "''' Enter your code to calculate the percentage'''\n",
    "sum_stations = len(north_west) + len(north_east) + len(south_east) + len(south_west)    # sum of all shares\n",
    "\n",
    "# finding percentages of each zone \n",
    "north_west_share = (len(north_west)/sum_stations)*100\n",
    "north_east_share = (len(north_east)/sum_stations)*100\n",
    "south_west_share = (len(south_west)/sum_stations)*100\n",
    "south_east_share = (len(south_east)/sum_stations)*100\n"
   ]
  },
  {
   "cell_type": "code",
   "execution_count": 24,
   "id": "127760ea",
   "metadata": {},
   "outputs": [
    {
     "name": "stdout",
     "output_type": "stream",
     "text": [
      "The percentage of stations in the North West zone of Finland is 11.76 percent.\n",
      "The percentage of stations in the North East zone of Finland is 5.88 percent.\n",
      "The percentage of stations in the South West zone of Finland is 47.06 percent.\n",
      "The percentage of stations in the South East zone of Finland is 35.29 percent.\n"
     ]
    }
   ],
   "source": [
    "'''Write a report for each station using the format() statement\n",
    "   indicate percentage with accuracy of 2 digits after comma'''\n",
    "\n",
    "print (\"The percentage of stations in the North West zone of Finland is {:.2f} percent.\".format(north_west_share))\n",
    "print (\"The percentage of stations in the North East zone of Finland is {:.2f} percent.\".format(north_east_share))\n",
    "print (\"The percentage of stations in the South West zone of Finland is {:.2f} percent.\".format(south_west_share))\n",
    "print (\"The percentage of stations in the South East zone of Finland is {:.2f} percent.\".format(south_east_share))"
   ]
  },
  {
   "cell_type": "code",
   "execution_count": 25,
   "id": "3c8bfc74",
   "metadata": {},
   "outputs": [],
   "source": [
    "''' Assign and print out the sum of all shares'''\n",
    "\n",
    "shareAllStations = north_east_share + north_west_share + south_west_share + south_east_share"
   ]
  },
  {
   "cell_type": "code",
   "execution_count": 26,
   "id": "4e1d4191",
   "metadata": {},
   "outputs": [],
   "source": [
    "# Check your results\n",
    "\n",
    "assert round(shareAllStations) == 100"
   ]
  },
  {
   "cell_type": "markdown",
   "id": "79045233",
   "metadata": {},
   "source": [
    "---\n",
    "That's it! Now you have finished all the assignments in this notebook!\n",
    "\n",
    "If you are satisfied with your notebook, save it and push it to your homework repository."
   ]
  },
  {
   "cell_type": "code",
   "execution_count": null,
   "id": "dc0c4572",
   "metadata": {},
   "outputs": [],
   "source": []
  }
 ],
 "metadata": {
  "kernelspec": {
   "display_name": "Python 3 (ipykernel)",
   "language": "python",
   "name": "python3"
  },
  "language_info": {
   "codemirror_mode": {
    "name": "ipython",
    "version": 3
   },
   "file_extension": ".py",
   "mimetype": "text/x-python",
   "name": "python",
   "nbconvert_exporter": "python",
   "pygments_lexer": "ipython3",
   "version": "3.9.5"
  }
 },
 "nbformat": 4,
 "nbformat_minor": 5
}
