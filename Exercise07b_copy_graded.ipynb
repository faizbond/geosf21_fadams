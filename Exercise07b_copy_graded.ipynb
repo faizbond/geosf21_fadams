{
 "cells": [
  {
   "cell_type": "markdown",
   "metadata": {},
   "source": [
    "\"Geo Data Science with Python\" \n",
    "### Notebook Exercise 7b\n",
    "\n",
    "---\n",
    "\n",
    "# Selecting points inside a boundary\n",
    "\n",
    "If you work in teams, please indicate your colaborators below!"
   ]
  },
  {
   "cell_type": "code",
   "execution_count": 1,
   "metadata": {
    "tags": []
   },
   "outputs": [],
   "source": [
    "NAME = \"Faisal Adams\"\n",
    "COLLABORATORS = \"Ben Eppinger\""
   ]
  },
  {
   "cell_type": "markdown",
   "metadata": {},
   "source": [
    "<div class=\"alert alert-warning\">\n",
    "\n",
    "Exercise 07b\n",
    "    \n",
    "total points: 34/25\n",
    "    \n",
    "    \n",
    "Summary:\n",
    "- A: 9/10 (extra credit)\n",
    "- B: 25/25\n",
    "    \n",
    "You have one mistake: first test in part A should be true. \n",
    "\n",
    "    \n",
    "</div>"
   ]
  },
  {
   "cell_type": "markdown",
   "metadata": {
    "nbgrader": {
     "grade": false,
     "grade_id": "cell-Ctask",
     "locked": true,
     "points": 0,
     "schema_version": 3,
     "solution": false,
     "task": true
    }
   },
   "source": [
    "---\n",
    "# Part A: Find out which points locate inside a region (optional practice)\n",
    "\n",
    "(10 extra credit points)\n",
    "\n",
    "In the code cell below, you have given x and y coordiantes of two points p1 and p2 as well as an array containing a nested list of coordinate pairs. The data are defined in a code cell below this task. You are supposed to automatically test, whether the two points lcoate inside the polygon using Python code. For that you have to convert the points and the polygonArray to shapely objects and use the correct shapely function to assing the test result to two variables `test` and `test2`. In detail, perform the following steps:\n",
    "\n",
    "* Import the objects **Point** and **Polygon** from the package shapely.geometry in the way, that you do not need any prefix to use the objects Point and Polygon (1 point)\n",
    "* Define two points `p1` and `p2` as shapely Points, given the data below (2 points)\n",
    "* Convert the polygon given by the variable `polygonArray` to a list of tuples holding coordinate pairs and save them in the variable `PolygonList`. The structure of the list should be appropriate to serve as input for the shapely object Polygon in the next step. (3 points)\n",
    "* Define a shapely polygon `poly1` using the coordinates stored in `PolygonList` (1 point)\n",
    "* Check whether point `p1` and point `p2` locate in the polygon `poly1` and assign the test results to the variables `polytest1` and `polytest2`, respectively (2 points)\n",
    "\n",
    "Fill your code in the answer code cell below. Make sure to comment your code well!!! Use the same variable names as stated in the task."
   ]
  },
  {
   "cell_type": "code",
   "execution_count": 2,
   "metadata": {
    "nbgrader": {
     "grade": false,
     "grade_id": "cell-Ccode",
     "locked": true,
     "schema_version": 3,
     "solution": false,
     "task": false
    }
   },
   "outputs": [],
   "source": [
    "import numpy as np\n",
    "\n",
    "# x and y coordinates of two points, given as numbers\n",
    "p1_y = 24.952242\n",
    "p1_x = 60.1696017\n",
    "p2_y = 24.976567\n",
    "p2_x = 60.1612500\n",
    "\n",
    "# x and y coordinates of 4 points defining a polygon, given as a numpy array [y,x]\n",
    "polygonArray = np.array([[24.950899, 60.169158], [24.953492, 60.169158], [24.953510,60.170104], [24.950958,60.169990]])"
   ]
  },
  {
   "cell_type": "code",
   "execution_count": 3,
   "metadata": {},
   "outputs": [
    {
     "name": "stdout",
     "output_type": "stream",
     "text": [
      "POLYGON ((24.950899 60.169158, 24.953492 60.169158, 24.95351 60.170104, 24.950958 60.16999, 24.950899 60.169158))\n"
     ]
    }
   ],
   "source": [
    "from shapely.geometry import Point, Polygon \n",
    "\n",
    "# creating shapely point variables for the point coordinates\n",
    "p1 = Point(p1_x, p1_y)\n",
    "p2 = Point (p2_x, p2_y)\n",
    "\n",
    "# converting cppdinates into a list of tuples\n",
    "PolygonList = [tuple(i) for i in polygonArray]\n",
    "\n",
    "# converting tuple list into a polygon\n",
    "poly1 = Polygon(PolygonList)\n",
    "\n",
    "# checking if points are inside the polygon\n",
    "polytest1 = poly1.contains(p1)\n",
    "polytest2 = poly1.contains(p2)\n",
    "\n",
    "\n",
    "print(poly1)"
   ]
  },
  {
   "cell_type": "code",
   "execution_count": 4,
   "metadata": {},
   "outputs": [
    {
     "name": "stdout",
     "output_type": "stream",
     "text": [
      "Using the \"within\" method, we can confirm that:\n",
      "p1 being inside poly1 is False\n",
      "p2 being inside poly1 is False\n"
     ]
    }
   ],
   "source": [
    "# Print out the results of your test\n",
    "\n",
    "print('Using the \"within\" method, we can confirm that:')\n",
    "print (f'p1 being inside poly1 is {polytest1}')\n",
    "print (f'p2 being inside poly1 is {polytest2}')\n",
    "\n"
   ]
  },
  {
   "cell_type": "markdown",
   "metadata": {},
   "source": [
    "---\n",
    "# Part B: Calculate statistics for a geographical region\n",
    "\n",
    "(25 points)\n",
    "\n",
    "In this task, you should retrieve a gridded dataset and calculate mean of one of three variables (surface temperature, snowfall **or** evaporation) within the state of California and Utah, during the month of January 2021.\n",
    "\n",
    "\n",
    "### You have given:\n",
    "\n",
    "- Link to the file containing one month GLDAS NOAH model simulations from NASA's GESDISC OpenDAP server defined as url below. Note: the dataset contains only one grid, we will not do any time series analysis, only work with the spatial (lat/lon) dimensions.\n",
    "\n",
    "  url = https://hydro1.gesdisc.eosdis.nasa.gov/opendap/hyrax/GLDAS/GLDAS_CLSM10_M.2.1/2021/GLDAS_CLSM10_M.A202101.021.nc4\n",
    "\n",
    "\n",
    "- A file containing the boundary of California and Utah: boundary_CA.csv, boundary_UT.csv\n",
    "- Bounding box of the study region (encompassing both regions and a buffer):\n",
    "    - minLat = 28\n",
    "    - maxLat = 45\n",
    "    - minLon = -124\n",
    "    - maxLon = -106\n",
    "\n",
    "\n",
    "### You should do the following:\n",
    "\n",
    "- Import all needed packages\n",
    "- Read the boundary files for California and Utah\n",
    "- Open connection to the netcdf file via pydap and with your EarthData account\n",
    "- Retrieve information about either of the following variables from the GLDAS dataset: `AvgSurfT_inst`, `Snowf_tavg` or `Evap_tavg`.\n",
    "- Retrieve metdadata and mappings (lat, lon, ...)\n",
    "- Download the needed subset of the global dataset, covering the regions of California and Utah. **Note**: you will have to find indices that correspond to coordinates of the bounding box given above.\n",
    "- Find gridpoints located inside both states using classes and methods of the module shapely, and generate a mask for each of the regions of California and Utah\n",
    "- The mask should have the same shape as the downloaded datagrid its values should code 1 for gridpoints inside and 0 for gridpoints outside the region.\n",
    "- Apply the mask to the grid and calculate mean variable (surface temperature, snowfall or evaporation) for both regions. Note: consider a method, that does not include points outside the mask in the mean calculation, e.g. set points outside to nan and use np.nanmean().)\n",
    "- Make a testplot of your masks, to see if they are correct.\n",
    "- Generate a separate map of the grided dataset within the bounding box. Plot also the boundaries/polygons of both states.\n",
    "- Don't forget to comment your code\n",
    "- Structure your notebook into different work steps. Make use of the notebook markdown cells, add sections headers for different steps you are taking, or similar\n",
    "- Formulate a in a decent report answering the questions below, in a mark-down cell below your code cells.\n",
    "\n",
    "\n",
    "### Answer the following questions:\n",
    "\n",
    "- Which dataset did you choose (surface temperature, snowfall **or** evaporation) ?\n",
    "- What is the fill or missing value of the dataset ?\n",
    "- What is the unit of the dataset?\n",
    "- How many grid points locate inside the state of California?\n",
    "- How many grid points locate inside the state of Utah?\n",
    "- What is the average surface temperature / snowfall / evaporation during January 2021 in California?\n",
    "- What is the average surface temperature / snowfall / evaporation during January 2021 in Utah?\n",
    "- Which state got more snow during that month?\n"
   ]
  },
  {
   "cell_type": "markdown",
   "metadata": {},
   "source": [
    "## Answer Code\n",
    "### Imports \n",
    "The first step is to import the modules to be utilized"
   ]
  },
  {
   "cell_type": "code",
   "execution_count": 5,
   "metadata": {
    "tags": []
   },
   "outputs": [],
   "source": [
    "from pydap.client import open_url       \n",
    "from pydap.cas.urs import setup_session \n",
    "import numpy as np\n",
    "from shapely.geometry import Point, Polygon\n",
    "from matplotlib import pyplot as plt"
   ]
  },
  {
   "cell_type": "markdown",
   "metadata": {},
   "source": [
    "The import code in the cell below is a special case to bypass the SSL Certificate Verification error I encountered"
   ]
  },
  {
   "cell_type": "code",
   "execution_count": 6,
   "metadata": {},
   "outputs": [],
   "source": [
    "#workaround for SSL certification verification issue found on the internet\n",
    "import ssl\n",
    "ssl._create_default_https_context = ssl._create_unverified_context\n"
   ]
  },
  {
   "cell_type": "markdown",
   "metadata": {},
   "source": [
    "### File access\n",
    "The following cells access the relevant url and extracts the relevant arrays and datasets for variious purposes. The boundaries for California and Utah are defined and the CA and UT suffixes are used. "
   ]
  },
  {
   "cell_type": "code",
   "execution_count": 7,
   "metadata": {},
   "outputs": [],
   "source": [
    "#  accessing the GES DISC data from the given URL\n",
    "\n",
    "url = 'https://hydro1.gesdisc.eosdis.nasa.gov/opendap/hyrax/GLDAS/GLDAS_CLSM10_M.2.1/2021/GLDAS_CLSM10_M.A202101.021.nc4'\n",
    "\n",
    "username = 'fadams'     \n",
    "password = 'Herewego007'  \n",
    "session = setup_session(username, password, check_url=url) \n",
    "dataset = open_url(url, session=session) "
   ]
  },
  {
   "cell_type": "code",
   "execution_count": 8,
   "metadata": {},
   "outputs": [],
   "source": [
    "# boundary extraction for CA\n",
    "filename = './boundary_CA.csv'\n",
    "boundaryCA = np.genfromtxt(filename, delimiter=',', skip_header = 1)\n",
    "\n",
    "# boundary extraction for UT\n",
    "filename = './boundary_UT.csv'\n",
    "boundaryUT = np.genfromtxt(filename, delimiter=',', skip_header = 1)\n"
   ]
  },
  {
   "cell_type": "code",
   "execution_count": 9,
   "metadata": {
    "tags": []
   },
   "outputs": [],
   "source": [
    "# extracting and asiigning the data for surface temperature, snowfall and evaporation\n",
    "temp= dataset.AvgSurfT_inst.array[:].data\n",
    "snow= dataset.Snowf_tavg.array[:].data\n",
    "evap= dataset.Evap_tavg.array[:].data"
   ]
  },
  {
   "cell_type": "markdown",
   "metadata": {},
   "source": [
    "### Metadata Extraction\n",
    "Metadata for unique datasets are examined in the following cells."
   ]
  },
  {
   "cell_type": "code",
   "execution_count": 10,
   "metadata": {},
   "outputs": [
    {
     "data": {
      "text/plain": [
       "(1, 150, 360)"
      ]
     },
     "execution_count": 10,
     "metadata": {},
     "output_type": "execute_result"
    }
   ],
   "source": [
    "evap.shape"
   ]
  },
  {
   "cell_type": "code",
   "execution_count": 11,
   "metadata": {},
   "outputs": [
    {
     "data": {
      "text/plain": [
       "-9999.0"
      ]
     },
     "execution_count": 11,
     "metadata": {},
     "output_type": "execute_result"
    }
   ],
   "source": [
    "dataset.AvgSurfT_inst.missing_value"
   ]
  },
  {
   "cell_type": "code",
   "execution_count": 12,
   "metadata": {},
   "outputs": [
    {
     "data": {
      "text/plain": [
       "'K'"
      ]
     },
     "execution_count": 12,
     "metadata": {},
     "output_type": "execute_result"
    }
   ],
   "source": [
    "dataset.AvgSurfT_inst.units"
   ]
  },
  {
   "cell_type": "code",
   "execution_count": 13,
   "metadata": {},
   "outputs": [
    {
     "data": {
      "text/plain": [
       "(1, 150, 360)"
      ]
     },
     "execution_count": 13,
     "metadata": {},
     "output_type": "execute_result"
    }
   ],
   "source": [
    "dataset.AvgSurfT_inst.shape"
   ]
  },
  {
   "cell_type": "code",
   "execution_count": 14,
   "metadata": {},
   "outputs": [
    {
     "data": {
      "text/plain": [
       "'kg m-2 s-1'"
      ]
     },
     "execution_count": 14,
     "metadata": {},
     "output_type": "execute_result"
    }
   ],
   "source": [
    "dataset.Snowf_tavg.units"
   ]
  },
  {
   "cell_type": "code",
   "execution_count": 15,
   "metadata": {},
   "outputs": [],
   "source": [
    "# extracting latitude, longitude data and creating a grid\n",
    "lat = dataset.lat[:].data\n",
    "lon = dataset.lon[:].data\n",
    "\n",
    "lonGrid, latGrid = np.meshgrid(lon,lat)"
   ]
  },
  {
   "cell_type": "code",
   "execution_count": 16,
   "metadata": {},
   "outputs": [],
   "source": [
    "# finding coordinates of bounding box and calculating coordinates \n",
    "minLat = 28\n",
    "maxLat = 45\n",
    "minLon = -124\n",
    "maxLon = -106\n",
    "\n",
    "# finding indexes for the boundary to create the cutoffs\n",
    "idxLatMin = np.argmin(np.abs(lat-minLat))\n",
    "idxLatMax = np.argmin(np.abs(lat-maxLat))\n",
    "idxLonMin = np.argmin(np.abs(lon-minLon))\n",
    "idxLonMax = np.argmin(np.abs(lon-maxLon))\n",
    "\n",
    "# creating cutoffs for the surface temperature and snow datasets\n",
    "temp_bnd = temp [:, idxLatMin:idxLatMax, idxLonMin:idxLonMax]\n",
    "snow_bnd = snow [:, idxLatMin:idxLatMax, idxLonMin:idxLonMax]\n",
    "\n",
    "# new bondaries for the latitude and longitude grid\n",
    "lat_bndGrid = latGrid [idxLatMin:idxLatMax, idxLonMin:idxLonMax]\n",
    "lon_bndGrid = lonGrid [idxLatMin:idxLatMax, idxLonMin:idxLonMax]\n",
    "\n",
    "# new boundaries for the latitude and longitude 1D arrays\n",
    "lat_bnd = lat [idxLatMin:idxLatMax]\n",
    "lon_bnd = lon [idxLonMin:idxLonMax]"
   ]
  },
  {
   "cell_type": "code",
   "execution_count": 17,
   "metadata": {},
   "outputs": [],
   "source": [
    "# converting both boundary coordinates into tuple lists\n",
    "tupleCA = [tuple(boundaryCA[i,:]) for i in range(len(boundaryCA))]\n",
    "tupleUT = [tuple(boundaryUT[i,:]) for i in range(len(boundaryUT))]\n",
    "\n",
    "# crating a polygon for the two states\n",
    "polyCA = Polygon (tupleCA)\n",
    "polyUT = Polygon (tupleUT)\n",
    "\n",
    "# creating a mask for each state, and a third mask that combines CA and UT\n",
    "maskCA = np.zeros(temp_bnd.shape[1:])\n",
    "maskUT = np.zeros(temp_bnd.shape[1:])\n",
    "mask_combine = np.zeros(temp_bnd.shape[1:])\n",
    "\n",
    "N_lat = range(len(lat_bnd))\n",
    "N_lon = range(len(lon_bnd))\n",
    "\n",
    "# this code iterates through lat-long coordinates and creates masks for both UT and CA\n",
    "for i in N_lat:\n",
    "    for j in N_lon:\n",
    "           \n",
    "        la = lat_bnd[i]\n",
    "        lo = lon_bnd[j]\n",
    "        \n",
    "        pt = Point(la, lo)\n",
    "        \n",
    "        mask_valCA = int(polyCA.contains(pt))\n",
    "        mask_valUT = int(polyUT.contains(pt))\n",
    "        \n",
    "        maskCA[i,j] = mask_valCA\n",
    "        maskUT[i,j] = mask_valUT\n",
    "        mask_combine = maskCA + maskUT"
   ]
  },
  {
   "cell_type": "code",
   "execution_count": 18,
   "metadata": {},
   "outputs": [
    {
     "name": "stdout",
     "output_type": "stream",
     "text": [
      "40\n",
      "23\n"
     ]
    }
   ],
   "source": [
    "# counting the number of grid points inside each state\n",
    "\n",
    "# https://stackoverflow.com/questions/28663856/how-to-count-the-occurrence-of-certain-item-in-an-ndarray\n",
    "countCA = np.count_nonzero(maskCA == 1)\n",
    "countUT = np.count_nonzero(maskUT == 1)\n",
    "print(countCA)\n",
    "print(countUT)"
   ]
  },
  {
   "cell_type": "markdown",
   "metadata": {},
   "source": [
    "### Plots\n",
    "The cells below create plots for each state (CA and UT) that focuses on the grid point masks. The final plot shows the temperature variation in each state at the resoltuion of the grided points. Finally, some statistical data is derived concerning temperature and snowfall for both states."
   ]
  },
  {
   "cell_type": "code",
   "execution_count": 19,
   "metadata": {},
   "outputs": [
    {
     "data": {
      "text/plain": [
       "<matplotlib.collections.QuadMesh at 0x199e59d2cd0>"
      ]
     },
     "execution_count": 19,
     "metadata": {},
     "output_type": "execute_result"
    },
    {
     "data": {
      "image/png": "[encoded data removed]",
      "text/plain": [
       "<Figure size 432x288 with 1 Axes>"
      ]
     },
     "metadata": {
      "needs_background": "light"
     },
     "output_type": "display_data"
    }
   ],
   "source": [
    "# plotting grid points for CA\n",
    "plt.pcolormesh(lon_bndGrid, lat_bndGrid, maskCA, shading='auto')"
   ]
  },
  {
   "cell_type": "code",
   "execution_count": 20,
   "metadata": {},
   "outputs": [
    {
     "data": {
      "text/plain": [
       "<matplotlib.collections.QuadMesh at 0x199e7133460>"
      ]
     },
     "execution_count": 20,
     "metadata": {},
     "output_type": "execute_result"
    },
    {
     "data": {
      "image/png": "[encoded data removed]",
      "text/plain": [
       "<Figure size 432x288 with 1 Axes>"
      ]
     },
     "metadata": {
      "needs_background": "light"
     },
     "output_type": "display_data"
    }
   ],
   "source": [
    "# plotting grid points for UT\n",
    "plt.pcolormesh(lon_bndGrid, lat_bndGrid, maskUT, shading='auto')"
   ]
  },
  {
   "cell_type": "code",
   "execution_count": 21,
   "metadata": {},
   "outputs": [
    {
     "data": {
      "image/png": "[encoded data removed]",
      "text/plain": [
       "<Figure size 432x288 with 2 Axes>"
      ]
     },
     "metadata": {
      "needs_background": "light"
     },
     "output_type": "display_data"
    }
   ],
   "source": [
    "# finding the temperature grids for CA and UT as well as mean values\n",
    "tempCA = temp_bnd*maskCA\n",
    "tempUT = temp_bnd*maskUT\n",
    "meanCA = np.nanmean(tempCA)\n",
    "meanUT = np.nanmean(tempUT)\n",
    "\n",
    "# total snow fall and difference between the two states\n",
    "snowCA = np.sum(snow_bnd*maskCA)\n",
    "snowUT = np.sum(snow_bnd*maskUT)\n",
    "snowDiff = snowCA-snowUT\n",
    "\n",
    "# creating a grid that contains the temperature for both states\n",
    "temp_combine = np.add(tempCA,tempUT)\n",
    "temp_combine[temp_combine==-0] = np.nan\n",
    "\n",
    "# maskCA[maskCA==0] = np.nan\n",
    "# maskUT[maskUT==0] = np.nan\n",
    "\n",
    "# plot\n",
    "plt.pcolormesh(lon_bndGrid, lat_bndGrid, temp_combine[0], shading='auto')\n",
    "plt.plot(boundaryCA[:,1], boundaryCA[:,0])\n",
    "plt.plot(boundaryUT[:,1], boundaryUT[:,0])\n",
    "cbar = plt.colorbar()\n",
    "\n",
    "# print(maskUT)"
   ]
  },
  {
   "cell_type": "code",
   "execution_count": 22,
   "metadata": {},
   "outputs": [
    {
     "name": "stdout",
     "output_type": "stream",
     "text": [
      "36.504987429949196\n",
      "20.28092996435228\n",
      "0.0002416892853556729\n",
      "0.00018917869465440162\n",
      "5.251059070127129e-05\n"
     ]
    }
   ],
   "source": [
    "# printing some relevant statistics\n",
    "print (meanCA)\n",
    "print(meanUT)\n",
    "print(snowCA)\n",
    "print (snowUT)\n",
    "print(snowDiff)"
   ]
  },
  {
   "cell_type": "markdown",
   "metadata": {
    "tags": []
   },
   "source": [
    "## Report\n",
    "The surface temperature dataset was chosen for this report, although data from the other datasets was also considered. The missing value of this dataset is -9999.0. The unit for surface temperature is in Kelvin. \n",
    "There are 40 grid points located in California and 23 can be found in Utah. The average surface temperature during January 2021 in California was 279.3 K and 269.8 K for Utah. Between the 2 states, Carlifornia has more snow, and the difference is 5.3e-05 kg m-2 s-1.6"
   ]
  }
 ],
 "metadata": {
  "kernelspec": {
   "display_name": "Python 3",
   "language": "python",
   "name": "python3"
  },
  "language_info": {
   "codemirror_mode": {
    "name": "ipython",
    "version": 3
   },
   "file_extension": ".py",
   "mimetype": "text/x-python",
   "name": "python",
   "nbconvert_exporter": "python",
   "pygments_lexer": "ipython3",
   "version": "3.8.8"
  }
 },
 "nbformat": 4,
 "nbformat_minor": 4
}
