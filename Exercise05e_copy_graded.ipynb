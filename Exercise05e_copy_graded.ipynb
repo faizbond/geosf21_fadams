{
 "cells": [
  {
   "cell_type": "markdown",
   "metadata": {},
   "source": [
    "\"Geo Data Science with Python\" \n",
    "### Notebook Exercise 5e\n",
    "\n",
    "---\n",
    "\n",
    "# Using & Writing Classes in Python\n",
    "\n",
    "This exercise continues practice on using and builds bractice on writing Classes in Python.\n",
    "\n",
    "If you work in teams, please indicate your colaborators below!"
   ]
  },
  {
   "cell_type": "code",
   "execution_count": 1,
   "metadata": {},
   "outputs": [],
   "source": [
    "NAME = \"Faisal\"\n",
    "COLLABORATORS = \"\""
   ]
  },
  {
   "cell_type": "markdown",
   "metadata": {},
   "source": [
    "<div class=\"alert alert-warning\">\n",
    "\n",
    "Exercise 05e\n",
    "    \n",
    "total points: 29/30\n",
    "    \n",
    "Summary:\n",
    "- A.1: 1/1\n",
    "- A.2: 3/3\n",
    "- A.3: 1/1\n",
    "- A.4: 3/3\n",
    "- A.5: 1/1\n",
    "- A.6: 3/3\n",
    "- A.7: 3/3\n",
    "- B  : 14/15\n",
    "\n",
    "See further notes below.\n",
    "    \n",
    "</div>"
   ]
  },
  {
   "cell_type": "markdown",
   "metadata": {},
   "source": [
    "---\n",
    "# Part A: Using a Car Class!\n",
    "(15 points)\n",
    "\n",
    "In this assignment we will be using a `Car` class like this:\n",
    "\n",
    "<img src=\"./Lessons/images/Image_ClassCar.png\" width=\"300\" />\n",
    "\n",
    "Figure 1: *A Car Class.*"
   ]
  },
  {
   "cell_type": "markdown",
   "metadata": {},
   "source": [
    "Below, you can find a definition of the `Car` class, already coded in Python. Your task will be to use the class, create instances and call its methods with correct attributes being passed.\n",
    "\n",
    "Our `Car` class contains a class variable `vehicle_type`, a constructor method with the arguments `make` and `model` as well as three further methods:\n",
    "\n",
    "* `getCharge()`: Checks the battery status.\n",
    "* `recharge()`: Recharges the battery.\n",
    "* `drive()`: Drives the car\n",
    "\n",
    "Study the definition of the class in the code cell below. The function `getCharge()` sets the charge status of the car battery in percentage. The charge status is assigned randomly using the module `random`. The function `recharge()` recharges the car battery to 100%. And the last method `drive()` simply drives the car.\n",
    "\n",
    "Below, you will be guided step-by-step to perform the following tasks:\n",
    "\n",
    "* Print the `vehicle_type` of the `Car` class\n",
    "* Adjusting the `vehicle_type` of the `Car` class to `'electric car'`\n",
    "* Create an instance of the `Car` class using the name `myToyota` with the make/model `Toyota`/`Prius`\n",
    "* Create an instance of the `Car` class using the name `myTesla` with the make/model `Tesla`/`S` \n",
    "* Work on the accuracy of the class variable `vehicle_type`.\n",
    "* Check the charge status of the battery for `myTesla`.\n",
    "* Refill the battery if needed.\n",
    "* Drive the car.\n",
    "\n",
    "Make sure to use exaclty the same variable names and strings as stated in the tasks."
   ]
  },
  {
   "cell_type": "code",
   "execution_count": 2,
   "metadata": {
    "nbgrader": {
     "grade": false,
     "grade_id": "cell-ACarClassCode",
     "locked": true,
     "schema_version": 3,
     "solution": false,
     "task": false
    }
   },
   "outputs": [],
   "source": [
    "import random  # importing the function random to use for generating the charge status of the car\n",
    "\n",
    "# the complexer Car class\n",
    "class Car:\n",
    "\n",
    "    # Class variables\n",
    "    vehicle_type = \"automobile\"\n",
    "\n",
    "    # Constructor method\n",
    "    def __init__(self, make, model):\n",
    "        self.model = model\n",
    "        self.make  = make\n",
    "        print(\"You have created an \" + self.vehicle_type + \" of make/model: \" + make + \"/\" + model + \".\")\n",
    "        print(\"Check your charge status, before you take a ride!\")\n",
    "\n",
    "    # Method to get charge status\n",
    "    def getCharge(self):\n",
    "        self.charge  = charge = round(random.random()*100)\n",
    "        if self.charge > 30:\n",
    "            print( \"At \" + str(self.charge) + \" percent, your battery is charged enough, take a ride.\")\n",
    "            self.drive()\n",
    "        else:\n",
    "            print(\"At \" + str(self.charge) + \" percent, the battery is almost empty. Call the recharge function!\")\n",
    "\n",
    "    # Method to recharge\n",
    "    def recharge(self):\n",
    "        print(\"Recharching the car battery to 100 percent.\")\n",
    "        self.charge = 100\n",
    "        self.drive()\n",
    "\n",
    "    # Method to drive the car\n",
    "    def drive(self):\n",
    "        print(\"The \" + self.make + \" is driving well.\")\n",
    "        "
   ]
  },
  {
   "cell_type": "markdown",
   "metadata": {
    "nbgrader": {
     "grade": false,
     "grade_id": "cell-Ainfo1",
     "locked": true,
     "schema_version": 3,
     "solution": false,
     "task": false
    }
   },
   "source": [
    "With the following statement you can check the content of the class variable vehicle_type:"
   ]
  },
  {
   "cell_type": "code",
   "execution_count": 3,
   "metadata": {
    "nbgrader": {
     "grade": false,
     "grade_id": "cell-Acode1",
     "locked": true,
     "schema_version": 3,
     "solution": false,
     "task": false
    }
   },
   "outputs": [
    {
     "name": "stdout",
     "output_type": "stream",
     "text": [
      "automobile\n"
     ]
    }
   ],
   "source": [
    "print(Car.vehicle_type)"
   ]
  },
  {
   "cell_type": "markdown",
   "metadata": {
    "nbgrader": {
     "grade": false,
     "grade_id": "cell-Atask1",
     "locked": true,
     "schema_version": 3,
     "solution": false,
     "task": false
    }
   },
   "source": [
    "### Task A.1 (1 point)\n",
    "\n",
    "Let's begin with specifying the class's vehicle type to an electric car. Enter code below, to assign the class variable `vehicle_type` with the new string `'electric car'`. Then print out a sentence reporting the new vehicle type you created."
   ]
  },
  {
   "cell_type": "code",
   "execution_count": 4,
   "metadata": {},
   "outputs": [
    {
     "name": "stdout",
     "output_type": "stream",
     "text": [
      "The car is now an electric car!\n"
     ]
    }
   ],
   "source": [
    "\"\"\"Add your code\"\"\"\n",
    "\n",
    "Car.vehicle_type = 'electric car'\n",
    "\n",
    "print('The car is now an ' + Car.vehicle_type + '!')"
   ]
  },
  {
   "cell_type": "markdown",
   "metadata": {
    "nbgrader": {
     "grade": false,
     "grade_id": "cell-Atask2",
     "locked": true,
     "schema_version": 3,
     "solution": false,
     "task": false
    }
   },
   "source": [
    "### Task A.2 (3 points)\n",
    "\n",
    "Now, create two instances of the `Car` class:\n",
    "* Create an instance of the `Car` class using the name `myToyota` with the make/model `Toyota`/`Prius`\n",
    "* Create an instance of the `Car` class using the name `myTesla` with the make/model `Tesla`/`S` \n",
    "* Add two print statements reporting the new cars you created and their make and model.\n",
    "* Add two print statements checking the vehicle type of both cars."
   ]
  },
  {
   "cell_type": "code",
   "execution_count": 5,
   "metadata": {},
   "outputs": [
    {
     "name": "stdout",
     "output_type": "stream",
     "text": [
      "You have created an electric car of make/model: Toyota/Prius.\n",
      "Check your charge status, before you take a ride!\n",
      "You have created an electric car of make/model: Tesla/S.\n",
      "Check your charge status, before you take a ride!\n",
      "\n",
      "This new car is a Toyota Prius.\n",
      "The Toyota Prius is an electric car.\n",
      "\n",
      "The other new car is a Tesla Model S.\n",
      "The Tesla Model S is an electric car.\n"
     ]
    }
   ],
   "source": [
    "\"\"\"Add your code\"\"\"\n",
    "\n",
    "myToyota = Car('Toyota', 'Prius')\n",
    "myTesla = Car ('Tesla', 'S')\n",
    "\n",
    "print ('\\nThis new car is a ' + myToyota.make + ' ' + myToyota.model +'.')\n",
    "print('The '+ myToyota.make + ' ' + myToyota.model + ' is an '+ myToyota.vehicle_type +'.')\n",
    "\n",
    "print ('\\nThe other new car is a ' + myTesla.make + ' Model ' + myTesla.model +'.')\n",
    "print('The '+ myTesla.make + ' Model ' + myTesla.model + ' is an '+ myTesla.vehicle_type +'.')\n",
    "\n"
   ]
  },
  {
   "cell_type": "markdown",
   "metadata": {
    "nbgrader": {
     "grade": false,
     "grade_id": "cell-Ainfo3",
     "locked": true,
     "schema_version": 3,
     "solution": false,
     "task": false
    }
   },
   "source": [
    "### Task A.3 (1 points)\n",
    "\n",
    "We are not satisfied of the accuracy of the vehicle type. Redefine only the class variable `vehicle_type` of the Toyota Prius to `'hybrid car'`. Then add two print statements reporting the vehicle type for both cars."
   ]
  },
  {
   "cell_type": "code",
   "execution_count": 6,
   "metadata": {},
   "outputs": [
    {
     "name": "stdout",
     "output_type": "stream",
     "text": [
      "The Toyota Prius is actually a hybrid car.\n",
      "The Tesla Model S is still an electric car.\n"
     ]
    }
   ],
   "source": [
    "\"\"\"Add your code\"\"\"\n",
    "\n",
    "myToyota.vehicle_type = 'hybrid car'\n",
    "\n",
    "print('The '+ myToyota.make + ' ' + myToyota.model + ' is actually a '+ myToyota.vehicle_type +'.')\n",
    "\n",
    "print('The '+ myTesla.make + ' Model ' + myTesla.model + ' is still an '+ myTesla.vehicle_type +'.')\n"
   ]
  },
  {
   "cell_type": "markdown",
   "metadata": {
    "nbgrader": {
     "grade": false,
     "grade_id": "cell-A4task",
     "locked": true,
     "points": 1,
     "schema_version": 3,
     "solution": false,
     "task": true
    }
   },
   "source": [
    "### Task A.4 (3 points)\n",
    "\n",
    "Now, we continue working with the methods for the instance `myTesla`. Let's do what was requested at instance creation: \n",
    "\n",
    "* `Check your charge status, before you take a ride!`\n",
    "\n",
    "Review the code for the class definition. Which `Car` class method do you have to call to check the charge status of the electric motor's battery? Then, assign the current charge attribute to a variable of the name `Tesla_charge`. Then add a print statement reporting the current charge status using the variable `Tesla_charge`.\n",
    "\n",
    "Hint: You have to first check the charge status, before you can reference the `charge` attribute."
   ]
  },
  {
   "cell_type": "code",
   "execution_count": 7,
   "metadata": {},
   "outputs": [
    {
     "name": "stdout",
     "output_type": "stream",
     "text": [
      "At 59 percent, your battery is charged enough, take a ride.\n",
      "The Tesla is driving well.\n",
      "\n",
      "The Tesla Model S is currently at 59% battery power.\n"
     ]
    }
   ],
   "source": [
    "\"\"\"Add your code\"\"\"\n",
    "\n",
    "myTesla.getCharge()\n",
    "\n",
    "Tesla_charge = myTesla.charge\n",
    "\n",
    "print ('\\nThe ' + myTesla.make + ' Model ' + myTesla.model + ' is currently at {}% battery power.'.format(Tesla_charge))"
   ]
  },
  {
   "cell_type": "markdown",
   "metadata": {
    "nbgrader": {
     "grade": false,
     "grade_id": "cell-A6task",
     "locked": true,
     "points": 2,
     "schema_version": 3,
     "solution": false,
     "task": true
    }
   },
   "source": [
    "### Task A.5 (1 points)\n",
    "\n",
    "The drive method is called when recharging the battery. Remeber, a method can also be called in by other methods inside the class definition.\n",
    "\n",
    "But we can also call this method directly and drive the car by ourselfes. \n",
    "\n",
    "* Drive the Tesla until the battery is empty."
   ]
  },
  {
   "cell_type": "code",
   "execution_count": 8,
   "metadata": {},
   "outputs": [
    {
     "name": "stdout",
     "output_type": "stream",
     "text": [
      "The Tesla is driving well.\n",
      "At 23 percent, the battery is almost empty. Call the recharge function!\n"
     ]
    }
   ],
   "source": [
    "\"\"\"Add your code\"\"\"\n",
    "\n",
    "myTesla.drive()\n",
    "myTesla.getCharge()"
   ]
  },
  {
   "cell_type": "markdown",
   "metadata": {
    "nbgrader": {
     "grade": false,
     "grade_id": "cell-A5task",
     "locked": true,
     "points": 1,
     "schema_version": 3,
     "solution": false,
     "task": true
    }
   },
   "source": [
    "### Task A.6 (3 points)\n",
    "\n",
    "You should rerun the answer cell above until you get feedback that the battery is almost empty. Now recharge your car using a respective method of the class. Revise the class definition to find out which method you should use for that. After recharging the battery, assign the new charge status of your `Car` instance `myTesla` to a variable `new_Tesla_charge`."
   ]
  },
  {
   "cell_type": "code",
   "execution_count": 9,
   "metadata": {},
   "outputs": [
    {
     "name": "stdout",
     "output_type": "stream",
     "text": [
      "Recharching the car battery to 100 percent.\n",
      "The Tesla is driving well.\n",
      "\n",
      "After recharging, the Tesla Model S is at 100% power.\n"
     ]
    }
   ],
   "source": [
    "\"\"\"Add your code\"\"\"\n",
    "\n",
    "myTesla.recharge()\n",
    "\n",
    "new_Tesla_charge =myTesla.charge\n",
    "\n",
    "print('\\nAfter recharging, the ' + myTesla.make + ' Model ' + myTesla.model + ' is at {}% power.'.format(new_Tesla_charge))"
   ]
  },
  {
   "cell_type": "markdown",
   "metadata": {
    "nbgrader": {
     "grade": false,
     "grade_id": "cell-AtaskFinal",
     "locked": true,
     "schema_version": 3,
     "solution": false,
     "task": false
    }
   },
   "source": [
    "### Task A.7 (3 points)\n",
    "\n",
    "Play the same game with the second car we created above, the Toyota Prius and do the following:\n",
    "\n",
    "1. Check the charge status of the Toyota, assign the result to the variable `Toyota_charge` and report the result to screen.\n",
    "2. Drive the Toyota until the battery is empty.\n",
    "3. Recharge the Toyota, assign the result to the variable `new_Toyota_charge` and report the result to screen."
   ]
  },
  {
   "cell_type": "code",
   "execution_count": 10,
   "metadata": {},
   "outputs": [
    {
     "name": "stdout",
     "output_type": "stream",
     "text": [
      "At 54 percent, your battery is charged enough, take a ride.\n",
      "The Toyota is driving well.\n",
      "\n",
      "The current charge of the Toyota Prius is 54%.\n"
     ]
    }
   ],
   "source": [
    "\"\"\"Add your code for item 1\"\"\"\n",
    "myToyota.getCharge()\n",
    "Toyota_charge = myToyota.charge \n",
    "\n",
    "print('\\nThe current charge of the '+ myToyota.make + ' ' + myToyota.model + ' is {}%.'.format(Toyota_charge))"
   ]
  },
  {
   "cell_type": "code",
   "execution_count": 11,
   "metadata": {},
   "outputs": [
    {
     "name": "stdout",
     "output_type": "stream",
     "text": [
      "The Toyota is driving well.\n",
      "At 58 percent, your battery is charged enough, take a ride.\n",
      "The Toyota is driving well.\n"
     ]
    }
   ],
   "source": [
    "\"\"\"Add your code for item 2\"\"\"\n",
    "\n",
    "myToyota.drive()\n",
    "myToyota.getCharge()"
   ]
  },
  {
   "cell_type": "code",
   "execution_count": 12,
   "metadata": {},
   "outputs": [
    {
     "name": "stdout",
     "output_type": "stream",
     "text": [
      "Recharching the car battery to 100 percent.\n",
      "The Toyota is driving well.\n",
      "\n",
      "After recharging, the Toyota Prius is at 100% power.\n"
     ]
    }
   ],
   "source": [
    "\"\"\"Add your code for item 3\"\"\"\n",
    "\n",
    "\n",
    "myToyota.recharge()\n",
    "\n",
    "new_Toyota_charge =myToyota.charge\n",
    "\n",
    "print('\\nAfter recharging, the ' + myToyota.make +  ' ' +myToyota.model + ' is at {}% power.'.format(new_Toyota_charge))"
   ]
  },
  {
   "cell_type": "markdown",
   "metadata": {},
   "source": [
    "---\n",
    "\n",
    "# Part B: Write a class Square\n",
    "(15 points)\n",
    "\n",
    "Write a class Square that generates point coordinates of it’s four corners given a single point, side length and rotation angle, as shown in the image below.\n",
    "\n",
    "<img src=\"./Lessons/images/Image_ClassSquare.png\" width=\"400\" />\n"
   ]
  },
  {
   "cell_type": "markdown",
   "metadata": {},
   "source": [
    "The following items are needed to complete part B of this homework. Don't forget to submit the file geometry.py to your homework repository together with this homework notebook ! \n",
    "\n",
    "1. Retrieve the code of the class Point from your last lecture notes or from the notebook Lesson5e_supplement.ipynb. For this exercise, include the constructor method and the method display, you don't need the method distance.\n",
    "\n",
    "2. Code a class Square, which receives three arguments to the constructor method:\n",
    "    - a point defined in a local coordinate system (= an instance of the Class Point), which defines the upper left corner of the square,\n",
    "    - the length of a side of the square, and \n",
    "    - a rotation angle (versus horizontal line, hence x axis, see image above) \n",
    "\n",
    "\n",
    "2. Write a method `getCorners()` and add it to the class `Square`. The method will calculate and print out a simple list of the coordinates of all four corners of the square. Use trigonometric functions to code the task and apply functions of the math module (be careful to enter the correct unit of the angle for sine or cosine functions). \n",
    "\n",
    "3. Embed the classes Point and Square in a module called geometry.py. Add the import of the math module at an appropriate location.\n",
    "\n",
    "4. Add a docstring to your module.\n",
    "\n",
    "5. From the answer notebook, import the completed module geometry. Then generate your own square instance, by defining with parameter listed below. Take care to use the correct name qualifiers when calling the class from the module. Display the results for all corner coordinates with the method getCorners.\n",
    "    - point: x = 4.5 m, y = 6.8 m\n",
    "    - square length: 10 m\n",
    "    - rotation angle versus horizontal: 15°\n"
   ]
  },
  {
   "cell_type": "code",
   "execution_count": 13,
   "metadata": {},
   "outputs": [
    {
     "name": "stdout",
     "output_type": "stream",
     "text": [
      "The resulting corners for the given point of that square are:\n",
      "[[4.5, 6.8], [14.16, 7.09], [16.75, -2.57], [7.09, -5.16]]\n",
      "None\n"
     ]
    }
   ],
   "source": [
    "\"\"\"Put your classes into the module geometry.py.\n",
    "   Then import this module here and perform task B5 from above. \"\"\"\n",
    "import geometry \n",
    "\n",
    "myPoint = geometry.Point(4.5,6.8)\n",
    "\n",
    "mySquare = geometry.Square(myPoint, 10, 15)\n",
    "\n",
    "print('The resulting corners for the given point of that square are:')\n",
    "print(mySquare.getCorners())"
   ]
  },
  {
   "cell_type": "markdown",
   "metadata": {},
   "source": [
    "<div class=\"alert alert-warning\">\n",
    "\n",
    "Note: Code concept for creating the class and methods is correct. The calculation of y-coordinates for point 2-4 is not correct though, and they do not maintain the square shape of set side length (see added test plot below). Revise your trigonometric equations (usually x and y are multiplied with either sin/cos of the rotation agle (not both). (-1P)\n",
    "    \n",
    "</div>"
   ]
  },
  {
   "cell_type": "code",
   "execution_count": 14,
   "metadata": {},
   "outputs": [
    {
     "data": {
      "text/plain": [
       "(-20.0, 20.0)"
      ]
     },
     "execution_count": 14,
     "metadata": {},
     "output_type": "execute_result"
    },
    {
     "data": {
      "image/png": "[encoded data removed]",
      "text/plain": [
       "<Figure size 216x216 with 1 Axes>"
      ]
     },
     "metadata": {
      "needs_background": "light"
     },
     "output_type": "display_data"
    }
   ],
   "source": [
    "### TESTPLOT ADDED, SWERTH\n",
    "import matplotlib.pyplot as plt\n",
    "fig = plt.figure(figsize=(3,3))\n",
    "ax = fig.add_subplot(111)\n",
    "plt.scatter(mySquare.polyPnts[0][0],mySquare.polyPnts[0][1])\n",
    "plt.scatter(mySquare.polyPnts[1][0],mySquare.polyPnts[1][1])\n",
    "plt.scatter(mySquare.polyPnts[2][0],mySquare.polyPnts[2][1])\n",
    "plt.scatter(mySquare.polyPnts[3][0],mySquare.polyPnts[3][1])\n",
    "ax.set_xlim([-20,20]) \n",
    "ax.set_ylim([-20,20]) "
   ]
  },
  {
   "cell_type": "markdown",
   "metadata": {
    "nbgrader": {
     "grade": false,
     "grade_id": "cell-final",
     "locked": true,
     "schema_version": 3,
     "solution": false,
     "task": false
    }
   },
   "source": [
    "---\n",
    "If you are satisfied with your assignments, save your notebook, and make a backup. Then submit this assignment to your homework repository on GitHub."
   ]
  },
  {
   "cell_type": "code",
   "execution_count": 15,
   "metadata": {},
   "outputs": [],
   "source": [
    "# !git pull\n",
    "# !git add Exercise5e_OOPII.ipynb\n",
    "# !git add geometry.py\n",
    "# !git commit -m 'Exercise 05e submission'\n",
    "# ! git push"
   ]
  },
  {
   "cell_type": "code",
   "execution_count": null,
   "metadata": {},
   "outputs": [],
   "source": []
  }
 ],
 "metadata": {
  "kernelspec": {
   "display_name": "Python 3",
   "language": "python",
   "name": "python3"
  },
  "language_info": {
   "codemirror_mode": {
    "name": "ipython",
    "version": 3
   },
   "file_extension": ".py",
   "mimetype": "text/x-python",
   "name": "python",
   "nbconvert_exporter": "python",
   "pygments_lexer": "ipython3",
   "version": "3.8.8"
  }
 },
 "nbformat": 4,
 "nbformat_minor": 4
}
