{
 "cells": [
  {
   "cell_type": "markdown",
   "id": "4ba1c559-47af-4c54-b8f7-11e094f9554f",
   "metadata": {
    "jp-MarkdownHeadingCollapsed": true,
    "tags": []
   },
   "source": [
    "\"Geo Data Science with Python\" \n",
    "### Notebook Exercise 7a\n",
    "\n",
    "# Matrix and Vector Operations\n"
   ]
  },
  {
   "cell_type": "markdown",
   "id": "be6543b8-9787-49a3-ab5c-0fbae6eaf15a",
   "metadata": {},
   "source": [
    "### Tutorial 2\n",
    "\n",
    "Now, measure the runtime for matrix multiplication numpy (linear algepra multiplication) and compare it to that of an algorithm using for-loops. For that, find code for algorithm using for-loops in the function `matrixMultiplication`, given in the script `matrixMultiplication.py`. The script also defines two test matrices A and B.\n",
    "\n",
    "What is the runtime for the loop-algorithm compared to numpy multiplication of the two matrices A and B?\n",
    "\n",
    "Explain why the calculation of one algorithm is faster than the other one!"
   ]
  },
  {
   "cell_type": "code",
   "execution_count": 1,
   "id": "38f278dd-245d-41b8-a15d-486f8686b5ca",
   "metadata": {},
   "outputs": [],
   "source": [
    "import numpy as np"
   ]
  },
  {
   "cell_type": "code",
   "execution_count": 2,
   "id": "8c043381-fb7d-49f9-b069-863643660994",
   "metadata": {},
   "outputs": [],
   "source": [
    "# naive implementation\n",
    "def matrixMultiplication(A, B):\n",
    "    \"\"\"\n",
    "    Do not use this one because it is too slow.\n",
    "    \"\"\"\n",
    "    assert A.shape[1] == B.shape[0]\n",
    "    numRow, numCol = A.shape[0], B.shape[1]\n",
    "    commonDim = A.shape[1] # B.shape[0]\n",
    "    \n",
    "    C = np.zeros((numRow, numCol))\n",
    "    for i in range(numRow):\n",
    "        for j in range(numCol):\n",
    "            for k in range(commonDim):\n",
    "                C[i][j] += A[i][k] * B[k][j]\n",
    "    return C\n",
    "\n",
    "#%%        \n",
    "A = np.array([\n",
    "              [1, 2],\n",
    "              [3, 4],\n",
    "              [5, 6]])\n",
    "B = np.array([\n",
    "              [11, 12],\n",
    "              [13, 14]\n",
    "             ])\n",
    "\n"
   ]
  },
  {
   "cell_type": "code",
   "execution_count": 3,
   "id": "eb6257f6-c05b-460d-a3ac-59ab64071506",
   "metadata": {},
   "outputs": [
    {
     "name": "stdout",
     "output_type": "stream",
     "text": [
      "19.4 µs ± 1.18 µs per loop (mean ± std. dev. of 7 runs, 10000 loops each)\n"
     ]
    }
   ],
   "source": [
    "# timing the loop algorithm\n",
    "%timeit matrixMultiplication(A,B)\n",
    "\n",
    "# matrixMultiplication(A,B)"
   ]
  },
  {
   "cell_type": "code",
   "execution_count": 4,
   "id": "898494d9-74df-40d0-ab53-4f91bdb61fee",
   "metadata": {},
   "outputs": [
    {
     "name": "stdout",
     "output_type": "stream",
     "text": [
      "1.45 µs ± 131 ns per loop (mean ± std. dev. of 7 runs, 1000000 loops each)\n"
     ]
    }
   ],
   "source": [
    "# timing the numpy operation \n",
    "%timeit A @ B\n",
    "\n",
    "# A @ B"
   ]
  },
  {
   "cell_type": "markdown",
   "id": "2cf1198b-5e54-421b-91b7-cf57157d1379",
   "metadata": {},
   "source": [
    "##### Answer:\n",
    "\n",
    "> The loop-algorithm linearly performs the required multiplication, one value at a time. The numpy multiplication performs the calculation on an entire set of values in one go, hence vectorisation. The result here is that the numpy calculation is at least one order of magnitude faster than the loop algorithm."
   ]
  },
  {
   "cell_type": "markdown",
   "id": "f998cad2-8398-4ea0-8a60-ea0779682e9b",
   "metadata": {},
   "source": [
    "### NumPy Matrix\n",
    "Matrix data type in numpy is available as alternative currently, but it be deprecated eventually."
   ]
  },
  {
   "cell_type": "code",
   "execution_count": 5,
   "id": "62bf6ec1-dc30-44f5-a326-8d2f6ca02472",
   "metadata": {},
   "outputs": [
    {
     "data": {
      "text/plain": [
       "matrix([[1, 2, 3],\n",
       "        [4, 5, 6]])"
      ]
     },
     "execution_count": 5,
     "metadata": {},
     "output_type": "execute_result"
    }
   ],
   "source": [
    "# matrix class of numpy is a subclass of ndarray\n",
    "npMatrix = np.matrix('1 2 3; 4 5 6')\n",
    "npMatrix"
   ]
  },
  {
   "cell_type": "code",
   "execution_count": 6,
   "id": "0ee55efc-576f-4a4c-ae8d-087c3c3dea01",
   "metadata": {},
   "outputs": [
    {
     "data": {
      "text/plain": [
       "numpy.matrix"
      ]
     },
     "execution_count": 6,
     "metadata": {},
     "output_type": "execute_result"
    }
   ],
   "source": [
    "type(npMatrix)"
   ]
  },
  {
   "cell_type": "markdown",
   "id": "2044ca73-0f78-46ef-9dfa-294b9ddf5d37",
   "metadata": {},
   "source": [
    "More details in the references: https://numpy.org/doc/stable/reference/generated/numpy.matrix.html\n",
    "\n",
    "And a discussion on when to use array versus matrix: https://numpy.org/devdocs/user/numpy-for-matlab-users.html#array-or-matrix-which-should-i-use"
   ]
  },
  {
   "cell_type": "markdown",
   "id": "6e3d9833-5194-43ee-8a80-a9f1bb7e6572",
   "metadata": {},
   "source": [
    "## Rules of Broadcasting\n",
    "Let's get continue with NumPy arrays. \n",
    "When combining arrays of different sizes for matrix summation, substraction and element-by matrix multipliation with `*` or `np.multiply()`, rules of broadcasting will be applied.\n",
    "\n",
    "**Rule 1**: If the two arrays differ in their number of dimensions, the shape of the one with fewer dimensions is padded with ones on its leading (left) side.\n",
    "\n",
    "**Rule 2**: If the shape of the two arrays does not match in any dimension, the array with shape equal to 1 in that dimension is stretched to match the other shape.\n",
    "\n",
    "**Rule 3**: If in any dimension the sizes disagree and neither is equal to 1, an error is raised.\n",
    "\n",
    "These rules apply, for example, when multiplying or adding a scalar to a vector or a matrix."
   ]
  },
  {
   "cell_type": "code",
   "execution_count": 7,
   "id": "e81e47be-2c48-465b-bd8c-61262280f695",
   "metadata": {},
   "outputs": [
    {
     "data": {
      "text/plain": [
       "array([[1, 2, 3],\n",
       "       [4, 5, 6]])"
      ]
     },
     "execution_count": 7,
     "metadata": {},
     "output_type": "execute_result"
    }
   ],
   "source": [
    "matrix = np.array([  [1, 2, 3],\n",
    "                     [4, 5, 6]   ])\n",
    "matrix"
   ]
  },
  {
   "cell_type": "code",
   "execution_count": 8,
   "id": "c09d9d25-1064-41ae-9161-1a705387ef5d",
   "metadata": {},
   "outputs": [
    {
     "data": {
      "text/plain": [
       "array([[10, 10, 10]])"
      ]
     },
     "execution_count": 8,
     "metadata": {},
     "output_type": "execute_result"
    }
   ],
   "source": [
    "vector = np.array([  [10, 10, 10]  ])\n",
    "vector"
   ]
  },
  {
   "cell_type": "code",
   "execution_count": 9,
   "id": "87c43efa-29b0-451d-8687-01897c8ba93f",
   "metadata": {},
   "outputs": [
    {
     "data": {
      "text/plain": [
       "array([100])"
      ]
     },
     "execution_count": 9,
     "metadata": {},
     "output_type": "execute_result"
    }
   ],
   "source": [
    "scalar = np.array([100]) \n",
    "scalar"
   ]
  },
  {
   "cell_type": "code",
   "execution_count": 10,
   "id": "919f3e17-0218-4575-a754-b3b64c7365ff",
   "metadata": {},
   "outputs": [
    {
     "data": {
      "text/plain": [
       "array([[101, 102, 103],\n",
       "       [104, 105, 106]])"
      ]
     },
     "execution_count": 10,
     "metadata": {},
     "output_type": "execute_result"
    }
   ],
   "source": [
    "matrix + scalar"
   ]
  },
  {
   "cell_type": "code",
   "execution_count": 11,
   "id": "47b2e7fa-c077-4038-9e12-eaef273152ab",
   "metadata": {},
   "outputs": [
    {
     "data": {
      "text/plain": [
       "array([[110, 110, 110]])"
      ]
     },
     "execution_count": 11,
     "metadata": {},
     "output_type": "execute_result"
    }
   ],
   "source": [
    "vector + scalar"
   ]
  },
  {
   "cell_type": "markdown",
   "id": "780cddc2-90cb-477e-8481-75cbc7a72499",
   "metadata": {},
   "source": [
    "These rules also apply, when multiply or sum a vector to a matrix."
   ]
  },
  {
   "cell_type": "code",
   "execution_count": 12,
   "id": "0e726265-2f4a-4777-b193-8d84eae83b0b",
   "metadata": {},
   "outputs": [
    {
     "data": {
      "text/plain": [
       "array([[11, 12, 13],\n",
       "       [14, 15, 16]])"
      ]
     },
     "execution_count": 12,
     "metadata": {},
     "output_type": "execute_result"
    }
   ],
   "source": [
    "matrix + vector"
   ]
  },
  {
   "cell_type": "markdown",
   "id": "47db25c6-1af4-44d3-a313-81d452a5d150",
   "metadata": {},
   "source": [
    "### Special Matrices\n",
    "\n",
    "Let's get continue with NumPy arrays and define some special matrices with them."
   ]
  },
  {
   "cell_type": "code",
   "execution_count": 13,
   "id": "b9b2bb6d-c46c-4449-87c0-400a701ef8a8",
   "metadata": {},
   "outputs": [
    {
     "data": {
      "text/plain": [
       "array([[1, 0, 0, 0, 0],\n",
       "       [0, 2, 0, 0, 0],\n",
       "       [0, 0, 3, 0, 0],\n",
       "       [0, 0, 0, 4, 0],\n",
       "       [0, 0, 0, 0, 5]])"
      ]
     },
     "execution_count": 13,
     "metadata": {},
     "output_type": "execute_result"
    }
   ],
   "source": [
    "# Diagonal matrix\n",
    "np.diag([1,2,3,4,5])"
   ]
  },
  {
   "cell_type": "code",
   "execution_count": 14,
   "id": "2a512089-003d-432c-aab8-b6277a4e8d28",
   "metadata": {},
   "outputs": [
    {
     "data": {
      "text/plain": [
       "array([[1., 0., 0., 0., 0., 0., 0., 0., 0., 0.],\n",
       "       [0., 1., 0., 0., 0., 0., 0., 0., 0., 0.],\n",
       "       [0., 0., 1., 0., 0., 0., 0., 0., 0., 0.],\n",
       "       [0., 0., 0., 1., 0., 0., 0., 0., 0., 0.],\n",
       "       [0., 0., 0., 0., 1., 0., 0., 0., 0., 0.],\n",
       "       [0., 0., 0., 0., 0., 1., 0., 0., 0., 0.],\n",
       "       [0., 0., 0., 0., 0., 0., 1., 0., 0., 0.],\n",
       "       [0., 0., 0., 0., 0., 0., 0., 1., 0., 0.],\n",
       "       [0., 0., 0., 0., 0., 0., 0., 0., 1., 0.],\n",
       "       [0., 0., 0., 0., 0., 0., 0., 0., 0., 1.]])"
      ]
     },
     "execution_count": 14,
     "metadata": {},
     "output_type": "execute_result"
    }
   ],
   "source": [
    "# Identity matrix\n",
    "np.identity(10)\n",
    "# or\n",
    "np.eye(10)"
   ]
  },
  {
   "cell_type": "code",
   "execution_count": 15,
   "id": "d5ef1302-cc3b-4891-a1d8-1e34a8877a03",
   "metadata": {},
   "outputs": [
    {
     "data": {
      "text/plain": [
       "array([[ 6., -2., -3.],\n",
       "       [-1.,  1.,  0.],\n",
       "       [-1.,  0.,  1.]])"
      ]
     },
     "execution_count": 15,
     "metadata": {},
     "output_type": "execute_result"
    }
   ],
   "source": [
    "# Inverse matrix\n",
    "# We will talk about this in a future class,\n",
    "# as matrix inversion requires sophisticated operations\n",
    "# np.linalg.inv works only for square matrices\n",
    "A = np.array([[1, 2, 3], [1, 3, 3], [1, 2, 4]])\n",
    "Ainv = np.linalg.inv(A)\n",
    "Ainv"
   ]
  },
  {
   "cell_type": "code",
   "execution_count": 16,
   "id": "3dc790e1-50ae-453b-b6ef-a43fe693bced",
   "metadata": {},
   "outputs": [
    {
     "data": {
      "text/plain": [
       "array([[1., 0., 0.],\n",
       "       [0., 1., 0.],\n",
       "       [0., 0., 1.]])"
      ]
     },
     "execution_count": 16,
     "metadata": {},
     "output_type": "execute_result"
    }
   ],
   "source": [
    "# A*A^-1 = I\n",
    "A @Ainv"
   ]
  },
  {
   "cell_type": "markdown",
   "id": "64656c4e-f9f1-41dc-a148-ab2638a933e6",
   "metadata": {},
   "source": [
    "## Linear System of Equations\n",
    "\n",
    "Linear equations like:\n",
    "\n",
    "- $A_{11} x_1 + A_{12} x_2 + A_{13} x_3 = b_1$\n",
    "- $A_{21} x_1 + A_{22} x_2 + A_{23} x_3 = b_2$\n",
    "- $A_{31} x_1 + A_{32} x_2 + A_{33} x_3 = b_3$\n",
    "\n",
    "... can be written in the form Ax = b."
   ]
  },
  {
   "cell_type": "code",
   "execution_count": 17,
   "id": "a72348fa-3e78-4261-82a4-95f4e8f9d641",
   "metadata": {},
   "outputs": [
    {
     "data": {
      "text/plain": [
       "array([[1, 2, 3],\n",
       "       [1, 3, 3],\n",
       "       [1, 2, 4]])"
      ]
     },
     "execution_count": 17,
     "metadata": {},
     "output_type": "execute_result"
    }
   ],
   "source": [
    "# We can store the equation system in the matrix A, for example:\n",
    "A = np.array([[1, 2, 3], [1, 3, 3], [1, 2, 4]])\n",
    "A"
   ]
  },
  {
   "cell_type": "code",
   "execution_count": 18,
   "id": "29beb6a2-dc0a-47ac-8b9f-74954c0caf99",
   "metadata": {},
   "outputs": [],
   "source": [
    "# Assume we have a set of parameter (independent variables),\n",
    "# these are stored in the vector x:\n",
    "x = np.array([[2,4,1]]).T"
   ]
  },
  {
   "cell_type": "code",
   "execution_count": 19,
   "id": "ee8438bf-3c15-41e9-a783-0c91aec135a2",
   "metadata": {},
   "outputs": [
    {
     "data": {
      "text/plain": [
       "array([[13],\n",
       "       [17],\n",
       "       [14]])"
      ]
     },
     "execution_count": 19,
     "metadata": {},
     "output_type": "execute_result"
    }
   ],
   "source": [
    "# The dependent variables can then be calculated and stored in the vector b:\n",
    "b = A@x\n",
    "b\n"
   ]
  },
  {
   "cell_type": "markdown",
   "id": "c0382d39-6b6d-47e1-9b00-f945d34781f5",
   "metadata": {},
   "source": [
    "Our equation system looks like this:\n",
    "\n",
    "- $x_1 + 2 x_2 + 3 x_3 = 13$\n",
    "- $x_1 + 3 x_2 + 3 x_3 = 17$\n",
    "- $x_1 + 2 x_2 + 4 x_3 = 14$\n",
    "\n",
    "Now assume, **b** are observations, and **A** contains a geophysical model connecting model parameter **x** to observations **b**. We can then solve for x with the equation: $x = A^{-1}b$"
   ]
  },
  {
   "cell_type": "code",
   "execution_count": 20,
   "id": "a56bb3f5-ef44-4b9d-bf8d-c44a10ffc425",
   "metadata": {},
   "outputs": [],
   "source": [
    "# An inversion of the matrix A\n",
    "Ainv = np.linalg.inv(A)"
   ]
  },
  {
   "cell_type": "code",
   "execution_count": 21,
   "id": "4ac91b81-9517-49be-be76-f778ff34d44a",
   "metadata": {},
   "outputs": [
    {
     "data": {
      "text/plain": [
       "array([[2.],\n",
       "       [4.],\n",
       "       [1.]])"
      ]
     },
     "execution_count": 21,
     "metadata": {},
     "output_type": "execute_result"
    }
   ],
   "source": [
    "# ... can be used to calculate a solution of x, if we have b given:\n",
    "x_calculated = Ainv@b\n",
    "x_calculated"
   ]
  },
  {
   "cell_type": "markdown",
   "id": "890a6a48-38e3-451e-8487-af2b0ef1bb2c",
   "metadata": {},
   "source": [
    "As you can see, the results for `x_calculated` are equal to the originally given parameter x above."
   ]
  }
 ],
 "metadata": {
  "kernelspec": {
   "display_name": "Python 3",
   "language": "python",
   "name": "python3"
  },
  "language_info": {
   "codemirror_mode": {
    "name": "ipython",
    "version": 3
   },
   "file_extension": ".py",
   "mimetype": "text/x-python",
   "name": "python",
   "nbconvert_exporter": "python",
   "pygments_lexer": "ipython3",
   "version": "3.8.8"
  }
 },
 "nbformat": 4,
 "nbformat_minor": 5
}
