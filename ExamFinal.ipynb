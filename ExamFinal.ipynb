{
 "cells": [
  {
   "cell_type": "markdown",
   "metadata": {},
   "source": [
    "\"Geo Data Science with Python\" - Fall 2021\n",
    "### Notebook Final Exam\n",
    "\n",
    "This is a take-home exam. \n",
    "\n",
    "If you work in teams, please indicate your collaborators below."
   ]
  },
  {
   "cell_type": "code",
   "execution_count": null,
   "metadata": {
    "tags": []
   },
   "outputs": [],
   "source": [
    "NAME = \"\"\n",
    "COLLABORATORS = \"\""
   ]
  },
  {
   "cell_type": "markdown",
   "metadata": {},
   "source": [
    "---\n",
    "---\n",
    "# PART A: Theoretical Knowledge\n",
    "\n",
    "(16 points)\n",
    "\n",
    "Note that these exam questions are designed to deepen your understanding of Python language and data science topics. I encourage you to try to think about the answers first and formulate how you would formulate them, before you cross-check and complete them by looking up your notes or elsewhere. This is also similar to how we approach scientific writing about theoretical topics, for example for the introduction of a report or scientific paper. First we note down down our thoughts to include what we understand is important and to draft a sketch on a topic, then we reflect our draft by revising the literature, and then we use both to formulate our statements more precise. \n",
    "\n",
    "Grading criteria: \n",
    "- Relevancy of your statements (2 points, depending on question)\n",
    "- Precision of your statements (1 point)\n",
    "- Conciseness of your answer (1 point)\n"
   ]
  },
  {
   "cell_type": "markdown",
   "metadata": {},
   "source": [
    "---\n",
    "#### Question A.1: Explain the difference between a class and a function in Python\n",
    "(4 points)\n",
    "\n"
   ]
  },
  {
   "cell_type": "markdown",
   "metadata": {},
   "source": [
    "A class is an object oriented approach that involves the creation of an instance, which possess attributes and methods. A class may possess several methods, equivalent to having several functions. \n",
    "<br>A function is different because it receives inputs and produces outputs, and usually performs a unique set of calculations. "
   ]
  },
  {
   "cell_type": "markdown",
   "metadata": {},
   "source": [
    "---\n",
    "#### Question A.3: Explain the difference between a class object and an instance object in Python.\n",
    "\n",
    "Can one exist without the other?\n",
    "Add code example for how to create a class and how to create an instance.\n",
    "\n",
    "(4 points)\n"
   ]
  },
  {
   "cell_type": "markdown",
   "metadata": {},
   "source": [
    "An instance object is an initiation of a class object. Therefore, and instance object cannot exist without a class object, but the reverse is not true. \n",
    "\n",
    "```\n",
    "class Example (object):\n",
    "    def __init__(self, input):\n",
    "        self.input = input\n",
    "    \n",
    "    def method (self):\n",
    "        print ('This is the value of the first input:', self.input)\n",
    "        \n",
    "instance = Example('Hi')\n",
    "instance.method()  \n",
    "```\n",
    "\n",
    " From the above Example() is a class object, and instance is an instance object of the Example() class."
   ]
  },
  {
   "cell_type": "code",
   "execution_count": null,
   "metadata": {},
   "outputs": [],
   "source": [
    "# code example \n",
    "class Example (object):\n",
    "    def __init__(self, input):\n",
    "        self.input = input\n",
    "    \n",
    "    def method (self):\n",
    "        print ('This is the value of the first input:', self.input)\n",
    "        \n",
    "instance = Example('Hi')\n",
    "instance.method()"
   ]
  },
  {
   "cell_type": "markdown",
   "metadata": {},
   "source": [
    "---\n",
    "#### Question A.3: Explain the difference between the matrix product and the hadamard product when combining two numpy arrays. \n",
    "\n",
    "Provide code example for applying both to the example matrices x and y below. Also, name example cases, for which each of them are applied!\n",
    "\n",
    "(4 points)\n",
    "\n"
   ]
  },
  {
   "cell_type": "markdown",
   "metadata": {},
   "source": [
    "Matrix product is natrix multiplicatin as determined by linear algebra. This method requires that the column in the first matrix and the rows in the second have the same dimension. \n",
    "<br>The Hadamard product is an element by element multiplication of  matrix componenets in corresponding positions so long as the dimensions of both matrices are the same. "
   ]
  },
  {
   "cell_type": "code",
   "execution_count": null,
   "metadata": {},
   "outputs": [],
   "source": [
    "import numpy as np\n",
    "x = np.array([[1,1,1],[1,1,1],[1,1,1]])\n",
    "y = np.array([[2,2,2],[2,2,2],[2,2,2]])"
   ]
  },
  {
   "cell_type": "code",
   "execution_count": null,
   "metadata": {},
   "outputs": [],
   "source": [
    "# code example \n",
    "Had = x*y\n",
    "MP = x@y\n",
    "print ('Hadamard product:')\n",
    "print(Had)\n",
    "\n",
    "print ('\\nMatrix product:')\n",
    "print(MP)"
   ]
  },
  {
   "cell_type": "markdown",
   "metadata": {},
   "source": [
    "---\n",
    "#### Question A.4: Which machine learning method(s) would you use to automatically discriminate between sounds of birds from sounds of whizzles? Explain your answer.\n",
    "\n",
    "(4 points)\n"
   ]
  },
  {
   "cell_type": "markdown",
   "metadata": {},
   "source": [
    "Supeervised machine learning with a classification approach would be ideal. Since the data is labeled, and we have an idea of our desired output, we can use specified parameters to produce discrete outputs (bird vs whistle). "
   ]
  },
  {
   "cell_type": "markdown",
   "metadata": {
    "tags": []
   },
   "source": [
    "---\n",
    "---\n",
    "# PART B: Practical Knowledge\n",
    "\n",
    "(40 points + 10 extra credit)\n",
    "\n",
    "The tasks of this part are very similar to previous exercises and intent to allow you to get some routine experience with downloading and handling large science data and analyzing them for specific regions."
   ]
  },
  {
   "cell_type": "markdown",
   "metadata": {},
   "source": [
    "---\n",
    "### B.1: Getting data via OpenDAP Servers\n",
    "\n",
    "(10 points)\n",
    "\n",
    "At the following link you can retrieve information about groundwater and soil moisture conditions over the US from a data assimilation of remotely sensed GRACE data into a hydrological modle CLSM.\n",
    "\n",
    "https://disc.gsfc.nasa.gov/datasets/GRACEDADM_CLSM0125US_7D_4.0/summary?keywords=GRACE%20TWS\n",
    "\n",
    "Investigate also the readme file of the dataset (available at the same link, under the Documentation tab) and answer the following questions in the markdown cell below:\n",
    "\n",
    "- What is the content of the variable `gws_inst`\n",
    "- What is the unit of the variable `gws_inst`\n",
    "- What is the basic purpose of the dataset?\n",
    "- What is the meaning of low or high `gws_inst` values?\n",
    "\n",
    "Then, via OpenDAP, retrieve data over mid-eastern USA (south of 40 degree lat, north of 33 degree lat, and east of -85 degree) during any week in the available time series but only for the variable `gws_inst`, its coordinates and its time variable. Add your code in the code cell below."
   ]
  },
  {
   "cell_type": "markdown",
   "metadata": {},
   "source": [
    "### Answer\n",
    "The variable ```gws_inst``` contains data on Groundwater Percentile as a drought indicator. \n",
    "The variable ```gws_inst``` has a unit of %. \n",
    "The purpose of the dataset is to provide groundwater and soil moisture drought indicators for North America. \n",
    "Low ```gws_inst``` values imply low groundwater content, and increased probability of a drought. The opposite is true for higher values. "
   ]
  },
  {
   "cell_type": "code",
   "execution_count": null,
   "metadata": {},
   "outputs": [],
   "source": [
    "from pydap.client import open_url\n",
    "from pydap.cas.urs import setup_session\n",
    "import numpy as np \n",
    "import matplotlib.pyplot as plt\n",
    "from shapely.geometry import Polygon, Point"
   ]
  },
  {
   "cell_type": "code",
   "execution_count": null,
   "metadata": {},
   "outputs": [],
   "source": [
    "# still receiving an \"expired SSL certificate error\"\n",
    "# code in this cell is to bypass that error\n",
    "import ssl\n",
    "ssl._create_default_https_context = ssl._create_unverified_context"
   ]
  },
  {
   "cell_type": "code",
   "execution_count": null,
   "metadata": {
    "tags": []
   },
   "outputs": [],
   "source": [
    "# accessing the GES DISC data using a url for Jan 6th and including all coordinates and gw_inst data\n",
    "url = 'https://hydro1.gesdisc.eosdis.nasa.gov/opendap/hyrax/GRACEDA/GRACEDADM_CLSM0125US_7D.4.0/2020/GRACEDADM_CLSM0125US_7D.A20200106.040.nc4?lat[0:1:223],lon[0:1:463],time[0:1:0],gws_inst[0:1:0][0:1:223][0:1:463]'\n",
    "\n",
    "# creating a login session and assinging the data to the \"data\" variable \n",
    "username = 'fadams'\n",
    "password = 'Herewego007'\n",
    "session = setup_session (username, password, check_url=url)\n",
    "data = open_url (url, session = session)"
   ]
  },
  {
   "cell_type": "code",
   "execution_count": null,
   "metadata": {},
   "outputs": [],
   "source": [
    "# assigning all the data arrays to relevant variable names\n",
    "lat = data.lat[:].data\n",
    "lon = data.lon[:].data\n",
    "time = data.time[:].data\n",
    "gw = data.gws_inst.array[:].data\n",
    "lonGrid, latGrid = np.meshgrid(lon,lat)"
   ]
  },
  {
   "cell_type": "code",
   "execution_count": null,
   "metadata": {},
   "outputs": [],
   "source": [
    "data.lat[:].data"
   ]
  },
  {
   "cell_type": "code",
   "execution_count": null,
   "metadata": {},
   "outputs": [],
   "source": [
    "gw.shape\n"
   ]
  },
  {
   "cell_type": "code",
   "execution_count": null,
   "metadata": {},
   "outputs": [],
   "source": [
    "# This cell calculates the new bounds based on the given conditions\n",
    "# mid-eastern US bounds\n",
    "minLat = 33\n",
    "maxLat = 40\n",
    "minLon = -85\n",
    "# maxLon = -67\n",
    "\n",
    "# indexed boundaries \n",
    "minLatBnd = np.argmin(np.abs(lat-minLat))\n",
    "maxLatBnd = np.argmin(np.abs(lat-maxLat))\n",
    "minLonBnd = np.argmin(np.abs(lon-minLon))\n",
    "# maxLonBnd = np.argmin(np.abs(lon-maxLon))\n",
    "\n",
    "# grid values for the new boundary conditions\n",
    "latGridBnd = latGrid [minLatBnd:maxLatBnd, minLonBnd:]\n",
    "lonGridBnd = lonGrid  [minLatBnd:maxLatBnd, minLonBnd:]\n",
    "\n",
    "# new boundaries for the 1D coordinates \n",
    "latBnd = lat [minLatBnd:maxLatBnd]\n",
    "lonBnd = lon [minLonBnd:]\n",
    "\n",
    "# groundwater data within the specificed boundary conditions\n",
    "gwBnd = gw [:, minLatBnd:maxLatBnd, minLonBnd:]\n"
   ]
  },
  {
   "cell_type": "code",
   "execution_count": null,
   "metadata": {},
   "outputs": [],
   "source": [
    "minLonBnd"
   ]
  },
  {
   "cell_type": "code",
   "execution_count": null,
   "metadata": {},
   "outputs": [],
   "source": [
    "plt.pcolormesh (lonGridBnd, latGridBnd, gwBnd[0])"
   ]
  },
  {
   "cell_type": "markdown",
   "metadata": {},
   "source": [
    "---\n",
    "### B.2: Selecting data within Virginia and North Carolina\n",
    "\n",
    "(10 points)\n",
    "\n",
    "For the dataset above, generate two data masks that will allow you to extract only those grid cells that are located inside the state of Virginia and North Carolina. The boundaries for both states are given in the files `boundary_VA.csv` and `boundary_NC.csv`. Then plot the dataset and the boundary for the month you chose above. Describe the results (values and their spatial variablity). We will use the mask in the next step."
   ]
  },
  {
   "cell_type": "code",
   "execution_count": null,
   "metadata": {},
   "outputs": [],
   "source": [
    "\n",
    "VA_file = np.genfromtxt('boundary_VA.csv', delimiter = ',', skip_header=1)\n",
    "NC_file = np.genfromtxt('boundary_NC.csv', delimiter = ',', skip_header=1)\n",
    "\n",
    "VA_tupleList = [tuple(i) for i in VA_file]\n",
    "NC_tupleList = [tuple(i) for i in NC_file]\n",
    "\n",
    "VA_poly = Polygon (VA_tupleList)\n",
    "NC_poly = Polygon (NC_tupleList)\n",
    "\n",
    "VA_mask = np.zeros (gwBnd.shape[1:])\n",
    "NC_mask = np.zeros (gwBnd.shape[1:])\n",
    "# combineMask = np.zeros (gwBnd.shape)\n",
    "\n",
    "lenLat = len (latBnd)\n",
    "lenLon = len (lonBnd)\n",
    "\n",
    "for i in range (lenLat):\n",
    "    for j in range (lenLon):\n",
    "        \n",
    "        pt = Point (latBnd[i], lonBnd[j])\n",
    "        \n",
    "        VA_mask [i,j] = int (VA_poly.contains(pt))\n",
    "        NC_mask [i,j] = int (NC_poly.contains(pt))\n",
    "        combineMask = VA_mask + NC_mask        \n",
    "\n",
    "\n",
    "# VA_mask.shape\n",
    "\n",
    "# NC_poly\n"
   ]
  },
  {
   "cell_type": "code",
   "execution_count": null,
   "metadata": {},
   "outputs": [],
   "source": [
    "plt.figure(figsize = (14,6))\n",
    "plt.pcolormesh (lonGridBnd, latGridBnd, gwBnd[0], cmap = 'nipy_spectral')\n",
    "plt.plot (VA_file[:,0], VA_file[:,1])\n",
    "plt.plot (NC_file[:,0], NC_file[:,1], 'g')"
   ]
  },
  {
   "cell_type": "markdown",
   "metadata": {},
   "source": [
    "ADD YOUR DESCRIPTION OF THE RESULTS HERE"
   ]
  },
  {
   "cell_type": "markdown",
   "metadata": {},
   "source": [
    "---\n",
    "### B.3: Analyzing time series for Virginia and North Carolina\n",
    "\n",
    "(20 points)\n",
    "\n",
    "Expand your retrieval of the GRACEDADM_CLSM0125US dataset to at least two successive years of your choice (you have to batch process the url-links).  You can either download the list of filenames from the NASA website or generate them automatically by updating the dates in the links.\n",
    "\n",
    "Estimate a time series for the region average of `gws_inst` for the state of Virginia and the state of North Carolina. Plot the time series, compare and discuss the results."
   ]
  },
  {
   "cell_type": "code",
   "execution_count": null,
   "metadata": {},
   "outputs": [],
   "source": [
    "file = open ('./subset_GRACEDADM.txt', 'r')\n",
    "filenames = file.readlines()\n",
    "file.close\n",
    "# print (filenames)\n",
    "filenames = [i.rstrip('\\n') for i in filenames]\n",
    "\n",
    "# removing first entry because it is a README file \n",
    "filenames = filenames[1:]\n",
    "filenames[0]\n",
    "# len(filenames)"
   ]
  },
  {
   "cell_type": "code",
   "execution_count": null,
   "metadata": {},
   "outputs": [],
   "source": [
    "from tqdm import tqdm"
   ]
  },
  {
   "cell_type": "code",
   "execution_count": 27,
   "metadata": {},
   "outputs": [
    {
     "name": "stderr",
     "output_type": "stream",
     "text": [
      "  2%|▏         | 2/104 [01:47<1:31:29, 53.82s/it]\n"
     ]
    },
    {
     "ename": "KeyboardInterrupt",
     "evalue": "",
     "output_type": "error",
     "traceback": [
      "\u001b[1;31m---------------------------------------------------------------------------\u001b[0m",
      "\u001b[1;31mKeyboardInterrupt\u001b[0m                         Traceback (most recent call last)",
      "\u001b[1;32m~\\AppData\\Local\\Temp/ipykernel_15712/4277893211.py\u001b[0m in \u001b[0;36m<module>\u001b[1;34m\u001b[0m\n\u001b[0;32m     23\u001b[0m         \u001b[1;31m# print(url)\u001b[0m\u001b[1;33m\u001b[0m\u001b[1;33m\u001b[0m\u001b[1;33m\u001b[0m\u001b[0m\n\u001b[0;32m     24\u001b[0m \u001b[1;33m\u001b[0m\u001b[0m\n\u001b[1;32m---> 25\u001b[1;33m         \u001b[0mdata\u001b[0m \u001b[1;33m=\u001b[0m  \u001b[0mopen_url\u001b[0m \u001b[1;33m(\u001b[0m\u001b[0murl\u001b[0m\u001b[1;33m)\u001b[0m\u001b[1;33m\u001b[0m\u001b[1;33m\u001b[0m\u001b[0m\n\u001b[0m\u001b[0;32m     26\u001b[0m \u001b[1;33m\u001b[0m\u001b[0m\n\u001b[0;32m     27\u001b[0m         \u001b[1;31m# dataset = open_url (url, session = session)\u001b[0m\u001b[1;33m\u001b[0m\u001b[1;33m\u001b[0m\u001b[1;33m\u001b[0m\u001b[0m\n",
      "\u001b[1;32m~\\anaconda3\\lib\\site-packages\\pydap\\client.py\u001b[0m in \u001b[0;36mopen_url\u001b[1;34m(url, application, session, output_grid, timeout)\u001b[0m\n\u001b[0;32m     64\u001b[0m     \u001b[0mnever\u001b[0m \u001b[0mretrieve\u001b[0m \u001b[0mcoordinate\u001b[0m \u001b[0maxes\u001b[0m\u001b[1;33m.\u001b[0m\u001b[1;33m\u001b[0m\u001b[1;33m\u001b[0m\u001b[0m\n\u001b[0;32m     65\u001b[0m     \"\"\"\n\u001b[1;32m---> 66\u001b[1;33m     dataset = DAPHandler(url, application, session, output_grid,\n\u001b[0m\u001b[0;32m     67\u001b[0m                          timeout).dataset\n\u001b[0;32m     68\u001b[0m \u001b[1;33m\u001b[0m\u001b[0m\n",
      "\u001b[1;32m~\\anaconda3\\lib\\site-packages\\pydap\\handlers\\dap.py\u001b[0m in \u001b[0;36m__init__\u001b[1;34m(self, url, application, session, output_grid, timeout)\u001b[0m\n\u001b[0;32m     51\u001b[0m \u001b[1;33m\u001b[0m\u001b[0m\n\u001b[0;32m     52\u001b[0m         \u001b[0mddsurl\u001b[0m \u001b[1;33m=\u001b[0m \u001b[0murlunsplit\u001b[0m\u001b[1;33m(\u001b[0m\u001b[1;33m(\u001b[0m\u001b[0mscheme\u001b[0m\u001b[1;33m,\u001b[0m \u001b[0mnetloc\u001b[0m\u001b[1;33m,\u001b[0m \u001b[0mpath\u001b[0m \u001b[1;33m+\u001b[0m \u001b[1;34m'.dds'\u001b[0m\u001b[1;33m,\u001b[0m \u001b[0mquery\u001b[0m\u001b[1;33m,\u001b[0m \u001b[0mfragment\u001b[0m\u001b[1;33m)\u001b[0m\u001b[1;33m)\u001b[0m\u001b[1;33m\u001b[0m\u001b[1;33m\u001b[0m\u001b[0m\n\u001b[1;32m---> 53\u001b[1;33m         \u001b[0mr\u001b[0m \u001b[1;33m=\u001b[0m \u001b[0mGET\u001b[0m\u001b[1;33m(\u001b[0m\u001b[0mddsurl\u001b[0m\u001b[1;33m,\u001b[0m \u001b[0mapplication\u001b[0m\u001b[1;33m,\u001b[0m \u001b[0msession\u001b[0m\u001b[1;33m,\u001b[0m \u001b[0mtimeout\u001b[0m\u001b[1;33m=\u001b[0m\u001b[0mtimeout\u001b[0m\u001b[1;33m)\u001b[0m\u001b[1;33m\u001b[0m\u001b[1;33m\u001b[0m\u001b[0m\n\u001b[0m\u001b[0;32m     54\u001b[0m         \u001b[0mraise_for_status\u001b[0m\u001b[1;33m(\u001b[0m\u001b[0mr\u001b[0m\u001b[1;33m)\u001b[0m\u001b[1;33m\u001b[0m\u001b[1;33m\u001b[0m\u001b[0m\n\u001b[0;32m     55\u001b[0m         \u001b[1;32mif\u001b[0m \u001b[1;32mnot\u001b[0m \u001b[0mr\u001b[0m\u001b[1;33m.\u001b[0m\u001b[0mcharset\u001b[0m\u001b[1;33m:\u001b[0m\u001b[1;33m\u001b[0m\u001b[1;33m\u001b[0m\u001b[0m\n",
      "\u001b[1;32m~\\anaconda3\\lib\\site-packages\\pydap\\net.py\u001b[0m in \u001b[0;36mGET\u001b[1;34m(url, application, session, timeout)\u001b[0m\n\u001b[0;32m     24\u001b[0m         \u001b[0murl\u001b[0m \u001b[1;33m=\u001b[0m \u001b[0murlunsplit\u001b[0m\u001b[1;33m(\u001b[0m\u001b[1;33m(\u001b[0m\u001b[1;34m''\u001b[0m\u001b[1;33m,\u001b[0m \u001b[1;34m''\u001b[0m\u001b[1;33m,\u001b[0m \u001b[0mpath\u001b[0m\u001b[1;33m,\u001b[0m \u001b[0mquery\u001b[0m\u001b[1;33m,\u001b[0m \u001b[0mfragment\u001b[0m\u001b[1;33m)\u001b[0m\u001b[1;33m)\u001b[0m\u001b[1;33m\u001b[0m\u001b[1;33m\u001b[0m\u001b[0m\n\u001b[0;32m     25\u001b[0m \u001b[1;33m\u001b[0m\u001b[0m\n\u001b[1;32m---> 26\u001b[1;33m     response = follow_redirect(url, application=application, session=session,\n\u001b[0m\u001b[0;32m     27\u001b[0m                                timeout=timeout)\n\u001b[0;32m     28\u001b[0m     \u001b[1;31m# Decode request response (i.e. gzip)\u001b[0m\u001b[1;33m\u001b[0m\u001b[1;33m\u001b[0m\u001b[1;33m\u001b[0m\u001b[0m\n",
      "\u001b[1;32m~\\anaconda3\\lib\\site-packages\\pydap\\net.py\u001b[0m in \u001b[0;36mfollow_redirect\u001b[1;34m(url, application, session, timeout)\u001b[0m\n\u001b[0;32m     52\u001b[0m \u001b[1;33m\u001b[0m\u001b[0m\n\u001b[0;32m     53\u001b[0m     \u001b[0mreq\u001b[0m \u001b[1;33m=\u001b[0m \u001b[0mcreate_request\u001b[0m\u001b[1;33m(\u001b[0m\u001b[0murl\u001b[0m\u001b[1;33m,\u001b[0m \u001b[0msession\u001b[0m\u001b[1;33m=\u001b[0m\u001b[0msession\u001b[0m\u001b[1;33m,\u001b[0m \u001b[0mtimeout\u001b[0m\u001b[1;33m=\u001b[0m\u001b[0mtimeout\u001b[0m\u001b[1;33m)\u001b[0m\u001b[1;33m\u001b[0m\u001b[1;33m\u001b[0m\u001b[0m\n\u001b[1;32m---> 54\u001b[1;33m     \u001b[1;32mreturn\u001b[0m \u001b[0mreq\u001b[0m\u001b[1;33m.\u001b[0m\u001b[0mget_response\u001b[0m\u001b[1;33m(\u001b[0m\u001b[0mapplication\u001b[0m\u001b[1;33m)\u001b[0m\u001b[1;33m\u001b[0m\u001b[1;33m\u001b[0m\u001b[0m\n\u001b[0m\u001b[0;32m     55\u001b[0m \u001b[1;33m\u001b[0m\u001b[0m\n\u001b[0;32m     56\u001b[0m \u001b[1;33m\u001b[0m\u001b[0m\n",
      "\u001b[1;32m~\\anaconda3\\lib\\site-packages\\webob\\request.py\u001b[0m in \u001b[0;36msend\u001b[1;34m(self, application, catch_exc_info)\u001b[0m\n\u001b[0;32m   1311\u001b[0m             \u001b[1;32mdel\u001b[0m \u001b[0mexc_info\u001b[0m\u001b[1;33m\u001b[0m\u001b[1;33m\u001b[0m\u001b[0m\n\u001b[0;32m   1312\u001b[0m         \u001b[1;32melse\u001b[0m\u001b[1;33m:\u001b[0m\u001b[1;33m\u001b[0m\u001b[1;33m\u001b[0m\u001b[0m\n\u001b[1;32m-> 1313\u001b[1;33m             status, headers, app_iter = self.call_application(\n\u001b[0m\u001b[0;32m   1314\u001b[0m                 application, catch_exc_info=False)\n\u001b[0;32m   1315\u001b[0m         return self.ResponseClass(\n",
      "\u001b[1;32m~\\anaconda3\\lib\\site-packages\\webob\\request.py\u001b[0m in \u001b[0;36mcall_application\u001b[1;34m(self, application, catch_exc_info)\u001b[0m\n\u001b[0;32m   1276\u001b[0m             \u001b[0mcaptured\u001b[0m\u001b[1;33m[\u001b[0m\u001b[1;33m:\u001b[0m\u001b[1;33m]\u001b[0m \u001b[1;33m=\u001b[0m \u001b[1;33m[\u001b[0m\u001b[0mstatus\u001b[0m\u001b[1;33m,\u001b[0m \u001b[0mheaders\u001b[0m\u001b[1;33m,\u001b[0m \u001b[0mexc_info\u001b[0m\u001b[1;33m]\u001b[0m\u001b[1;33m\u001b[0m\u001b[1;33m\u001b[0m\u001b[0m\n\u001b[0;32m   1277\u001b[0m             \u001b[1;32mreturn\u001b[0m \u001b[0moutput\u001b[0m\u001b[1;33m.\u001b[0m\u001b[0mappend\u001b[0m\u001b[1;33m\u001b[0m\u001b[1;33m\u001b[0m\u001b[0m\n\u001b[1;32m-> 1278\u001b[1;33m         \u001b[0mapp_iter\u001b[0m \u001b[1;33m=\u001b[0m \u001b[0mapplication\u001b[0m\u001b[1;33m(\u001b[0m\u001b[0mself\u001b[0m\u001b[1;33m.\u001b[0m\u001b[0menviron\u001b[0m\u001b[1;33m,\u001b[0m \u001b[0mstart_response\u001b[0m\u001b[1;33m)\u001b[0m\u001b[1;33m\u001b[0m\u001b[1;33m\u001b[0m\u001b[0m\n\u001b[0m\u001b[0;32m   1279\u001b[0m         \u001b[1;32mif\u001b[0m \u001b[0moutput\u001b[0m \u001b[1;32mor\u001b[0m \u001b[1;32mnot\u001b[0m \u001b[0mcaptured\u001b[0m\u001b[1;33m:\u001b[0m\u001b[1;33m\u001b[0m\u001b[1;33m\u001b[0m\u001b[0m\n\u001b[0;32m   1280\u001b[0m             \u001b[1;32mtry\u001b[0m\u001b[1;33m:\u001b[0m\u001b[1;33m\u001b[0m\u001b[1;33m\u001b[0m\u001b[0m\n",
      "\u001b[1;32m~\\anaconda3\\lib\\site-packages\\webob\\client.py\u001b[0m in \u001b[0;36m__call__\u001b[1;34m(self, environ, start_response)\u001b[0m\n\u001b[0;32m     90\u001b[0m             \u001b[0mpath\u001b[0m \u001b[1;33m=\u001b[0m \u001b[1;34m\"/\"\u001b[0m \u001b[1;33m+\u001b[0m \u001b[0mpath\u001b[0m\u001b[1;33m\u001b[0m\u001b[1;33m\u001b[0m\u001b[0m\n\u001b[0;32m     91\u001b[0m         \u001b[1;32mtry\u001b[0m\u001b[1;33m:\u001b[0m\u001b[1;33m\u001b[0m\u001b[1;33m\u001b[0m\u001b[0m\n\u001b[1;32m---> 92\u001b[1;33m             conn.request(environ['REQUEST_METHOD'],\n\u001b[0m\u001b[0;32m     93\u001b[0m                          path, body, headers)\n\u001b[0;32m     94\u001b[0m             \u001b[0mres\u001b[0m \u001b[1;33m=\u001b[0m \u001b[0mconn\u001b[0m\u001b[1;33m.\u001b[0m\u001b[0mgetresponse\u001b[0m\u001b[1;33m(\u001b[0m\u001b[1;33m)\u001b[0m\u001b[1;33m\u001b[0m\u001b[1;33m\u001b[0m\u001b[0m\n",
      "\u001b[1;32m~\\anaconda3\\lib\\http\\client.py\u001b[0m in \u001b[0;36mrequest\u001b[1;34m(self, method, url, body, headers, encode_chunked)\u001b[0m\n\u001b[0;32m   1254\u001b[0m                 encode_chunked=False):\n\u001b[0;32m   1255\u001b[0m         \u001b[1;34m\"\"\"Send a complete request to the server.\"\"\"\u001b[0m\u001b[1;33m\u001b[0m\u001b[1;33m\u001b[0m\u001b[0m\n\u001b[1;32m-> 1256\u001b[1;33m         \u001b[0mself\u001b[0m\u001b[1;33m.\u001b[0m\u001b[0m_send_request\u001b[0m\u001b[1;33m(\u001b[0m\u001b[0mmethod\u001b[0m\u001b[1;33m,\u001b[0m \u001b[0murl\u001b[0m\u001b[1;33m,\u001b[0m \u001b[0mbody\u001b[0m\u001b[1;33m,\u001b[0m \u001b[0mheaders\u001b[0m\u001b[1;33m,\u001b[0m \u001b[0mencode_chunked\u001b[0m\u001b[1;33m)\u001b[0m\u001b[1;33m\u001b[0m\u001b[1;33m\u001b[0m\u001b[0m\n\u001b[0m\u001b[0;32m   1257\u001b[0m \u001b[1;33m\u001b[0m\u001b[0m\n\u001b[0;32m   1258\u001b[0m     \u001b[1;32mdef\u001b[0m \u001b[0m_send_request\u001b[0m\u001b[1;33m(\u001b[0m\u001b[0mself\u001b[0m\u001b[1;33m,\u001b[0m \u001b[0mmethod\u001b[0m\u001b[1;33m,\u001b[0m \u001b[0murl\u001b[0m\u001b[1;33m,\u001b[0m \u001b[0mbody\u001b[0m\u001b[1;33m,\u001b[0m \u001b[0mheaders\u001b[0m\u001b[1;33m,\u001b[0m \u001b[0mencode_chunked\u001b[0m\u001b[1;33m)\u001b[0m\u001b[1;33m:\u001b[0m\u001b[1;33m\u001b[0m\u001b[1;33m\u001b[0m\u001b[0m\n",
      "\u001b[1;32m~\\anaconda3\\lib\\http\\client.py\u001b[0m in \u001b[0;36m_send_request\u001b[1;34m(self, method, url, body, headers, encode_chunked)\u001b[0m\n\u001b[0;32m   1300\u001b[0m             \u001b[1;31m# default charset of iso-8859-1.\u001b[0m\u001b[1;33m\u001b[0m\u001b[1;33m\u001b[0m\u001b[1;33m\u001b[0m\u001b[0m\n\u001b[0;32m   1301\u001b[0m             \u001b[0mbody\u001b[0m \u001b[1;33m=\u001b[0m \u001b[0m_encode\u001b[0m\u001b[1;33m(\u001b[0m\u001b[0mbody\u001b[0m\u001b[1;33m,\u001b[0m \u001b[1;34m'body'\u001b[0m\u001b[1;33m)\u001b[0m\u001b[1;33m\u001b[0m\u001b[1;33m\u001b[0m\u001b[0m\n\u001b[1;32m-> 1302\u001b[1;33m         \u001b[0mself\u001b[0m\u001b[1;33m.\u001b[0m\u001b[0mendheaders\u001b[0m\u001b[1;33m(\u001b[0m\u001b[0mbody\u001b[0m\u001b[1;33m,\u001b[0m \u001b[0mencode_chunked\u001b[0m\u001b[1;33m=\u001b[0m\u001b[0mencode_chunked\u001b[0m\u001b[1;33m)\u001b[0m\u001b[1;33m\u001b[0m\u001b[1;33m\u001b[0m\u001b[0m\n\u001b[0m\u001b[0;32m   1303\u001b[0m \u001b[1;33m\u001b[0m\u001b[0m\n\u001b[0;32m   1304\u001b[0m     \u001b[1;32mdef\u001b[0m \u001b[0mgetresponse\u001b[0m\u001b[1;33m(\u001b[0m\u001b[0mself\u001b[0m\u001b[1;33m)\u001b[0m\u001b[1;33m:\u001b[0m\u001b[1;33m\u001b[0m\u001b[1;33m\u001b[0m\u001b[0m\n",
      "\u001b[1;32m~\\anaconda3\\lib\\http\\client.py\u001b[0m in \u001b[0;36mendheaders\u001b[1;34m(self, message_body, encode_chunked)\u001b[0m\n\u001b[0;32m   1249\u001b[0m         \u001b[1;32melse\u001b[0m\u001b[1;33m:\u001b[0m\u001b[1;33m\u001b[0m\u001b[1;33m\u001b[0m\u001b[0m\n\u001b[0;32m   1250\u001b[0m             \u001b[1;32mraise\u001b[0m \u001b[0mCannotSendHeader\u001b[0m\u001b[1;33m(\u001b[0m\u001b[1;33m)\u001b[0m\u001b[1;33m\u001b[0m\u001b[1;33m\u001b[0m\u001b[0m\n\u001b[1;32m-> 1251\u001b[1;33m         \u001b[0mself\u001b[0m\u001b[1;33m.\u001b[0m\u001b[0m_send_output\u001b[0m\u001b[1;33m(\u001b[0m\u001b[0mmessage_body\u001b[0m\u001b[1;33m,\u001b[0m \u001b[0mencode_chunked\u001b[0m\u001b[1;33m=\u001b[0m\u001b[0mencode_chunked\u001b[0m\u001b[1;33m)\u001b[0m\u001b[1;33m\u001b[0m\u001b[1;33m\u001b[0m\u001b[0m\n\u001b[0m\u001b[0;32m   1252\u001b[0m \u001b[1;33m\u001b[0m\u001b[0m\n\u001b[0;32m   1253\u001b[0m     def request(self, method, url, body=None, headers={}, *,\n",
      "\u001b[1;32m~\\anaconda3\\lib\\http\\client.py\u001b[0m in \u001b[0;36m_send_output\u001b[1;34m(self, message_body, encode_chunked)\u001b[0m\n\u001b[0;32m   1009\u001b[0m         \u001b[0mmsg\u001b[0m \u001b[1;33m=\u001b[0m \u001b[1;34mb\"\\r\\n\"\u001b[0m\u001b[1;33m.\u001b[0m\u001b[0mjoin\u001b[0m\u001b[1;33m(\u001b[0m\u001b[0mself\u001b[0m\u001b[1;33m.\u001b[0m\u001b[0m_buffer\u001b[0m\u001b[1;33m)\u001b[0m\u001b[1;33m\u001b[0m\u001b[1;33m\u001b[0m\u001b[0m\n\u001b[0;32m   1010\u001b[0m         \u001b[1;32mdel\u001b[0m \u001b[0mself\u001b[0m\u001b[1;33m.\u001b[0m\u001b[0m_buffer\u001b[0m\u001b[1;33m[\u001b[0m\u001b[1;33m:\u001b[0m\u001b[1;33m]\u001b[0m\u001b[1;33m\u001b[0m\u001b[1;33m\u001b[0m\u001b[0m\n\u001b[1;32m-> 1011\u001b[1;33m         \u001b[0mself\u001b[0m\u001b[1;33m.\u001b[0m\u001b[0msend\u001b[0m\u001b[1;33m(\u001b[0m\u001b[0mmsg\u001b[0m\u001b[1;33m)\u001b[0m\u001b[1;33m\u001b[0m\u001b[1;33m\u001b[0m\u001b[0m\n\u001b[0m\u001b[0;32m   1012\u001b[0m \u001b[1;33m\u001b[0m\u001b[0m\n\u001b[0;32m   1013\u001b[0m         \u001b[1;32mif\u001b[0m \u001b[0mmessage_body\u001b[0m \u001b[1;32mis\u001b[0m \u001b[1;32mnot\u001b[0m \u001b[1;32mNone\u001b[0m\u001b[1;33m:\u001b[0m\u001b[1;33m\u001b[0m\u001b[1;33m\u001b[0m\u001b[0m\n",
      "\u001b[1;32m~\\anaconda3\\lib\\http\\client.py\u001b[0m in \u001b[0;36msend\u001b[1;34m(self, data)\u001b[0m\n\u001b[0;32m    949\u001b[0m         \u001b[1;32mif\u001b[0m \u001b[0mself\u001b[0m\u001b[1;33m.\u001b[0m\u001b[0msock\u001b[0m \u001b[1;32mis\u001b[0m \u001b[1;32mNone\u001b[0m\u001b[1;33m:\u001b[0m\u001b[1;33m\u001b[0m\u001b[1;33m\u001b[0m\u001b[0m\n\u001b[0;32m    950\u001b[0m             \u001b[1;32mif\u001b[0m \u001b[0mself\u001b[0m\u001b[1;33m.\u001b[0m\u001b[0mauto_open\u001b[0m\u001b[1;33m:\u001b[0m\u001b[1;33m\u001b[0m\u001b[1;33m\u001b[0m\u001b[0m\n\u001b[1;32m--> 951\u001b[1;33m                 \u001b[0mself\u001b[0m\u001b[1;33m.\u001b[0m\u001b[0mconnect\u001b[0m\u001b[1;33m(\u001b[0m\u001b[1;33m)\u001b[0m\u001b[1;33m\u001b[0m\u001b[1;33m\u001b[0m\u001b[0m\n\u001b[0m\u001b[0;32m    952\u001b[0m             \u001b[1;32melse\u001b[0m\u001b[1;33m:\u001b[0m\u001b[1;33m\u001b[0m\u001b[1;33m\u001b[0m\u001b[0m\n\u001b[0;32m    953\u001b[0m                 \u001b[1;32mraise\u001b[0m \u001b[0mNotConnected\u001b[0m\u001b[1;33m(\u001b[0m\u001b[1;33m)\u001b[0m\u001b[1;33m\u001b[0m\u001b[1;33m\u001b[0m\u001b[0m\n",
      "\u001b[1;32m~\\anaconda3\\lib\\http\\client.py\u001b[0m in \u001b[0;36mconnect\u001b[1;34m(self)\u001b[0m\n\u001b[0;32m   1423\u001b[0m                 \u001b[0mserver_hostname\u001b[0m \u001b[1;33m=\u001b[0m \u001b[0mself\u001b[0m\u001b[1;33m.\u001b[0m\u001b[0mhost\u001b[0m\u001b[1;33m\u001b[0m\u001b[1;33m\u001b[0m\u001b[0m\n\u001b[0;32m   1424\u001b[0m \u001b[1;33m\u001b[0m\u001b[0m\n\u001b[1;32m-> 1425\u001b[1;33m             self.sock = self._context.wrap_socket(self.sock,\n\u001b[0m\u001b[0;32m   1426\u001b[0m                                                   server_hostname=server_hostname)\n\u001b[0;32m   1427\u001b[0m \u001b[1;33m\u001b[0m\u001b[0m\n",
      "\u001b[1;32m~\\anaconda3\\lib\\ssl.py\u001b[0m in \u001b[0;36mwrap_socket\u001b[1;34m(self, sock, server_side, do_handshake_on_connect, suppress_ragged_eofs, server_hostname, session)\u001b[0m\n\u001b[0;32m    498\u001b[0m         \u001b[1;31m# SSLSocket class handles server_hostname encoding before it calls\u001b[0m\u001b[1;33m\u001b[0m\u001b[1;33m\u001b[0m\u001b[1;33m\u001b[0m\u001b[0m\n\u001b[0;32m    499\u001b[0m         \u001b[1;31m# ctx._wrap_socket()\u001b[0m\u001b[1;33m\u001b[0m\u001b[1;33m\u001b[0m\u001b[1;33m\u001b[0m\u001b[0m\n\u001b[1;32m--> 500\u001b[1;33m         return self.sslsocket_class._create(\n\u001b[0m\u001b[0;32m    501\u001b[0m             \u001b[0msock\u001b[0m\u001b[1;33m=\u001b[0m\u001b[0msock\u001b[0m\u001b[1;33m,\u001b[0m\u001b[1;33m\u001b[0m\u001b[1;33m\u001b[0m\u001b[0m\n\u001b[0;32m    502\u001b[0m             \u001b[0mserver_side\u001b[0m\u001b[1;33m=\u001b[0m\u001b[0mserver_side\u001b[0m\u001b[1;33m,\u001b[0m\u001b[1;33m\u001b[0m\u001b[1;33m\u001b[0m\u001b[0m\n",
      "\u001b[1;32m~\\anaconda3\\lib\\ssl.py\u001b[0m in \u001b[0;36m_create\u001b[1;34m(cls, sock, server_side, do_handshake_on_connect, suppress_ragged_eofs, server_hostname, context, session)\u001b[0m\n\u001b[0;32m   1038\u001b[0m                         \u001b[1;31m# non-blocking\u001b[0m\u001b[1;33m\u001b[0m\u001b[1;33m\u001b[0m\u001b[1;33m\u001b[0m\u001b[0m\n\u001b[0;32m   1039\u001b[0m                         \u001b[1;32mraise\u001b[0m \u001b[0mValueError\u001b[0m\u001b[1;33m(\u001b[0m\u001b[1;34m\"do_handshake_on_connect should not be specified for non-blocking sockets\"\u001b[0m\u001b[1;33m)\u001b[0m\u001b[1;33m\u001b[0m\u001b[1;33m\u001b[0m\u001b[0m\n\u001b[1;32m-> 1040\u001b[1;33m                     \u001b[0mself\u001b[0m\u001b[1;33m.\u001b[0m\u001b[0mdo_handshake\u001b[0m\u001b[1;33m(\u001b[0m\u001b[1;33m)\u001b[0m\u001b[1;33m\u001b[0m\u001b[1;33m\u001b[0m\u001b[0m\n\u001b[0m\u001b[0;32m   1041\u001b[0m             \u001b[1;32mexcept\u001b[0m \u001b[1;33m(\u001b[0m\u001b[0mOSError\u001b[0m\u001b[1;33m,\u001b[0m \u001b[0mValueError\u001b[0m\u001b[1;33m)\u001b[0m\u001b[1;33m:\u001b[0m\u001b[1;33m\u001b[0m\u001b[1;33m\u001b[0m\u001b[0m\n\u001b[0;32m   1042\u001b[0m                 \u001b[0mself\u001b[0m\u001b[1;33m.\u001b[0m\u001b[0mclose\u001b[0m\u001b[1;33m(\u001b[0m\u001b[1;33m)\u001b[0m\u001b[1;33m\u001b[0m\u001b[1;33m\u001b[0m\u001b[0m\n",
      "\u001b[1;32m~\\anaconda3\\lib\\ssl.py\u001b[0m in \u001b[0;36mdo_handshake\u001b[1;34m(self, block)\u001b[0m\n\u001b[0;32m   1307\u001b[0m             \u001b[1;32mif\u001b[0m \u001b[0mtimeout\u001b[0m \u001b[1;33m==\u001b[0m \u001b[1;36m0.0\u001b[0m \u001b[1;32mand\u001b[0m \u001b[0mblock\u001b[0m\u001b[1;33m:\u001b[0m\u001b[1;33m\u001b[0m\u001b[1;33m\u001b[0m\u001b[0m\n\u001b[0;32m   1308\u001b[0m                 \u001b[0mself\u001b[0m\u001b[1;33m.\u001b[0m\u001b[0msettimeout\u001b[0m\u001b[1;33m(\u001b[0m\u001b[1;32mNone\u001b[0m\u001b[1;33m)\u001b[0m\u001b[1;33m\u001b[0m\u001b[1;33m\u001b[0m\u001b[0m\n\u001b[1;32m-> 1309\u001b[1;33m             \u001b[0mself\u001b[0m\u001b[1;33m.\u001b[0m\u001b[0m_sslobj\u001b[0m\u001b[1;33m.\u001b[0m\u001b[0mdo_handshake\u001b[0m\u001b[1;33m(\u001b[0m\u001b[1;33m)\u001b[0m\u001b[1;33m\u001b[0m\u001b[1;33m\u001b[0m\u001b[0m\n\u001b[0m\u001b[0;32m   1310\u001b[0m         \u001b[1;32mfinally\u001b[0m\u001b[1;33m:\u001b[0m\u001b[1;33m\u001b[0m\u001b[1;33m\u001b[0m\u001b[0m\n\u001b[0;32m   1311\u001b[0m             \u001b[0mself\u001b[0m\u001b[1;33m.\u001b[0m\u001b[0msettimeout\u001b[0m\u001b[1;33m(\u001b[0m\u001b[0mtimeout\u001b[0m\u001b[1;33m)\u001b[0m\u001b[1;33m\u001b[0m\u001b[1;33m\u001b[0m\u001b[0m\n",
      "\u001b[1;31mKeyboardInterrupt\u001b[0m: "
     ]
    }
   ],
   "source": [
    "\n",
    "### ADD YOUR CODE HERE\n",
    "# obtaining data for 2 consecutive years, from 2019 to 2020 \n",
    "\n",
    "# using an opendap URL as a reference \n",
    "urlRef = 'https://hydro1.gesdisc.eosdis.nasa.gov/opendap/hyrax/GRACEDA/GRACEDADM_CLSM0125US_7D.4.0/2020/GRACEDADM_CLSM0125US_7D.A20200106.040.nc4'\n",
    "\n",
    "# finding index of the part of the url where the differeb\n",
    "url_idx = urlRef.index('hyrax')\n",
    "\n",
    "# customisations to the end of the url for variables including coordinates, time and groundwater percentile \n",
    "url_end = '?lat[0:1:223],lon[0:1:463],time[0:1:0],gws_inst[0:1:0][0:1:223][0:1:463]'\n",
    "\n",
    "data = {}\n",
    "gws = {}\n",
    "N = len(filenames)\n",
    "\n",
    "for i in tqdm(filenames):\n",
    "    for j in range(N):\n",
    "        \n",
    "        fname = i[(url_idx-3):]\n",
    "    \n",
    "        url = 'https://hydro1.gesdisc.eosdis.nasa.gov/opendap/hyrax/' + fname + url_end\n",
    "        # print(url)\n",
    "        \n",
    "        data =  open_url (url)\n",
    "\n",
    "        # dataset = open_url (url, session = session)\n",
    "        # gws[str(j)] = dataset.gws_inst.array[:].data\n",
    "\n",
    "        \n",
    "\n",
    "    \n",
    "# filenames.index(filenames[0])\n",
    "# # data[]\n",
    "# filenames.index(filenames[0])\n",
    "filenames[0][(url_idx-3):]"
   ]
  },
  {
   "cell_type": "code",
   "execution_count": null,
   "metadata": {},
   "outputs": [],
   "source": [
    "data"
   ]
  },
  {
   "cell_type": "markdown",
   "metadata": {},
   "source": [
    "\n",
    "ADD YOUR DISCUSSION OF THE RESULTS HERE\n"
   ]
  },
  {
   "cell_type": "markdown",
   "metadata": {},
   "source": [
    "---\n",
    "### B.4: Explorative Exercise: Module Cartopy (extra credit)\n",
    "\n",
    "(10 extra credit points)\n",
    "\n",
    "Expand your Python knowledge and investigate the module `cartopy`. \n",
    "\n",
    "Study their documentation pages here: https://scitools.org.uk/cartopy/docs/v0.15/matplotlib/intro.html# and here https://scitools.org.uk/cartopy/docs/v0.15/matplotlib/advanced_plotting.html?highlight=pcolormesh\n",
    "to find out how to plot your map(s) from task B.2 in any preferred projection and adding coastlines to the plot.\n",
    "\n",
    "To install the package on your computer/webapp, if you haven't yet, use:\n",
    "\n",
    "```python\n",
    "conda install cartopy\n",
    "```\n"
   ]
  },
  {
   "cell_type": "code",
   "execution_count": null,
   "metadata": {},
   "outputs": [],
   "source": [
    "\n",
    "### ADD YOUR CODE HERE\n"
   ]
  },
  {
   "cell_type": "code",
   "execution_count": null,
   "metadata": {},
   "outputs": [],
   "source": []
  }
 ],
 "metadata": {
  "kernelspec": {
   "display_name": "Python 3 (ipykernel)",
   "language": "python",
   "name": "python3"
  },
  "language_info": {
   "codemirror_mode": {
    "name": "ipython",
    "version": 3
   },
   "file_extension": ".py",
   "mimetype": "text/x-python",
   "name": "python",
   "nbconvert_exporter": "python",
   "pygments_lexer": "ipython3",
   "version": "3.8.12"
  }
 },
 "nbformat": 4,
 "nbformat_minor": 4
}
