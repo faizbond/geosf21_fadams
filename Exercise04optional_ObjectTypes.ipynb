{
 "cells": [
  {
   "cell_type": "markdown",
   "id": "bb83d060",
   "metadata": {},
   "source": [
    "\"Geo Data Science with Python\" \n",
    "### Notebook Exercise 4 optional\n",
    "\n",
    "\n",
    "\n",
    "# Object Types\n",
    "\n",
    "Please insert your own answer cells below the task descriptions, if necessary.\n",
    "\n",
    "---"
   ]
  },
  {
   "cell_type": "markdown",
   "id": "24f85b6e",
   "metadata": {},
   "source": [
    "## Part A: Python Objects (3 points)\n",
    "\n",
    "What does it mean if an object is mutable? What about immutable? Name at least two mutable and two immutable objects in Python. "
   ]
  },
  {
   "cell_type": "markdown",
   "id": "ab8e9585-f78b-4cc6-b119-987622b7fade",
   "metadata": {},
   "source": [
    "> If an object is mutable, its contents can be changed or mutated. Strings and tuples are immutable. Lists and sets are mutable. "
   ]
  },
  {
   "cell_type": "markdown",
   "id": "8fffd178",
   "metadata": {},
   "source": [
    "---\n",
    "## Part B: Temperature Conversion (2 points)\n",
    "(note: wait with completing this task after we discussed functions in classes)\n",
    "\n",
    "For this task, let's the code the algorithm of the temperature conversion, which you have had forumulated in pseudocode during the course module 1.\n",
    "\n",
    "Write a Python function that converts the input Fahrenheit degree into its Celsius degree equivalent, based on the following equation: \n",
    "\n",
    "$C=5/9 * (F-32)$\n",
    "\n",
    "For that translate the equation into code, and enter it to replace the commented line (`### YOUR CODE HERE`). Make sure to use the variable names `C` and `F` for the two temperature variables and keep the indent! \n",
    "\n"
   ]
  },
  {
   "cell_type": "code",
   "execution_count": 5,
   "id": "4a5f8bc0",
   "metadata": {},
   "outputs": [],
   "source": [
    "\"\"\" Enter the conversion equation as a function below \"\"\"\n",
    "\n",
    "def tempConvert (F):\n",
    "    return 5/9 * (F-32)\n"
   ]
  },
  {
   "cell_type": "markdown",
   "id": "4010efa0",
   "metadata": {},
   "source": [
    "In the next code cell, assign a variable `tempF` with any value for a Temperature in Degree-Fahrenheit. Then run the two cells further below to receive converted value to Degree-Celcius and test your code. You can try different values. If you are satisfied with the test, move on to the next task."
   ]
  },
  {
   "cell_type": "code",
   "execution_count": 6,
   "id": "e26fefb1",
   "metadata": {},
   "outputs": [],
   "source": [
    "\"\"\"Assign the variable 'tempF' with any value for a Temperature in Degree Fahrenheit.\"\"\"\n",
    "\n",
    "tempF = 98"
   ]
  },
  {
   "cell_type": "code",
   "execution_count": 7,
   "id": "05be75ec",
   "metadata": {},
   "outputs": [
    {
     "data": {
      "text/plain": [
       "36.66666666666667"
      ]
     },
     "execution_count": 7,
     "metadata": {},
     "output_type": "execute_result"
    }
   ],
   "source": [
    "\"\"\"Check that your code returns the converted Temperature. \"\"\"\n",
    "\n",
    "tempConvert(tempF)"
   ]
  },
  {
   "cell_type": "code",
   "execution_count": 8,
   "id": "7c620d92",
   "metadata": {},
   "outputs": [],
   "source": [
    "# Check that your assigns a number to tempF and that it returns a correctly converted Temperature.\n",
    "\n",
    "assert type(tempF) == float or int\n",
    "assert tempConvert(32) == 0\n",
    "assert tempConvert(50) == 10\n",
    "assert tempConvert(100) == 37.77777777777778\n"
   ]
  },
  {
   "cell_type": "markdown",
   "id": "004d6582",
   "metadata": {},
   "source": [
    "---\n",
    "## Part C:  Boolean Objects (2 Points)\n",
    "\n",
    "Assign the variable a, b and c with number or string values, so that all tests in the following cell return True."
   ]
  },
  {
   "cell_type": "code",
   "execution_count": 24,
   "id": "93dd2ae9",
   "metadata": {},
   "outputs": [],
   "source": [
    "\"\"\" Assign the variable a, b and c with number or string values,\n",
    "    so that all tests in the following cell return True \"\"\"\n",
    "\n",
    "a = 'spam'\n",
    "b = 0\n",
    "c = 0"
   ]
  },
  {
   "cell_type": "code",
   "execution_count": 25,
   "id": "9e769376-f217-4e78-bd21-8ee475e65828",
   "metadata": {},
   "outputs": [
    {
     "data": {
      "text/plain": [
       "True"
      ]
     },
     "execution_count": 25,
     "metadata": {},
     "output_type": "execute_result"
    }
   ],
   "source": [
    "bool('spam')"
   ]
  },
  {
   "cell_type": "code",
   "execution_count": 26,
   "id": "a380f877",
   "metadata": {},
   "outputs": [
    {
     "name": "stdout",
     "output_type": "stream",
     "text": [
      "True True True True\n"
     ]
    }
   ],
   "source": [
    "\"\"\"Check that your code returns only True test results\"\"\"\n",
    "\n",
    "Test1 = (type(c) == int)\n",
    "Test2 = not b and bool(a)\n",
    "Test3 = not(c) and a == 'spam'\n",
    "Test4 = (type(c) == type(b))\n",
    "\n",
    "print(Test1, Test2, Test3, Test4)"
   ]
  },
  {
   "cell_type": "code",
   "execution_count": 27,
   "id": "677244c8",
   "metadata": {},
   "outputs": [],
   "source": [
    "# Check that your code returns only True test results\n",
    "assert Test1 == True\n",
    "assert Test2 == True\n",
    "assert Test3 == True\n",
    "assert Test4 == True\n",
    "assert type(a) == int or float or str\n",
    "assert type(b) == int or float or str\n",
    "assert type(c) == int or float or str"
   ]
  },
  {
   "cell_type": "markdown",
   "id": "2bd7356b",
   "metadata": {},
   "source": [
    "---\n",
    "\n",
    "## Part D: Sequence operations with Strings and Lists (3 points)\n",
    "This tasks includes several string-list operations. You should process a string variable with the name `strIn` in the following way:\n",
    "\n",
    "Split the string variable `strIn` into a list of strings with a space delimiter. Use the method `split()`\n",
    "Then, using only list comprehensions, add % in front and at the end of every single word in the string list `strIn` (from previous task item). Assign the result to a new variable of the name `strListOut`.\n",
    "\n",
    "Add your code sequence in the following code block where it says YOUR CODE HERE. It will complete the following code block (function). You may code this in one or two steps. But, the variables for input (`strIn`) and output (`strListOut`) of your code sequence have to have the same names as stated in the task.\n",
    "\n",
    "Example: \n",
    "\n",
    "A string `\"Spring is Awesome in Blacksburg\"` would become a list like this: `['%Spring%','%is%', '%awesome%', '%in%', '%Blacksburg%']`\n"
   ]
  },
  {
   "cell_type": "code",
   "execution_count": 92,
   "id": "9081bb2b",
   "metadata": {},
   "outputs": [],
   "source": [
    "def stringManipulation(strIn): # leave this line unchanged\n",
    "    \n",
    "    \"\"\"Enter your answer below, do not change the indent!\"\"\"\n",
    "    strListOut = strIn.split(' ')\n",
    "    strListOut = ['%' + i + '%' for i in strListOut]\n",
    "    return(strListOut) # leave this line unchanged"
   ]
  },
  {
   "cell_type": "code",
   "execution_count": 93,
   "id": "13e3319e",
   "metadata": {},
   "outputs": [
    {
     "data": {
      "text/plain": [
       "['%Add%', '%any%', '%sentence%', '%here!%']"
      ]
     },
     "execution_count": 93,
     "metadata": {},
     "output_type": "execute_result"
    }
   ],
   "source": [
    "\"\"\"Assing any string to the variable stringExample, \n",
    "    then use the function stringManipulation to check\n",
    "    that your code correctly manipulated the input string.\"\"\"\n",
    "\n",
    "stringExample = \"Add any sentence here!\"\n",
    "stringManipulation(stringExample)\n",
    "### YOUR CODE HERE\n"
   ]
  },
  {
   "cell_type": "code",
   "execution_count": 94,
   "id": "cb7a4a3b",
   "metadata": {},
   "outputs": [],
   "source": [
    "#Check that your code correctly manipulates the input string.\n",
    "\n",
    "stringExample1 = \"Spring is Awesome in Blacksburg\"\n",
    "assert stringManipulation(stringExample1) == ['%Spring%', '%is%', '%Awesome%', '%in%', '%Blacksburg%']\n",
    "assert stringManipulation(stringExample1)[0][0] == '%'\n",
    "assert stringManipulation(stringExample1)[0][-1] == '%'\n",
    "assert type(stringManipulation(stringExample1)) == list\n"
   ]
  },
  {
   "cell_type": "markdown",
   "id": "07bbb102",
   "metadata": {},
   "source": [
    "---\n",
    "## Part E: List Comprehension with Number Lists\n",
    "\n",
    "### Task E.1 (3 points)\n",
    "\n",
    "This tasks includes writing list comprehensions and other operations:\n",
    "\n",
    "* Write a a single list comprehension to print all the numbers in the range 1-100 that are either divisible by 10 or 11. Assign the result to a list `outList`. Use the built-in function `range()`.\n",
    "\n",
    "\n",
    "Enter the code for these task items in the cell below. Separate the blocks of the tasks items with a commented line,  starting with `# `. Use exactly these variable names, put your code below, where it states `YOUR CODE HERE` and keep the indent as provided."
   ]
  },
  {
   "cell_type": "code",
   "execution_count": 100,
   "id": "b03fb070",
   "metadata": {},
   "outputs": [],
   "source": [
    "\"\"\"Write a list comprehension to find numbers divisible \n",
    "   by at least one of two given integer numbers. \"\"\"\n",
    "\n",
    "def divisionList(a,b): # leave this line unchanged\n",
    "    \n",
    "    \"\"\"Enter your answer below, do not change the indent!\"\"\"\n",
    "    outList = []      #creating an empty list\n",
    "    for n in range (1,101):          # numbers from 1 to 100 \n",
    "        if n % a == 0 or n % b == 0:    # checking for a remainder of zero\n",
    "            outList.append (n)          # adding values that meet the criteria to a new list\n",
    "\n",
    "    return(outList) # leave this line unchanged\n"
   ]
  },
  {
   "cell_type": "code",
   "execution_count": 103,
   "id": "779acd9c",
   "metadata": {},
   "outputs": [],
   "source": [
    "\"\"\"Adjust the two integer numbers to your liking.\"\"\"\n",
    "a = 10\n",
    "b = 11\n"
   ]
  },
  {
   "cell_type": "code",
   "execution_count": 104,
   "id": "5f716559",
   "metadata": {},
   "outputs": [
    {
     "name": "stdout",
     "output_type": "stream",
     "text": [
      "The following numbers between 1 and 100 are divisable by 10 or 11: \n",
      "[10, 11, 20, 22, 30, 33, 40, 44, 50, 55, 60, 66, 70, 77, 80, 88, 90, 99, 100]\n",
      "\n",
      "\n"
     ]
    }
   ],
   "source": [
    "\"\"\"Check the result of your code.\"\"\"\n",
    "print(\"The following numbers between 1 and 100 are divisable by {} or {}: \".format(a,b))\n",
    "print(divisionList(a,b))\n",
    "print(\"\\n\")"
   ]
  },
  {
   "cell_type": "code",
   "execution_count": 107,
   "id": "ece38a03",
   "metadata": {},
   "outputs": [],
   "source": [
    "#Check the result of your code.\n",
    "\n",
    "assert divisionList(99,100) == [99, 100]\n",
    "assert divisionList(15,21)  == [15, 21, 30, 42, 45, 60, 63, 75, 84, 90]\n"
   ]
  },
  {
   "cell_type": "markdown",
   "id": "58026706",
   "metadata": {},
   "source": [
    "### Task E.2\n",
    "\n",
    "You have given two lists containing a student grade book. Below that, samples show you more sophisticated list comprehensions. Study those examples and experiment with them in the available cells, further below."
   ]
  },
  {
   "cell_type": "code",
   "execution_count": 108,
   "id": "e02db687",
   "metadata": {},
   "outputs": [],
   "source": [
    "# Sample grade book data\n",
    "#             0      1       2        3      4      5       6        7         8\n",
    "headings = [\"ID\", \"Name\", \"Gender\", \"HW1\", \"HW2\", \"HW3\", \"Exam1\", \"Exam2\", \"FinalExam\"]\n",
    "\n",
    "grades = [\n",
    "#    0          1          2    3   4   5   6   7   8\n",
    " [\"b0001\", \"Jane Doe\",    \"F\", 95, 87, 92, 88, 93, 90] # 0\n",
    ",[\"b0002\", \"John Blue\",   \"M\", 55, 76, 89, 77, 82, 80] # 1\n",
    ",[\"b0003\", \"Kim Tester\",  \"F\", 80, 75, 65, 70, 75, 80] # 2\n",
    ",[\"b0004\", \"Larry Black\", \"M\", 90, 90, 92, 95, 85, 94] # 3\n",
    ",[\"b0005\", \"Susan White\", \"F\", 65, 52, 85, 45, 80, 82] # 4\n",
    "]\n"
   ]
  },
  {
   "cell_type": "code",
   "execution_count": 109,
   "id": "7296bc01",
   "metadata": {},
   "outputs": [
    {
     "name": "stdout",
     "output_type": "stream",
     "text": [
      "['b0001', 'Jane Doe', 'F', 95, 87, 92, 88, 93, 90]\n",
      "['b0002', 'John Blue', 'M', 55, 76, 89, 77, 82, 80]\n",
      "['b0003', 'Kim Tester', 'F', 80, 75, 65, 70, 75, 80]\n",
      "['b0004', 'Larry Black', 'M', 90, 90, 92, 95, 85, 94]\n",
      "['b0005', 'Susan White', 'F', 65, 52, 85, 45, 80, 82]\n"
     ]
    },
    {
     "data": {
      "text/plain": [
       "('Larry Black', 91.0)"
      ]
     },
     "execution_count": 109,
     "metadata": {},
     "output_type": "execute_result"
    }
   ],
   "source": [
    "# samples that use the Sample Grade Book in sample_grade_book.py\n",
    "# Don't import this -- just use cut-and-paste to test the individual\n",
    "#    expressions.\n",
    "\n",
    "# display the gradebook (will need to type this one in 2 lines)\n",
    "for g in grades:\n",
    "    print(g)\n",
    "\n",
    "# Larry Black's grade on Exam2\n",
    "grades[3][7]\n",
    "\n",
    "# Suppose you don't know the row/column numbers.\n",
    "# finding Larry Black's row\n",
    "headings.index('Name') # need to know the name column first\n",
    "\n",
    "[g[headings.index('Name')] for g in grades] # names of all students\n",
    "\n",
    "[g[headings.index('Name')] for g in grades].index('Larry Black') # find Larry Black's index\n",
    "\n",
    "# to get Larry Black's complete row in the gradebook\n",
    "grades[[g[headings.index('Name')] for g in grades].index('Larry Black')]\n",
    "\n",
    "# to get Larry Black's grades\n",
    "grades[[g[headings.index('Name')] for g in grades].index('Larry Black')][headings.index('HW1'):]\n",
    "\n",
    "#finding Exam2's column\n",
    "headings.index('Exam2')\n",
    "\n",
    "#finding Larry Black's grade on Exam2\n",
    "grades[[g[headings.index('Name')] for g in grades].index('Larry Black')][headings.index('Exam2')]\n",
    "\n",
    "# grades on Exam2\n",
    "[g[7] for g in grades]\n",
    "[g[headings.index('Exam2')] for g in grades]\n",
    "\n",
    "# average on hw2\n",
    "hw2 = [g[4] for g in grades]\n",
    "float(sum(hw2))/len(grades)\n",
    "# average on Exam2\n",
    "float(sum([g[headings.index('Exam2')] for g in grades]))/len(grades)\n",
    "\n",
    "\n",
    "# highest average\n",
    "h = max([sum(g[3:])/float(len(g[3:])) for g in grades])\n",
    "# index of that person\n",
    "pindex = [sum(g[3:])/float(len(g[3:])) for g in grades].index(h)\n",
    "# name and average\n",
    "grades[pindex][1], h\n",
    "# all together\n",
    "grades[[sum(g[3:])/float(len(g[3:])) for g in grades].index(max([sum(g[3:])/float(len(g[3:])) for g in grades]))\n",
    "][1], max([sum(g[3:])/float(len(g[3:])) for g in grades])"
   ]
  },
  {
   "cell_type": "markdown",
   "id": "07282a49",
   "metadata": {},
   "source": [
    "Try the examples by copying & pasting them into the code cells below. Study their output. You may also add more code cells, if you like. This exercise will not be graded, but it is helpful to understand list comprehensions at a very deep level."
   ]
  },
  {
   "cell_type": "code",
   "execution_count": 110,
   "id": "88b27229",
   "metadata": {},
   "outputs": [
    {
     "name": "stdout",
     "output_type": "stream",
     "text": [
      "['b0001', 'Jane Doe', 'F', 95, 87, 92, 88, 93, 90]\n",
      "['b0002', 'John Blue', 'M', 55, 76, 89, 77, 82, 80]\n",
      "['b0003', 'Kim Tester', 'F', 80, 75, 65, 70, 75, 80]\n",
      "['b0004', 'Larry Black', 'M', 90, 90, 92, 95, 85, 94]\n",
      "['b0005', 'Susan White', 'F', 65, 52, 85, 45, 80, 82]\n"
     ]
    }
   ],
   "source": [
    "### Try the examples in this code cell. (This will not be graded.)\n",
    "for g in grades:\n",
    "    print(g)\n"
   ]
  },
  {
   "cell_type": "code",
   "execution_count": 111,
   "id": "6410a8e9",
   "metadata": {},
   "outputs": [
    {
     "data": {
      "text/plain": [
       "3"
      ]
     },
     "execution_count": 111,
     "metadata": {},
     "output_type": "execute_result"
    }
   ],
   "source": [
    "### Try the examples in this code cell. (This will not be graded.)\n",
    "[g[headings.index('Name')] for g in grades].index('Larry Black') # find Larry Black's index\n",
    "\n",
    "\n"
   ]
  },
  {
   "cell_type": "code",
   "execution_count": 112,
   "id": "48f182b2",
   "metadata": {},
   "outputs": [
    {
     "data": {
      "text/plain": [
       "85"
      ]
     },
     "execution_count": 112,
     "metadata": {},
     "output_type": "execute_result"
    }
   ],
   "source": [
    "### Try the examples in this code cell. (This will not be graded.)\n",
    "\n",
    "grades[[g[headings.index('Name')] for g in grades].index('Larry Black')][headings.index('Exam2')]\n"
   ]
  },
  {
   "cell_type": "code",
   "execution_count": 113,
   "id": "4205a196",
   "metadata": {},
   "outputs": [
    {
     "data": {
      "text/plain": [
       "('Larry Black', 91.0)"
      ]
     },
     "execution_count": 113,
     "metadata": {},
     "output_type": "execute_result"
    }
   ],
   "source": [
    "### Try the examples in this code cell. (This will not be graded.)\n",
    "grades[[sum(g[3:])/float(len(g[3:])) for g in grades].index(max([sum(g[3:])/float(len(g[3:])) for g in grades]))\n",
    "][1], max([sum(g[3:])/float(len(g[3:])) for g in grades])\n"
   ]
  },
  {
   "cell_type": "markdown",
   "id": "cfe4cb43",
   "metadata": {},
   "source": [
    "---\n",
    "## Part F: Dictionaries \n",
    "\n",
    "### Task F.1  (3 points)\n",
    "For this task, generate a new dictionary that merges the lists `headings` and `grades` from *Task E.2* into one dictionary of the name `students`. \n",
    "The dictionary `students` should be a nested dictionary: a dictionary of 5 dictionaries, with each of these 5 dictionaries containing a row of the list `grades`. Use the student ID's as key of the outer dictionary. Then use the remaining header lines as keys of the inner dictionaries and the remaing columns as values of the inner dictionaries. It is sufficient to include only one of the grade columns, e.g. `HW1` or `Exam2`.\n",
    "For the dictionary keys, use the name names as listed in `headings` above. Use appropriate object types for the content numbers and strings."
   ]
  },
  {
   "cell_type": "code",
   "execution_count": 149,
   "id": "3553ad14",
   "metadata": {},
   "outputs": [],
   "source": [
    "\"\"\"Convert the list grades into a dictionary of the name students.\"\"\"\n",
    "\n",
    "students = {\n",
    "    'b0001' : {\"Name\":grades[0][1], \"Gender\":grades[0][2], \"HW1\":grades[0][3], \"HW2\":grades[0][4], \"HW3\":grades[0][5], \"Exam1\":grades[0][6], \"Exam2\":grades[0][7], \"FinalExam\":grades[0][8]},\n",
    "    'b0002' : {\"Name\":grades[1][1], \"Gender\":grades[1][2], \"HW1\":grades[1][3], \"HW2\":grades[1][4], \"HW3\":grades[1][5], \"Exam1\":grades[1][6], \"Exam2\":grades[1][7], \"FinalExam\":grades[1][8]},\n",
    "    'b0003' : {\"Name\":grades[2][1], \"Gender\":grades[2][2], \"HW1\":grades[2][3], \"HW2\":grades[2][4], \"HW3\":grades[2][5], \"Exam1\":grades[2][6], \"Exam2\":grades[2][7], \"FinalExam\":grades[2][8]},\n",
    "    'b0004' : {\"Name\":grades[3][1], \"Gender\":grades[3][2], \"HW1\":grades[3][3], \"HW2\":grades[3][4], \"HW3\":grades[3][5], \"Exam1\":grades[3][6], \"Exam2\":grades[3][7], \"FinalExam\":grades[3][8]},\n",
    "    'b0005' : {\"Name\":grades[4][1], \"Gender\":grades[4][2], \"HW1\":grades[4][3], \"HW2\":grades[4][4], \"HW3\":grades[4][5], \"Exam1\":grades[4][6], \"Exam2\":grades[4][7], \"FinalExam\":grades[4][8]}\n",
    "}"
   ]
  },
  {
   "cell_type": "code",
   "execution_count": 150,
   "id": "b301fb60",
   "metadata": {},
   "outputs": [],
   "source": [
    "#Check the result of your code.\n",
    "\n",
    "assert type(students) == dict\n",
    "assert list(students.keys())[0] == 'b0001'\n",
    "assert len(students) == 5\n",
    "assert len(students['b0001']) > 2\n",
    "assert students['b0001']['Name'] == 'Jane Doe'\n",
    "assert students['b0002']['Gender'] == 'M'"
   ]
  },
  {
   "cell_type": "markdown",
   "id": "c98ebd0f",
   "metadata": {},
   "source": [
    "### Task F.2  (1 point)\n",
    "Now, given this dictionary, how can you look up a any student's (e.g. Larry Black's) grade in any exam (e.g. Exam2) from the dictionary students? Write a chained list comprehension in the code cell below. "
   ]
  },
  {
   "cell_type": "code",
   "execution_count": 198,
   "id": "56471a5d",
   "metadata": {},
   "outputs": [
    {
     "data": {
      "text/plain": [
       "[85]"
      ]
     },
     "execution_count": 198,
     "metadata": {},
     "output_type": "execute_result"
    }
   ],
   "source": [
    "\"\"\"Enter your code.\"\"\"\n",
    "# List comprehension for Larry Black's exam 2 score\n",
    "[students[key]['Exam2'] for key in students if students[key]['Name'] == 'Larry Black']       "
   ]
  },
  {
   "cell_type": "markdown",
   "id": "a049e51b",
   "metadata": {},
   "source": [
    "---\n",
    "## Part G: Further Practise: (4 points).\n",
    "\n",
    "In this part, a few more coding exercises are given, which you may use for practise. Insert and label answer code cells below.\n",
    "\n",
    "1. Write a list comprehension, that generates a list of numbers between 1 and 1000 in steps of 100 and then returns the square of each value. (Hint: `range()`). (1 point)\n",
    "2. Using list comprehensions only, create a 4x4 idendity matrix. (1 point)\n",
    "3. Develop the code that transfers a list, L, of integers into a second list L2 containing the only the even numbers from L. (Hint: Modulus Operator) (1 point)\n",
    "4. Using the student gradebook dictionary form above, write a list comprehension (chain), which can find the Person with the highest grade in Exam 2, without knowing the content (but the structure) of the dataset. (1 point)"
   ]
  },
  {
   "cell_type": "code",
   "execution_count": 124,
   "id": "03b017b5-79c9-4b4d-a131-c081df17bf5f",
   "metadata": {},
   "outputs": [
    {
     "data": {
      "text/plain": [
       "[1, 10201, 40401, 90601, 160801, 251001, 361201, 491401, 641601, 811801]"
      ]
     },
     "execution_count": 124,
     "metadata": {},
     "output_type": "execute_result"
    }
   ],
   "source": [
    "# Ans 1 \n",
    "[i*i for i in range (1,1001,100)]"
   ]
  },
  {
   "cell_type": "code",
   "execution_count": 144,
   "id": "50319149-9603-4ed8-9f70-8d4dbc7aa164",
   "metadata": {},
   "outputs": [
    {
     "data": {
      "text/plain": [
       "[[0, 1, 2, 3], [0, 1, 2, 3], [0, 1, 2, 3], [0, 1, 2, 3]]"
      ]
     },
     "execution_count": 144,
     "metadata": {},
     "output_type": "execute_result"
    }
   ],
   "source": [
    "# Ans 2\n",
    "[[i for i in range(4)] for n in range (4)]"
   ]
  },
  {
   "cell_type": "code",
   "execution_count": 141,
   "id": "f33e66a5-23c1-43eb-8a3c-d23c4f01ab02",
   "metadata": {},
   "outputs": [
    {
     "name": "stdout",
     "output_type": "stream",
     "text": [
      "[2, 4, 6, 8, 10, 12, 14, 16, 18]\n"
     ]
    }
   ],
   "source": [
    "# Ans 3\n",
    "L = range(1,20)\n",
    "L2 = []\n",
    "for i in L:\n",
    "    if i % 2 == 0:\n",
    "         L2.append(i) \n",
    "print (L2)"
   ]
  },
  {
   "cell_type": "code",
   "execution_count": 214,
   "id": "49ac5db3-f44b-467d-aa23-763a35507b90",
   "metadata": {},
   "outputs": [
    {
     "ename": "TypeError",
     "evalue": "'dict_keys' object is not subscriptable",
     "output_type": "error",
     "traceback": [
      "\u001b[0;31m---------------------------------------------------------------------------\u001b[0m",
      "\u001b[0;31mTypeError\u001b[0m                                 Traceback (most recent call last)",
      "\u001b[0;32m/tmp/ipykernel_241091/4170220667.py\u001b[0m in \u001b[0;36m<module>\u001b[0;34m\u001b[0m\n\u001b[1;32m      1\u001b[0m \u001b[0;31m# Ans 4\u001b[0m\u001b[0;34m\u001b[0m\u001b[0;34m\u001b[0m\u001b[0;34m\u001b[0m\u001b[0m\n\u001b[0;32m----> 2\u001b[0;31m \u001b[0;34m[\u001b[0m\u001b[0mstudents\u001b[0m\u001b[0;34m[\u001b[0m\u001b[0mkey\u001b[0m\u001b[0;34m]\u001b[0m\u001b[0;34m[\u001b[0m\u001b[0;34m'Name'\u001b[0m\u001b[0;34m]\u001b[0m \u001b[0;32mfor\u001b[0m \u001b[0mkey\u001b[0m \u001b[0;32min\u001b[0m \u001b[0mstudents\u001b[0m \u001b[0;32mif\u001b[0m \u001b[0mstudents\u001b[0m\u001b[0;34m[\u001b[0m\u001b[0mkey\u001b[0m\u001b[0;34m]\u001b[0m\u001b[0;34m[\u001b[0m\u001b[0;34m'Exam2'\u001b[0m\u001b[0;34m]\u001b[0m \u001b[0;34m==\u001b[0m \u001b[0mmax\u001b[0m\u001b[0;34m(\u001b[0m\u001b[0mlist\u001b[0m\u001b[0;34m(\u001b[0m\u001b[0mstudents\u001b[0m\u001b[0;34m.\u001b[0m\u001b[0mkeys\u001b[0m\u001b[0;34m(\u001b[0m\u001b[0;34m)\u001b[0m\u001b[0;34m[\u001b[0m\u001b[0;34m'Exam2'\u001b[0m\u001b[0;34m]\u001b[0m\u001b[0;34m)\u001b[0m\u001b[0;34m)\u001b[0m\u001b[0;34m]\u001b[0m\u001b[0;34m\u001b[0m\u001b[0;34m\u001b[0m\u001b[0m\n\u001b[0m\u001b[1;32m      3\u001b[0m \u001b[0;31m#tricky\u001b[0m\u001b[0;34m\u001b[0m\u001b[0;34m\u001b[0m\u001b[0;34m\u001b[0m\u001b[0m\n",
      "\u001b[0;32m/tmp/ipykernel_241091/4170220667.py\u001b[0m in \u001b[0;36m<listcomp>\u001b[0;34m(.0)\u001b[0m\n\u001b[1;32m      1\u001b[0m \u001b[0;31m# Ans 4\u001b[0m\u001b[0;34m\u001b[0m\u001b[0;34m\u001b[0m\u001b[0;34m\u001b[0m\u001b[0m\n\u001b[0;32m----> 2\u001b[0;31m \u001b[0;34m[\u001b[0m\u001b[0mstudents\u001b[0m\u001b[0;34m[\u001b[0m\u001b[0mkey\u001b[0m\u001b[0;34m]\u001b[0m\u001b[0;34m[\u001b[0m\u001b[0;34m'Name'\u001b[0m\u001b[0;34m]\u001b[0m \u001b[0;32mfor\u001b[0m \u001b[0mkey\u001b[0m \u001b[0;32min\u001b[0m \u001b[0mstudents\u001b[0m \u001b[0;32mif\u001b[0m \u001b[0mstudents\u001b[0m\u001b[0;34m[\u001b[0m\u001b[0mkey\u001b[0m\u001b[0;34m]\u001b[0m\u001b[0;34m[\u001b[0m\u001b[0;34m'Exam2'\u001b[0m\u001b[0;34m]\u001b[0m \u001b[0;34m==\u001b[0m \u001b[0mmax\u001b[0m\u001b[0;34m(\u001b[0m\u001b[0mlist\u001b[0m\u001b[0;34m(\u001b[0m\u001b[0mstudents\u001b[0m\u001b[0;34m.\u001b[0m\u001b[0mkeys\u001b[0m\u001b[0;34m(\u001b[0m\u001b[0;34m)\u001b[0m\u001b[0;34m[\u001b[0m\u001b[0;34m'Exam2'\u001b[0m\u001b[0;34m]\u001b[0m\u001b[0;34m)\u001b[0m\u001b[0;34m)\u001b[0m\u001b[0;34m]\u001b[0m\u001b[0;34m\u001b[0m\u001b[0;34m\u001b[0m\u001b[0m\n\u001b[0m\u001b[1;32m      3\u001b[0m \u001b[0;31m#tricky\u001b[0m\u001b[0;34m\u001b[0m\u001b[0;34m\u001b[0m\u001b[0;34m\u001b[0m\u001b[0m\n",
      "\u001b[0;31mTypeError\u001b[0m: 'dict_keys' object is not subscriptable"
     ]
    }
   ],
   "source": [
    "# Ans 4\n",
    "[students[key]['Name'] for key in students if students[key]['Exam2'] == max(list(students.keys()['Exam2']))]     \n",
    "#tricky"
   ]
  },
  {
   "cell_type": "code",
   "execution_count": 202,
   "id": "5a51c455-aa46-46f4-9bed-eb93a33a9102",
   "metadata": {},
   "outputs": [
    {
     "data": {
      "text/plain": [
       "['b0001', 'b0002', 'b0003', 'b0004', 'b0005']"
      ]
     },
     "execution_count": 202,
     "metadata": {},
     "output_type": "execute_result"
    }
   ],
   "source": [
    "!git pull\n",
    "!git add E"
   ]
  },
  {
   "cell_type": "markdown",
   "id": "f098a163-a671-4231-8c36-730bf3e69e91",
   "metadata": {},
   "source": [
    "# "
   ]
  },
  {
   "cell_type": "markdown",
   "id": "b64ff886",
   "metadata": {},
   "source": [
    "---\n",
    "If you are satisfied with your notebook, save it and push it to your homework repository."
   ]
  }
 ],
 "metadata": {
  "kernelspec": {
   "display_name": "Python 3 (ipykernel)",
   "language": "python",
   "name": "python3"
  },
  "language_info": {
   "codemirror_mode": {
    "name": "ipython",
    "version": 3
   },
   "file_extension": ".py",
   "mimetype": "text/x-python",
   "name": "python",
   "nbconvert_exporter": "python",
   "pygments_lexer": "ipython3",
   "version": "3.9.5"
  }
 },
 "nbformat": 4,
 "nbformat_minor": 5
}
